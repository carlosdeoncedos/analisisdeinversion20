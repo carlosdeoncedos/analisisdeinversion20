{
 "cells": [
  {
   "cell_type": "markdown",
   "metadata": {},
   "source": [
    "# <font color='navygray'>MF013 Análisis de inversión:  Introducción a Algotrading</font>\n",
    "Por Carlos Crespo Elizondo, MSF<br>\n",
    "Clase del 14-10-20"
   ]
  },
  {
   "cell_type": "markdown",
   "metadata": {},
   "source": [
    "## <font color='navygray'>1. Sobre la clase pasada</font>\n",
    "La clase pasada vimos:\n",
    "1. Como guardar más de un valor en una variable\n",
    "    1. Listas\n",
    "    1. Tuplas\n",
    "1. Listas:\n",
    "    1. Como definir una lista\n",
    "    1. Como accesar a un elemento/valor de una lista\n",
    "    1. Modificar el valor de un elemente de una lista\n",
    "    1. Agregar elementos nuevos a una lista (.append( ) e .insert( ) )\n",
    "    1. Borrar elementos de una lista (del, .remove( ) y .pop( )\n",
    "    1. Ordenar una lista permanentemente (.sort( ) ) o momentaneo ( .sorted( ) )\n",
    "    1. Seleccionar rangos dentro de una lista (slice)\n",
    "1. Tuplas:\n",
    "    1. Como definir una tupla\n",
    "    1. Como accesar a un elemento/valor de una tupla\n",
    "    1. Que NO se puede modificar el valor de un elemente de una tupla\n",
    "    1. Seleccionar rangos dentro de una tupla"
   ]
  },
  {
   "cell_type": "markdown",
   "metadata": {},
   "source": [
    "## <font color='navygray'>2. Objetivos de esta clase</font>\n",
    "1. Diccionarios\n",
    "1. For Loop\n",
    "1. While loop\n",
    "1. If's\n",
    "1. Crear funciones"
   ]
  },
  {
   "cell_type": "markdown",
   "metadata": {},
   "source": [
    "## <font color='navygray'>3. Diccionarios</font>\n",
    "En Pyhton, un diccionario es una colección de una categoría relacionada a un valor _llave-valor_.:\n",
    "* Cada una de las llaves de un diccionario (eitqueta, nombre, etc.) está asociada a un valor\n",
    "* Podemos utilizar la llave para accesar directamente a su valor\n",
    "* Cada elemento del diccionario está separado por una coma\n",
    "* Se pueden definir cualquier cantidad de _llaves-valores_ dentro de un diccionario\n",
    "* Las el _valor_ de cada una de las _llaves_ puede estar formado por números, texto, listas, otro diccionario, etc.\n",
    "\n",
    "Para definir un diccionario utilizamos las llaves {...}"
   ]
  },
  {
   "cell_type": "markdown",
   "metadata": {},
   "source": [
    "### <font color='gray'>Crear nuestro primer diccionario</font>\n",
    "Ejercicio:  \n",
    "* Relacionar una serie de paises con el nombre de su moneda.\n",
    "* Las *__llaves__* son los *__paises__*\n",
    "* Los  *__valores__* son las *__monedas__*"
   ]
  },
  {
   "cell_type": "code",
   "execution_count": 1,
   "metadata": {},
   "outputs": [],
   "source": [
    "dicc_monedas = {'méxico':'peso mexicano',\n",
    "               'estados unidos':'dólar americano',\n",
    "                'japón':'yen',\n",
    "                'rusia':'rublo',\n",
    "                'alemania':'euro',\n",
    "                'suiza':'franco suizo'\n",
    "               }"
   ]
  },
  {
   "cell_type": "markdown",
   "metadata": {},
   "source": [
    "Recuerda:\n",
    "* El diccionario lo definimos con las llaves { }\n",
    "* Entre el *__valor__* y cada *__llave__* va separado por dos puntos \"__*:*__\"\n",
    "* Entre un par de __*llave-valor*__ y otro, lo separa una coma"
   ]
  },
  {
   "cell_type": "code",
   "execution_count": 2,
   "metadata": {},
   "outputs": [
    {
     "data": {
      "text/plain": [
       "{'méxico': 'peso mexicano',\n",
       " 'estados unidos': 'dólar americano',\n",
       " 'japón': 'yen',\n",
       " 'rusia': 'rublo',\n",
       " 'alemania': 'euro',\n",
       " 'suiza': 'franco suizo'}"
      ]
     },
     "execution_count": 2,
     "metadata": {},
     "output_type": "execute_result"
    }
   ],
   "source": [
    "dicc_monedas"
   ]
  },
  {
   "cell_type": "code",
   "execution_count": 3,
   "metadata": {},
   "outputs": [
    {
     "name": "stdout",
     "output_type": "stream",
     "text": [
      "{'méxico': 'peso mexicano', 'estados unidos': 'dólar americano', 'japón': 'yen', 'rusia': 'rublo', 'alemania': 'euro', 'suiza': 'franco suizo'}\n"
     ]
    }
   ],
   "source": [
    "print(dicc_monedas)"
   ]
  },
  {
   "cell_type": "markdown",
   "metadata": {},
   "source": [
    "#### <font color='gray'>Accesar a un valor</font>\n",
    "Para accesar a un valor del diccionario, necesitas la *__llave__*, que en este caso es el nombre de país:"
   ]
  },
  {
   "cell_type": "code",
   "execution_count": 4,
   "metadata": {},
   "outputs": [
    {
     "data": {
      "text/plain": [
       "'franco suizo'"
      ]
     },
     "execution_count": 4,
     "metadata": {},
     "output_type": "execute_result"
    }
   ],
   "source": [
    "dicc_monedas['suiza']"
   ]
  },
  {
   "cell_type": "markdown",
   "metadata": {},
   "source": [
    "Los diccionarios, al igual que las listas, son objetos dinámicos, que se pueden ir transformando.  Para dar de alta nuevos conceptos, se llama al diccionario, se agrega la nueva llave (entre corchetes) y se igual el nuevo valor."
   ]
  },
  {
   "cell_type": "markdown",
   "metadata": {},
   "source": [
    "#### <font color='gray'>Agregar un elemento nuevo</font>\n",
    "Vamos a agregar al diccionario _**monedas**_ a Dinamarca, pero con *un valor __erroneo__*:"
   ]
  },
  {
   "cell_type": "code",
   "execution_count": 5,
   "metadata": {},
   "outputs": [],
   "source": [
    "dicc_monedas['dinamarca']='euro'"
   ]
  },
  {
   "cell_type": "markdown",
   "metadata": {},
   "source": [
    "**NO** podemos definir un diccionario sin utilizar las { }.  El siguiente ejemplo arrojará un error:"
   ]
  },
  {
   "cell_type": "code",
   "execution_count": 6,
   "metadata": {},
   "outputs": [
    {
     "ename": "NameError",
     "evalue": "name 'dicc' is not defined",
     "output_type": "error",
     "traceback": [
      "\u001b[0;31m---------------------------------------------------------------------------\u001b[0m",
      "\u001b[0;31mNameError\u001b[0m                                 Traceback (most recent call last)",
      "\u001b[0;32m<ipython-input-6-99ee1959cfc4>\u001b[0m in \u001b[0;36m<module>\u001b[0;34m\u001b[0m\n\u001b[0;32m----> 1\u001b[0;31m \u001b[0mdicc\u001b[0m\u001b[0;34m[\u001b[0m\u001b[0;34m'a'\u001b[0m\u001b[0;34m]\u001b[0m\u001b[0;34m=\u001b[0m\u001b[0;36m1\u001b[0m\u001b[0;34m\u001b[0m\u001b[0;34m\u001b[0m\u001b[0m\n\u001b[0m",
      "\u001b[0;31mNameError\u001b[0m: name 'dicc' is not defined"
     ]
    }
   ],
   "source": [
    "dicc['a']=1"
   ]
  },
  {
   "cell_type": "markdown",
   "metadata": {},
   "source": [
    "Para ir construyendo el diccionario sin valores y luego irlo poblando poco a poco, es necesario crear primero un diccionario y después ya agregar las llaves-valores que se deseen:"
   ]
  },
  {
   "cell_type": "code",
   "execution_count": 7,
   "metadata": {},
   "outputs": [],
   "source": [
    "dicc = {}\n",
    "dicc['a']=1"
   ]
  },
  {
   "cell_type": "code",
   "execution_count": 8,
   "metadata": {},
   "outputs": [
    {
     "data": {
      "text/plain": [
       "{'a': 1}"
      ]
     },
     "execution_count": 8,
     "metadata": {},
     "output_type": "execute_result"
    }
   ],
   "source": [
    "dicc"
   ]
  },
  {
   "cell_type": "markdown",
   "metadata": {},
   "source": [
    "#### <font color='gray'>Modificar un elemento dentro del diccionario</font>\n",
    "Vamos a agregar al diccionario _**monedas**_ a Dinamarca, pero con *un valor __erroneo__*:"
   ]
  },
  {
   "cell_type": "code",
   "execution_count": 9,
   "metadata": {},
   "outputs": [],
   "source": [
    "dicc_monedas['dinamarca']='euro'"
   ]
  },
  {
   "cell_type": "code",
   "execution_count": 10,
   "metadata": {},
   "outputs": [
    {
     "data": {
      "text/plain": [
       "{'méxico': 'peso mexicano',\n",
       " 'estados unidos': 'dólar americano',\n",
       " 'japón': 'yen',\n",
       " 'rusia': 'rublo',\n",
       " 'alemania': 'euro',\n",
       " 'suiza': 'franco suizo',\n",
       " 'dinamarca': 'euro'}"
      ]
     },
     "execution_count": 10,
     "metadata": {},
     "output_type": "execute_result"
    }
   ],
   "source": [
    "dicc_monedas"
   ]
  },
  {
   "cell_type": "markdown",
   "metadata": {},
   "source": [
    "Sabemos que la moneda de dinamarca es la corona danesa.  Para corregir la información, es necesario volver a sobreescribir los datos:"
   ]
  },
  {
   "cell_type": "code",
   "execution_count": 11,
   "metadata": {},
   "outputs": [],
   "source": [
    "dicc_monedas['dinamarca']='corona danesa'"
   ]
  },
  {
   "cell_type": "code",
   "execution_count": 12,
   "metadata": {},
   "outputs": [
    {
     "data": {
      "text/plain": [
       "{'méxico': 'peso mexicano',\n",
       " 'estados unidos': 'dólar americano',\n",
       " 'japón': 'yen',\n",
       " 'rusia': 'rublo',\n",
       " 'alemania': 'euro',\n",
       " 'suiza': 'franco suizo',\n",
       " 'dinamarca': 'corona danesa'}"
      ]
     },
     "execution_count": 12,
     "metadata": {},
     "output_type": "execute_result"
    }
   ],
   "source": [
    "dicc_monedas"
   ]
  },
  {
   "cell_type": "markdown",
   "metadata": {},
   "source": [
    "#### <font color='gray'>Imprimir las monedas de cinco paises</font>\n",
    "Ejercicio:\n",
    "* Hacer una tarea de manera repetitiva para dar paso al FOR LOOP\n",
    "* Imprimir cada una de las monedas de nuestro diccionario"
   ]
  },
  {
   "cell_type": "code",
   "execution_count": 13,
   "metadata": {},
   "outputs": [
    {
     "name": "stdout",
     "output_type": "stream",
     "text": [
      "peso mexicano\n",
      "dólar americano\n",
      "yen\n",
      "rublo\n",
      "euro\n",
      "franco suizo\n",
      "corona danesa\n"
     ]
    }
   ],
   "source": [
    "print(dicc_monedas['méxico'])\n",
    "print(dicc_monedas['estados unidos'])\n",
    "print(dicc_monedas['japón'])\n",
    "print(dicc_monedas['rusia'])\n",
    "print(dicc_monedas['alemania'])\n",
    "print(dicc_monedas['suiza'])\n",
    "print(dicc_monedas['dinamarca'])"
   ]
  },
  {
   "cell_type": "markdown",
   "metadata": {},
   "source": [
    "#### <font color='gray'>\"Nested dictonary\", Diccionarios adentro de otro diccionarioo</font>\n",
    "Lo veremos más adelante en el curso, cuando nos topemos con una situación que ocupe usar un diccionario adentro de otro diccionario.  Puedes pensar en alguna situación donde sea necesario?"
   ]
  },
  {
   "cell_type": "markdown",
   "metadata": {},
   "source": [
    "## <font color='navygray'>4. For Loop</font>\n",
    "\"Looping\", nos ayuda a realizar la misma tarea repetitiva de una manera super fácil y rápida.<br>"
   ]
  },
  {
   "cell_type": "markdown",
   "metadata": {},
   "source": [
    "#### <font color='gray'>Crear un Loop básico</font>\n",
    "1. Crear una lista con nombres de monedas\n",
    "2. Imprimir c/u de los nombres usando FOR LOOP"
   ]
  },
  {
   "cell_type": "code",
   "execution_count": 14,
   "metadata": {},
   "outputs": [],
   "source": [
    "lista_acciones = ['cuervo', 'symec', 'ac', 'sanborns', 'amx', 'oma']"
   ]
  },
  {
   "cell_type": "code",
   "execution_count": 15,
   "metadata": {},
   "outputs": [
    {
     "name": "stdout",
     "output_type": "stream",
     "text": [
      "cuervo\n"
     ]
    }
   ],
   "source": [
    "print(lista_acciones[0])"
   ]
  },
  {
   "cell_type": "markdown",
   "metadata": {},
   "source": [
    "Un for loop se divide en tres partes:\n",
    "1. La declaración _**for ...  in**_\n",
    "1. Los datos que vamos a iterar cada uno de los elementos uno por uno (como lo son los elementos de una lista, diccionarios o rangos de números)\n",
    "1. Una variable que tomará el valor del elemento en turno\n",
    "\n",
    "En el caso de la lista *__lista_acciones__*, cada elemento (cuervo, symec, ac, sanborns, amx, oma) uno por uno pasará a la variable *__accion__* para que en cada ciclo imprimamos cada acción:"
   ]
  },
  {
   "cell_type": "code",
   "execution_count": 16,
   "metadata": {},
   "outputs": [
    {
     "name": "stdout",
     "output_type": "stream",
     "text": [
      "cuervo\n",
      "symec\n",
      "ac\n",
      "sanborns\n",
      "amx\n",
      "oma\n"
     ]
    }
   ],
   "source": [
    "for accion in lista_acciones:\n",
    "    print(accion)"
   ]
  },
  {
   "cell_type": "markdown",
   "metadata": {},
   "source": [
    "Este FOR LOOP que acabamos de hacer es equivalente a teclear las siguientes seis líneas:"
   ]
  },
  {
   "cell_type": "code",
   "execution_count": 17,
   "metadata": {},
   "outputs": [
    {
     "name": "stdout",
     "output_type": "stream",
     "text": [
      "cuervo\n",
      "symec\n",
      "ac\n",
      "sanborns\n",
      "amx\n",
      "oma\n"
     ]
    }
   ],
   "source": [
    "print('cuervo')\n",
    "print('symec')\n",
    "print('ac')\n",
    "print('sanborns')\n",
    "print('amx')\n",
    "print('oma')"
   ]
  },
  {
   "cell_type": "markdown",
   "metadata": {},
   "source": [
    "Son seis líneas del código anterior Vs. dos del FOR LOOP!  Cuál es más fácil?"
   ]
  },
  {
   "cell_type": "markdown",
   "metadata": {},
   "source": [
    "#### <font color='gray'>Introducir format para concatenar</font>\n",
    "La clase empecé explicando como usar .format para concatenar texto y variables.  La lógica de .format es indicar con unas llaves { } el espacio donde quires incluir o insertar el valor a concatenar.  Despés declaras las variables a concatenar en el orden secuencial como deseas utilizarlos, como lo podemos ver en el siguiente ejemplo:\n",
    "1. Como usar .f()\n",
    "1. Imprimir c/u de los nombres con un mensaje ('El ' + moneda + ', es una moneda!) FOR LOOP"
   ]
  },
  {
   "cell_type": "code",
   "execution_count": 18,
   "metadata": {},
   "outputs": [
    {
     "name": "stdout",
     "output_type": "stream",
     "text": [
      "El bid de gruma está en $18.2.\n"
     ]
    }
   ],
   "source": [
    "postura = 'bid'\n",
    "accion = 'gruma'\n",
    "precio = 18.2\n",
    "\n",
    "print('El {} de {} está en ${}.'.format(postura, accion, precio))"
   ]
  },
  {
   "cell_type": "markdown",
   "metadata": {},
   "source": [
    "Al cambiar el orden de las variables en el format, pierde todo sentido:"
   ]
  },
  {
   "cell_type": "code",
   "execution_count": 19,
   "metadata": {},
   "outputs": [
    {
     "name": "stdout",
     "output_type": "stream",
     "text": [
      "El gruma de 18.2 está en $bid.\n"
     ]
    }
   ],
   "source": [
    "print('El {} de {} está en ${}.'.format(accion, precio, postura))"
   ]
  },
  {
   "cell_type": "markdown",
   "metadata": {},
   "source": [
    "El usar variables con texto, nos permite cambiar rapidamente los valores que deseamos actualizar sin la necesidad de modificar directamente el texto:"
   ]
  },
  {
   "cell_type": "code",
   "execution_count": 20,
   "metadata": {},
   "outputs": [
    {
     "name": "stdout",
     "output_type": "stream",
     "text": [
      "El ask de elektra está en $503.7.\n"
     ]
    }
   ],
   "source": [
    "postura = 'ask'\n",
    "accion = 'elektra'\n",
    "precio = 503.7\n",
    "\n",
    "print('El {} de {} está en ${}.'.format(postura, accion, precio))"
   ]
  },
  {
   "cell_type": "markdown",
   "metadata": {},
   "source": [
    "Usar .format, es mucho más fácil que concatenar con \"+\".  PERO es más fácil conctatenar con .f.  Como lo descubrimos en clase, declaras la variable en el lugar preciso de donde quieres usarla.  Siguiendo los valores del ejemplo anterior, vamos a utilizar .f"
   ]
  },
  {
   "cell_type": "code",
   "execution_count": 21,
   "metadata": {},
   "outputs": [
    {
     "name": "stdout",
     "output_type": "stream",
     "text": [
      "El ask de elektra está en $503.7.\n"
     ]
    }
   ],
   "source": [
    "print(f'El {postura} de {accion} está en ${precio}.')"
   ]
  },
  {
   "cell_type": "markdown",
   "metadata": {},
   "source": [
    "Vamos a utilizar f para concatenar en un foor loop.  "
   ]
  },
  {
   "cell_type": "code",
   "execution_count": 22,
   "metadata": {},
   "outputs": [
    {
     "name": "stdout",
     "output_type": "stream",
     "text": [
      "La emisora \"cuervo\", cotiza en la BMV\n",
      "La emisora \"symec\", cotiza en la BMV\n",
      "La emisora \"ac\", cotiza en la BMV\n",
      "La emisora \"sanborns\", cotiza en la BMV\n",
      "La emisora \"amx\", cotiza en la BMV\n",
      "La emisora \"oma\", cotiza en la BMV\n"
     ]
    }
   ],
   "source": [
    "for accion in lista_acciones:\n",
    "    print(f'La emisora \"{accion}\", cotiza en la BMV')"
   ]
  },
  {
   "cell_type": "markdown",
   "metadata": {},
   "source": [
    "> **IMPORTANTE**:  _Quizá alguien se pueda confundir con el valor de las variables.  La variable \"**accion**\" definida en la celda 20 tenía como valor \"**elektra**\", pero en el FOR LOOP no se imprimió \"**elektra**\".  La razón es que la variable \"**accion**\" se sobreescribió con cada uno de los elementos de la lista \"**lista_acciones**\" durante el FOR LOOP_ en la celda 22."
   ]
  },
  {
   "cell_type": "markdown",
   "metadata": {},
   "source": [
    "El siguiente ejemplo **NO** me funcionó :) Lo que quería hacer era usar datos de dos listas distintas, pero me dí cuenta que no tenia forma de accesar a los valores de la nueva lista **_lista_numerica_**, pero sirvió de pretexto para también introducir los RANGOS!!!!"
   ]
  },
  {
   "cell_type": "code",
   "execution_count": 24,
   "metadata": {},
   "outputs": [
    {
     "ename": "TypeError",
     "evalue": "cannot unpack non-iterable int object",
     "output_type": "error",
     "traceback": [
      "\u001b[0;31m---------------------------------------------------------------------------\u001b[0m",
      "\u001b[0;31mTypeError\u001b[0m                                 Traceback (most recent call last)",
      "\u001b[0;32m<ipython-input-24-70ca21a4926e>\u001b[0m in \u001b[0;36m<module>\u001b[0;34m\u001b[0m\n\u001b[1;32m      1\u001b[0m \u001b[0mlista_numerica\u001b[0m \u001b[0;34m=\u001b[0m \u001b[0;34m[\u001b[0m\u001b[0;36m1\u001b[0m\u001b[0;34m,\u001b[0m\u001b[0;36m2.3\u001b[0m\u001b[0;34m,\u001b[0m\u001b[0;36m5\u001b[0m\u001b[0;34m,\u001b[0m\u001b[0;36m6\u001b[0m\u001b[0;34m,\u001b[0m\u001b[0;36m7\u001b[0m\u001b[0;34m,\u001b[0m\u001b[0;36m8\u001b[0m\u001b[0;34m]\u001b[0m\u001b[0;34m\u001b[0m\u001b[0;34m\u001b[0m\u001b[0m\n\u001b[0;32m----> 2\u001b[0;31m \u001b[0;32mfor\u001b[0m \u001b[0mnumero\u001b[0m\u001b[0;34m,\u001b[0m \u001b[0maccion\u001b[0m \u001b[0;32min\u001b[0m \u001b[0mlista_numerica\u001b[0m\u001b[0;34m:\u001b[0m\u001b[0;34m\u001b[0m\u001b[0;34m\u001b[0m\u001b[0m\n\u001b[0m\u001b[1;32m      3\u001b[0m     \u001b[0mprint\u001b[0m\u001b[0;34m(\u001b[0m\u001b[0;34m'La emisora número {}, se llama {}, cotiza en la BMV'\u001b[0m\u001b[0;34m.\u001b[0m\u001b[0mformat\u001b[0m\u001b[0;34m(\u001b[0m\u001b[0mnumero\u001b[0m\u001b[0;34m,\u001b[0m \u001b[0maccion\u001b[0m\u001b[0;34m)\u001b[0m\u001b[0;34m)\u001b[0m\u001b[0;34m\u001b[0m\u001b[0;34m\u001b[0m\u001b[0m\n",
      "\u001b[0;31mTypeError\u001b[0m: cannot unpack non-iterable int object"
     ]
    }
   ],
   "source": [
    "lista_numerica = [1,2.3,5,6,7,8]\n",
    "for numero, accion in lista_numerica:\n",
    "    print('La emisora número {}, se llama {}, cotiza en la BMV'.format(numero, accion))"
   ]
  },
  {
   "cell_type": "markdown",
   "metadata": {},
   "source": [
    "## <font color='navygray'>5. Función RANGE </font>\n",
    "La función \"*__range__*\", nos regresa una secuencia de números, que por *default* empieza en 0, por *default*, por *default* termina en el número especificado -1 y también por default se incrementa en 1 paso.<br><br>\n",
    "$$range(empieza, termina, pasos de incremento)$$"
   ]
  },
  {
   "cell_type": "code",
   "execution_count": 26,
   "metadata": {},
   "outputs": [
    {
     "data": {
      "text/plain": [
       "range(0, 10)"
      ]
     },
     "execution_count": 26,
     "metadata": {},
     "output_type": "execute_result"
    }
   ],
   "source": [
    "range(0, 10)"
   ]
  },
  {
   "cell_type": "markdown",
   "metadata": {},
   "source": [
    "A pesar que el rango está definido, no lo podemos visualizar.  Para verlo tenemos que convertir el rango en una lista:"
   ]
  },
  {
   "cell_type": "code",
   "execution_count": 27,
   "metadata": {},
   "outputs": [
    {
     "data": {
      "text/plain": [
       "[0, 1, 2, 3, 4, 5, 6, 7, 8, 9, 10]"
      ]
     },
     "execution_count": 27,
     "metadata": {},
     "output_type": "execute_result"
    }
   ],
   "source": [
    "list(range(0, 11))"
   ]
  },
  {
   "cell_type": "markdown",
   "metadata": {},
   "source": [
    "Ejercicio:  Crear una lista del 10 al 100 en pasos de 5.<br>\n",
    "Tiene dos opciones, hacer la lista manual:"
   ]
  },
  {
   "cell_type": "code",
   "execution_count": 29,
   "metadata": {},
   "outputs": [],
   "source": [
    "lista = [10, 15, 20, 25, 30, 35, 40, 45, 50, 55, 60, 65, 70, 75, 80, 85, 90, 95, 100]"
   ]
  },
  {
   "cell_type": "markdown",
   "metadata": {},
   "source": [
    "O la más fácil, generar una lista con la función range:"
   ]
  },
  {
   "cell_type": "code",
   "execution_count": 28,
   "metadata": {},
   "outputs": [
    {
     "data": {
      "text/plain": [
       "[10, 15, 20, 25, 30, 35, 40, 45, 50, 55, 60, 65, 70, 75, 80, 85, 90, 95, 100]"
      ]
     },
     "execution_count": 28,
     "metadata": {},
     "output_type": "execute_result"
    }
   ],
   "source": [
    "lista=list(range(10, 101, 5))\n",
    "lista"
   ]
  },
  {
   "cell_type": "markdown",
   "metadata": {},
   "source": [
    "#### <font color='gray'>Construir del 50 al 0 con brincos de 5 pasos</font>\n",
    "Las listas también pueden tener orden decreciente.  Necesitamos definir el inicio, el final y MUY IMPORTANTE AGREGAR -# de pasos"
   ]
  },
  {
   "cell_type": "code",
   "execution_count": 35,
   "metadata": {},
   "outputs": [
    {
     "data": {
      "text/plain": [
       "[10, 9, 8, 7, 6, 5, 4, 3, 2, 1]"
      ]
     },
     "execution_count": 35,
     "metadata": {},
     "output_type": "execute_result"
    }
   ],
   "source": [
    "list(range(10,0,-1))"
   ]
  },
  {
   "cell_type": "markdown",
   "metadata": {},
   "source": [
    "#### <font color='gray'>Construir del -3 al -21 con brincos de 3 pasos</font>"
   ]
  },
  {
   "cell_type": "code",
   "execution_count": 39,
   "metadata": {},
   "outputs": [
    {
     "data": {
      "text/plain": [
       "[-3, -6, -9, -12, -15, -18, -21]"
      ]
     },
     "execution_count": 39,
     "metadata": {},
     "output_type": "execute_result"
    }
   ],
   "source": [
    "list(range(-3,-22,-3))"
   ]
  },
  {
   "cell_type": "markdown",
   "metadata": {},
   "source": [
    "#### <font color='gray'>Construir For loop con range</font>\n",
    "La función LEN, nos dá el número de elementos que hay en una lista"
   ]
  },
  {
   "cell_type": "code",
   "execution_count": 47,
   "metadata": {},
   "outputs": [
    {
     "name": "stdout",
     "output_type": "stream",
     "text": [
      "1\n",
      "2\n",
      "3\n",
      "4\n",
      "5\n",
      "6\n",
      "7\n",
      "8\n",
      "9\n",
      "10\n"
     ]
    }
   ],
   "source": [
    "for valor in range(1,11):\n",
    "    print(valor)"
   ]
  },
  {
   "cell_type": "markdown",
   "metadata": {},
   "source": [
    "Como podemos ver en el FOR LOOP anterio, RANGE funciona perfectamente solo en un FOR LOOP"
   ]
  },
  {
   "cell_type": "markdown",
   "metadata": {},
   "source": [
    "La función LEN, nos dá el número de elementos que hay en una lista"
   ]
  },
  {
   "cell_type": "code",
   "execution_count": 41,
   "metadata": {},
   "outputs": [
    {
     "data": {
      "text/plain": [
       "['cuervo', 'symec', 'ac', 'sanborns', 'amx', 'oma']"
      ]
     },
     "execution_count": 41,
     "metadata": {},
     "output_type": "execute_result"
    }
   ],
   "source": [
    "lista_acciones"
   ]
  },
  {
   "cell_type": "code",
   "execution_count": 42,
   "metadata": {},
   "outputs": [
    {
     "data": {
      "text/plain": [
       "6"
      ]
     },
     "execution_count": 42,
     "metadata": {},
     "output_type": "execute_result"
    }
   ],
   "source": [
    "len(lista_acciones)"
   ]
  },
  {
   "cell_type": "code",
   "execution_count": 48,
   "metadata": {},
   "outputs": [
    {
     "data": {
      "text/plain": [
       "[1, 2, 3, 4, 5, 6]"
      ]
     },
     "execution_count": 48,
     "metadata": {},
     "output_type": "execute_result"
    }
   ],
   "source": [
    "lista_numerica = list(range(1,7))\n",
    "lista_numerica"
   ]
  },
  {
   "cell_type": "code",
   "execution_count": 49,
   "metadata": {},
   "outputs": [
    {
     "data": {
      "text/plain": [
       "6"
      ]
     },
     "execution_count": 49,
     "metadata": {},
     "output_type": "execute_result"
    }
   ],
   "source": [
    "len(lista_numerica)"
   ]
  },
  {
   "cell_type": "code",
   "execution_count": 50,
   "metadata": {},
   "outputs": [
    {
     "name": "stdout",
     "output_type": "stream",
     "text": [
      "La emisora número 1, se llama cuervo, cotiza en la BMV\n",
      "La emisora número 2, se llama symec, cotiza en la BMV\n",
      "La emisora número 3, se llama ac, cotiza en la BMV\n",
      "La emisora número 4, se llama sanborns, cotiza en la BMV\n",
      "La emisora número 5, se llama amx, cotiza en la BMV\n",
      "La emisora número 6, se llama oma, cotiza en la BMV\n"
     ]
    }
   ],
   "source": [
    "for valor in range(0,6):\n",
    "    accion = lista_acciones[valor]\n",
    "    numero = lista_numerica[valor]\n",
    "    print('La emisora número {}, se llama {}, cotiza en la BMV'.format(numero, accion))"
   ]
  },
  {
   "cell_type": "markdown",
   "metadata": {},
   "source": [
    "## <font color='navygray'>6. For Loop y diccionarios</font>\n",
    "Los diccionarios pueden usarse de diferentes maneras, por lo tanto hay diferentes maneras para hacer un FOR LOOP en un diccionario:\n",
    "* Unicamente las llaves .key( )\n",
    "* Unicamente los valores .value( )\n",
    "* Sobre la relación _llave-valor_ .items( )"
   ]
  },
  {
   "cell_type": "markdown",
   "metadata": {},
   "source": [
    "#### <font color='gray'>For loop y llaves</font>"
   ]
  },
  {
   "cell_type": "code",
   "execution_count": 51,
   "metadata": {},
   "outputs": [
    {
     "name": "stdout",
     "output_type": "stream",
     "text": [
      "méxico\n",
      "estados unidos\n",
      "japón\n",
      "rusia\n",
      "alemania\n",
      "suiza\n",
      "dinamarca\n"
     ]
    }
   ],
   "source": [
    "for llave in dicc_monedas.keys():\n",
    "    print(llave)"
   ]
  },
  {
   "cell_type": "markdown",
   "metadata": {},
   "source": [
    "#### <font color='gray'>For loop y valores</font>"
   ]
  },
  {
   "cell_type": "code",
   "execution_count": 52,
   "metadata": {},
   "outputs": [
    {
     "name": "stdout",
     "output_type": "stream",
     "text": [
      "peso mexicano\n",
      "dólar americano\n",
      "yen\n",
      "rublo\n",
      "euro\n",
      "franco suizo\n",
      "corona danesa\n"
     ]
    }
   ],
   "source": [
    "for llave in dicc_monedas.values():\n",
    "    print(llave)"
   ]
  },
  {
   "cell_type": "markdown",
   "metadata": {},
   "source": [
    "#### <font color='gray'>For loop y llave-valor</font>"
   ]
  },
  {
   "cell_type": "code",
   "execution_count": 53,
   "metadata": {
    "scrolled": true
   },
   "outputs": [
    {
     "name": "stdout",
     "output_type": "stream",
     "text": [
      "En méxico, la moneda es peso mexicano.\n",
      "En estados unidos, la moneda es dólar americano.\n",
      "En japón, la moneda es yen.\n",
      "En rusia, la moneda es rublo.\n",
      "En alemania, la moneda es euro.\n",
      "En suiza, la moneda es franco suizo.\n",
      "En dinamarca, la moneda es corona danesa.\n"
     ]
    }
   ],
   "source": [
    "for pais, moneda in dicc_monedas.items():\n",
    "    print(f'En {pais}, la moneda es {moneda}.')"
   ]
  },
  {
   "cell_type": "markdown",
   "metadata": {},
   "source": [
    "# <font color='navygray'>TEMAS PENDIENTES</font>"
   ]
  },
  {
   "cell_type": "markdown",
   "metadata": {},
   "source": [
    "## <font color='navygray'>While Loop</font>\n",
    "El *__while__* loop sirve para ciclar una secuencia de código hasta que se cumple cierta condición.<br><br>\n",
    "Imprimir del 1 al 10"
   ]
  },
  {
   "cell_type": "code",
   "execution_count": null,
   "metadata": {},
   "outputs": [],
   "source": []
  },
  {
   "cell_type": "markdown",
   "metadata": {},
   "source": [
    "## <font color='navygray'>If's</font>\n",
    "En algún momento tendremos que evaluar una condición y decidir que acción tomar.  La función *__if__*, nos permite eso precisamente.<br><br>\n",
    "Evaluar si un número x's es mayor, menor o igual a 10:"
   ]
  },
  {
   "cell_type": "code",
   "execution_count": null,
   "metadata": {},
   "outputs": [],
   "source": []
  },
  {
   "cell_type": "markdown",
   "metadata": {},
   "source": [
    "#### <font color='gray'>Condiciones multiples \"and\" y \"or\" </font>"
   ]
  },
  {
   "cell_type": "code",
   "execution_count": null,
   "metadata": {},
   "outputs": [],
   "source": []
  },
  {
   "cell_type": "markdown",
   "metadata": {},
   "source": [
    "#### <font color='gray'>Verificar si un valor se encuentra en la lista</font>"
   ]
  },
  {
   "cell_type": "code",
   "execution_count": null,
   "metadata": {},
   "outputs": [],
   "source": []
  }
 ],
 "metadata": {
  "kernelspec": {
   "display_name": "Python 3",
   "language": "python",
   "name": "python3"
  },
  "language_info": {
   "codemirror_mode": {
    "name": "ipython",
    "version": 3
   },
   "file_extension": ".py",
   "mimetype": "text/x-python",
   "name": "python",
   "nbconvert_exporter": "python",
   "pygments_lexer": "ipython3",
   "version": "3.7.4"
  }
 },
 "nbformat": 4,
 "nbformat_minor": 2
}
