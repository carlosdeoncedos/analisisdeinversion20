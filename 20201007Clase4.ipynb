{
 "cells": [
  {
   "cell_type": "markdown",
   "metadata": {},
   "source": [
    "# <font color='navygray'>MF013 Análisis de inversión:  Introducción a Algotrading</font>\n",
    "Por Carlos Crespo Elizondo, MSF<br>\n",
    "Clase del 07-10-20"
   ]
  },
  {
   "cell_type": "markdown",
   "metadata": {},
   "source": [
    "## <font color='navygray'>Guardar más información en una variable</font>\n"
   ]
  },
  {
   "cell_type": "markdown",
   "metadata": {},
   "source": [
    "### <font color='navygray'>Listas</font>\n"
   ]
  },
  {
   "cell_type": "markdown",
   "metadata": {},
   "source": [
    "Una *__lista__* es colección o agrupación de elementos (items) *en un orden en patricular*.  Pueden incluir texto (str), números (int/float), otra lista, etc.<br><br>\n",
    "En Python, las *__listas__* se definen con corchetes __[ ]__ y los elementos se separan entre si con una coma."
   ]
  },
  {
   "cell_type": "code",
   "execution_count": 1,
   "metadata": {},
   "outputs": [],
   "source": [
    "lista_precios = [10, 10.1, 10.5, 9.8]"
   ]
  },
  {
   "cell_type": "markdown",
   "metadata": {},
   "source": [
    "Las listas empeizan a enumerarse a partir de cero (index 0), por lo tanto el segundo elemento de la lista está en el espacio 1 y así susesivamente para cada uno de los elementos de la lista."
   ]
  },
  {
   "cell_type": "markdown",
   "metadata": {},
   "source": [
    "#### <font color='gray'>Accesar a un elemento de la lista</font>\n"
   ]
  },
  {
   "cell_type": "markdown",
   "metadata": {},
   "source": [
    "Para accesar a *__un__* valor o elemento de una lista se utiliza el *__nombre de la lista__* y enseguida se habre unos corchetes *__[ ]__* y adentro de los corchetes se pone el número de index de la lista.<br><br>\n",
    "Por ejemplo el valor *__10.1__* de la lista anterior ocupa el **index** número uno:"
   ]
  },
  {
   "cell_type": "code",
   "execution_count": 2,
   "metadata": {},
   "outputs": [
    {
     "data": {
      "text/plain": [
       "10.1"
      ]
     },
     "execution_count": 2,
     "metadata": {},
     "output_type": "execute_result"
    }
   ],
   "source": [
    "lista_precios[1]"
   ]
  },
  {
   "cell_type": "markdown",
   "metadata": {},
   "source": [
    "También se puede accesar a los valores del final hacia el inicio.  En este caso la enumeración cambia y empieza de -1 en adelante.  El -1 represente el último valor, -2 el penúltimo y así hasta llegar al primer valor de la lista."
   ]
  },
  {
   "cell_type": "code",
   "execution_count": 3,
   "metadata": {},
   "outputs": [
    {
     "data": {
      "text/plain": [
       "9.8"
      ]
     },
     "execution_count": 3,
     "metadata": {},
     "output_type": "execute_result"
    }
   ],
   "source": [
    "lista_precios[-1]"
   ]
  },
  {
   "cell_type": "markdown",
   "metadata": {},
   "source": [
    "#### <font color='gray'>Utilizar elementos de la lista</font>\n"
   ]
  },
  {
   "cell_type": "markdown",
   "metadata": {},
   "source": [
    "Para utilizar un elemento de la lista lo seleccionamos y luego le asignamos alguna operación.<br><br>\n",
    "Por ejemplo vamor a multiplicar el valor de 10.5 (index = 2) por 3"
   ]
  },
  {
   "cell_type": "code",
   "execution_count": 4,
   "metadata": {},
   "outputs": [
    {
     "data": {
      "text/plain": [
       "31.5"
      ]
     },
     "execution_count": 4,
     "metadata": {},
     "output_type": "execute_result"
    }
   ],
   "source": [
    "lista_precios[2] * 3"
   ]
  },
  {
   "cell_type": "markdown",
   "metadata": {},
   "source": [
    "también podemos asignar el valor de un elemento de la lista a una variable.  Por ejemplo, ahora escogemos el último valor de la lista, le asignamos la varible *__precio_ultimo__* y lo elevamos al cuadrado.  Recordar que para elevar al cuadrado, se utiliza dos veces el símbolo *:"
   ]
  },
  {
   "cell_type": "code",
   "execution_count": 5,
   "metadata": {},
   "outputs": [
    {
     "name": "stdout",
     "output_type": "stream",
     "text": [
      "El último precio de la lista es: 9.8\n"
     ]
    },
    {
     "data": {
      "text/plain": [
       "96.04000000000002"
      ]
     },
     "execution_count": 5,
     "metadata": {},
     "output_type": "execute_result"
    }
   ],
   "source": [
    "precio_ultimo = lista_precios[-1]\n",
    "print('El último precio de la lista es: '+ str(precio_ultimo))\n",
    "precio_ultimo**2"
   ]
  },
  {
   "cell_type": "markdown",
   "metadata": {},
   "source": [
    "#### <font color='gray'>Modificar elementos de la lista</font>\n"
   ]
  },
  {
   "cell_type": "markdown",
   "metadata": {},
   "source": [
    "Modificar el valor de una lista es muy sencillo, solo se necesita asignarle el nuevo valor al espacio donde se quiere actutalizar.  El valor original se borra.<br><br>\n",
    "Recordemos los valores de la lista:"
   ]
  },
  {
   "cell_type": "code",
   "execution_count": 6,
   "metadata": {},
   "outputs": [
    {
     "data": {
      "text/plain": [
       "[10, 10.1, 10.5, 9.8]"
      ]
     },
     "execution_count": 6,
     "metadata": {},
     "output_type": "execute_result"
    }
   ],
   "source": [
    "lista_precios"
   ]
  },
  {
   "cell_type": "markdown",
   "metadata": {},
   "source": [
    "Ahora vamos a modificar el último valor con index 3"
   ]
  },
  {
   "cell_type": "code",
   "execution_count": 7,
   "metadata": {},
   "outputs": [
    {
     "name": "stdout",
     "output_type": "stream",
     "text": [
      "[10, 10.1, 10.5, 10.55]\n"
     ]
    }
   ],
   "source": [
    "lista_precios[3] = 10.55\n",
    "print(lista_precios)"
   ]
  },
  {
   "cell_type": "markdown",
   "metadata": {},
   "source": [
    "#### <font color='gray'>Agregar elemento a una lista</font>\n",
    "\n"
   ]
  },
  {
   "cell_type": "markdown",
   "metadata": {},
   "source": [
    "Existen dos maneras de agregar valores a una lista.  La primer consiste en utilizar el método *__.append( )__*.  Y la segunda es utilizar el método *__insert( )__*."
   ]
  },
  {
   "cell_type": "markdown",
   "metadata": {},
   "source": [
    "##### <font color='gray'>Agregar elemento a la lista APPEND</font>\n"
   ]
  },
  {
   "cell_type": "markdown",
   "metadata": {},
   "source": [
    ".append( ), asigna el valor al final de la lista!<br><br>\n",
    "Vamos a asignar el valor 9.99 al final de *__lista_precios__*:"
   ]
  },
  {
   "cell_type": "code",
   "execution_count": 8,
   "metadata": {},
   "outputs": [
    {
     "data": {
      "text/plain": [
       "[10, 10.1, 10.5, 10.55, 9.99]"
      ]
     },
     "execution_count": 8,
     "metadata": {},
     "output_type": "execute_result"
    }
   ],
   "source": [
    "lista_precios.append(9.99)\n",
    "lista_precios"
   ]
  },
  {
   "cell_type": "markdown",
   "metadata": {},
   "source": [
    "##### <font color='gray'>Agregar elemento a la lista INSERT</font>\n"
   ]
  },
  {
   "cell_type": "markdown",
   "metadata": {},
   "source": [
    "En algunas ocasiones es necesario ingresar un valor nuevo en alguna punto específico de la lista.  Para estos casos se usa .insert(ubicación index, valor agregar):"
   ]
  },
  {
   "cell_type": "code",
   "execution_count": 9,
   "metadata": {},
   "outputs": [],
   "source": [
    "lista_precios.insert(2, 5.2)"
   ]
  },
  {
   "cell_type": "code",
   "execution_count": 10,
   "metadata": {},
   "outputs": [
    {
     "data": {
      "text/plain": [
       "[10, 10.1, 5.2, 10.5, 10.55, 9.99]"
      ]
     },
     "execution_count": 10,
     "metadata": {},
     "output_type": "execute_result"
    }
   ],
   "source": [
    "lista_precios"
   ]
  },
  {
   "cell_type": "markdown",
   "metadata": {},
   "source": [
    "#### <font color='gray'>Eliminar elemento de la lista</font>"
   ]
  },
  {
   "cell_type": "markdown",
   "metadata": {},
   "source": [
    "Existen tres maneras de eliminar un valor de una lista:\n",
    "1. Función *__del__*:  Elimina el valor en función a su ubicación en el index\n",
    "1. Método *__remove__*:  Elimina el valor en función precisamente del valor\n",
    "1. Método *__pop__*:  Elimina el valor PERO lo asinga a una variable"
   ]
  },
  {
   "cell_type": "markdown",
   "metadata": {},
   "source": [
    "##### <font color='gray'>Eliminar elemento de la lista DEL</font>\n"
   ]
  },
  {
   "cell_type": "code",
   "execution_count": 11,
   "metadata": {},
   "outputs": [
    {
     "name": "stdout",
     "output_type": "stream",
     "text": [
      "[10, 10.1, 5.2, 10.5, 10.55, 9.99]\n"
     ]
    },
    {
     "data": {
      "text/plain": [
       "[10.1, 5.2, 10.5, 10.55, 9.99]"
      ]
     },
     "execution_count": 11,
     "metadata": {},
     "output_type": "execute_result"
    }
   ],
   "source": [
    "print(lista_precios)\n",
    "del lista_precios[0]\n",
    "lista_precios"
   ]
  },
  {
   "cell_type": "markdown",
   "metadata": {},
   "source": [
    "#### <font color='gray'>Eliminar elemento de la lista REMOVE</font>\n"
   ]
  },
  {
   "cell_type": "code",
   "execution_count": 12,
   "metadata": {},
   "outputs": [
    {
     "name": "stdout",
     "output_type": "stream",
     "text": [
      "[10.1, 5.2, 10.5, 10.55, 9.99]\n"
     ]
    },
    {
     "data": {
      "text/plain": [
       "[10.1, 10.5, 10.55, 9.99]"
      ]
     },
     "execution_count": 12,
     "metadata": {},
     "output_type": "execute_result"
    }
   ],
   "source": [
    "print(lista_precios)\n",
    "lista_precios.remove(5.2)\n",
    "lista_precios"
   ]
  },
  {
   "cell_type": "markdown",
   "metadata": {},
   "source": [
    "#### <font color='gray'>Eliminar elemento de la lista POP</font>\n"
   ]
  },
  {
   "cell_type": "code",
   "execution_count": 13,
   "metadata": {
    "scrolled": true
   },
   "outputs": [
    {
     "name": "stdout",
     "output_type": "stream",
     "text": [
      "[10.1, 10.5, 10.55, 9.99]\n",
      "[10.1, 10.5, 9.99]\n",
      "10.55\n"
     ]
    }
   ],
   "source": [
    "print(lista_precios)\n",
    "valor = lista_precios.pop(-2)\n",
    "print(lista_precios)\n",
    "print(valor)"
   ]
  },
  {
   "cell_type": "markdown",
   "metadata": {},
   "source": []
  },
  {
   "cell_type": "markdown",
   "metadata": {},
   "source": [
    "#### <font color='gray'>Ordenar una lista: A--->Z / Z--->A</font>\n"
   ]
  },
  {
   "cell_type": "markdown",
   "metadata": {},
   "source": [
    "Las listas se pueden ordenar de manera asendente y desendiente.  El orden puede ser permanente o momentaneo."
   ]
  },
  {
   "cell_type": "markdown",
   "metadata": {},
   "source": [
    "##### <font color='gray'>Arreglar la lista de manera asendente permanentemente SORT </font>\n"
   ]
  },
  {
   "cell_type": "markdown",
   "metadata": {},
   "source": [
    "Para ordenar una lista de manera permanente se utiliza el método *__.sort( )__*.  El método tiene el parámetro (se puede ver como un setting) *__reverse__*.  Por default, reverse = False y no necesitas definirlo si se quiere un orden asentente."
   ]
  },
  {
   "cell_type": "code",
   "execution_count": 14,
   "metadata": {},
   "outputs": [
    {
     "name": "stdout",
     "output_type": "stream",
     "text": [
      "Lista antes de ordenarla:\n",
      "[10.1, 10.5, 9.99]\n"
     ]
    }
   ],
   "source": [
    "print('Lista antes de ordenarla:')\n",
    "print(lista_precios)"
   ]
  },
  {
   "cell_type": "code",
   "execution_count": 15,
   "metadata": {},
   "outputs": [
    {
     "name": "stdout",
     "output_type": "stream",
     "text": [
      "Lista ordenada:\n",
      "[9.99, 10.1, 10.5]\n"
     ]
    }
   ],
   "source": [
    "\n",
    "print('Lista ordenada:')\n",
    "lista_precios.sort()\n",
    "print(lista_precios)"
   ]
  },
  {
   "cell_type": "code",
   "execution_count": 16,
   "metadata": {},
   "outputs": [
    {
     "data": {
      "text/plain": [
       "['a', 'b', 'd', 'e']"
      ]
     },
     "execution_count": 16,
     "metadata": {},
     "output_type": "execute_result"
    }
   ],
   "source": [
    "lista_texto = ['b','a','e','d']\n",
    "lista_texto.sort()\n",
    "lista_texto"
   ]
  },
  {
   "cell_type": "markdown",
   "metadata": {},
   "source": [
    "##### <font color='gray'>Arreglar la lista de manera desendiente permanentemente SORT</font>\n"
   ]
  },
  {
   "cell_type": "markdown",
   "metadata": {},
   "source": [
    "Cuando se desea un orden desendiente sí se necesita especificar reverse como verdadero:"
   ]
  },
  {
   "cell_type": "code",
   "execution_count": 17,
   "metadata": {},
   "outputs": [],
   "source": [
    "lista_precios.sort(reverse=True)"
   ]
  },
  {
   "cell_type": "code",
   "execution_count": 18,
   "metadata": {},
   "outputs": [
    {
     "data": {
      "text/plain": [
       "[10.5, 10.1, 9.99]"
      ]
     },
     "execution_count": 18,
     "metadata": {},
     "output_type": "execute_result"
    }
   ],
   "source": [
    "lista_precios"
   ]
  },
  {
   "cell_type": "markdown",
   "metadata": {},
   "source": [
    "##### <font color='gray'>Arreglar la lista de manera desendiente momentaneamente SORTED</font>\n"
   ]
  },
  {
   "cell_type": "markdown",
   "metadata": {},
   "source": [
    "Aun y que no vamos a ver un sort momentaneo en la clase, aprovechamos para ver como se realiza:"
   ]
  },
  {
   "cell_type": "code",
   "execution_count": 19,
   "metadata": {},
   "outputs": [
    {
     "name": "stdout",
     "output_type": "stream",
     "text": [
      "[9.99, 10.1, 10.5]\n"
     ]
    }
   ],
   "source": [
    "print(sorted(lista_precios))"
   ]
  },
  {
   "cell_type": "markdown",
   "metadata": {},
   "source": [
    "#### <font color='gray'>Rebanar (seccionar) la lista</font>\n"
   ]
  },
  {
   "cell_type": "markdown",
   "metadata": {},
   "source": [
    "Para seleccionar un rango de elementos de una lista, debemos de utilizar el concepto que en Python se llama _slice_ / _slicing_, rebanar en español.<br><br>\n",
    "Para hacer un slice, se necesita definir el index del primer y último elemento.  Es importante recordar que Python no toma encuenta el último elemento, sino uno previo al último.  De tal manera que si quieres seleccionar los primeros tres elementos de una lista se tiene que pedir del 0 al 3, para que Python regrese los elementos index 0, 1 y 2.<br><br>\n",
    "Con todos los movimientos anteriores la lista se acortó, por lo que la voy a volver a escribir:"
   ]
  },
  {
   "cell_type": "code",
   "execution_count": 20,
   "metadata": {},
   "outputs": [],
   "source": [
    "lista_precios = [10.55, 10.15, 9.99, 10.55, 10.15, 9.99]"
   ]
  },
  {
   "cell_type": "markdown",
   "metadata": {},
   "source": [
    "Vamos a seleccionar los valores index 1, 2 y 3 (10.15, 9.99, 10.55):"
   ]
  },
  {
   "cell_type": "code",
   "execution_count": 21,
   "metadata": {},
   "outputs": [
    {
     "data": {
      "text/plain": [
       "[10.15, 9.99, 10.55]"
      ]
     },
     "execution_count": 21,
     "metadata": {},
     "output_type": "execute_result"
    }
   ],
   "source": [
    "lista_precios[1:4]"
   ]
  },
  {
   "cell_type": "markdown",
   "metadata": {},
   "source": [
    "Para seleccionar los valores index 0 al 2 (10.55, 10.15, 9.99):"
   ]
  },
  {
   "cell_type": "code",
   "execution_count": 22,
   "metadata": {},
   "outputs": [
    {
     "data": {
      "text/plain": [
       "[10.55, 10.15, 9.99]"
      ]
     },
     "execution_count": 22,
     "metadata": {},
     "output_type": "execute_result"
    }
   ],
   "source": [
    "lista_precios[0:3]"
   ]
  },
  {
   "cell_type": "markdown",
   "metadata": {},
   "source": [
    "El slice anterior empieza en el index 0, pues estamos seleccionando el primer valor de la lista.  Como es el inicio de la lista, podemos omitir definir el index 0:"
   ]
  },
  {
   "cell_type": "code",
   "execution_count": 23,
   "metadata": {},
   "outputs": [
    {
     "data": {
      "text/plain": [
       "[10.55, 10.15, 9.99]"
      ]
     },
     "execution_count": 23,
     "metadata": {},
     "output_type": "execute_result"
    }
   ],
   "source": [
    "lista_precios[:3]"
   ]
  },
  {
   "cell_type": "markdown",
   "metadata": {},
   "source": [
    "De la misma manera, también se puede omitir el último elemento de la lista!  Por ejemplo, el siguiente slice seleccionan los valores del index 3, 4 y 5:"
   ]
  },
  {
   "cell_type": "code",
   "execution_count": 24,
   "metadata": {},
   "outputs": [
    {
     "data": {
      "text/plain": [
       "[10.55, 10.15, 9.99]"
      ]
     },
     "execution_count": 24,
     "metadata": {},
     "output_type": "execute_result"
    }
   ],
   "source": [
    "lista_precios[3:6]"
   ]
  },
  {
   "cell_type": "code",
   "execution_count": 25,
   "metadata": {},
   "outputs": [
    {
     "data": {
      "text/plain": [
       "[10.55, 10.15, 9.99]"
      ]
     },
     "execution_count": 25,
     "metadata": {},
     "output_type": "execute_result"
    }
   ],
   "source": [
    "lista_precios[3:]"
   ]
  },
  {
   "cell_type": "markdown",
   "metadata": {},
   "source": [
    "Por último y esto no lo vimos en clases...  que pasa si multiplicamos una lista por 2?:"
   ]
  },
  {
   "cell_type": "code",
   "execution_count": 26,
   "metadata": {
    "scrolled": true
   },
   "outputs": [
    {
     "data": {
      "text/plain": [
       "[10.55,\n",
       " 10.15,\n",
       " 9.99,\n",
       " 10.55,\n",
       " 10.15,\n",
       " 9.99,\n",
       " 10.55,\n",
       " 10.15,\n",
       " 9.99,\n",
       " 10.55,\n",
       " 10.15,\n",
       " 9.99]"
      ]
     },
     "execution_count": 26,
     "metadata": {},
     "output_type": "execute_result"
    }
   ],
   "source": [
    "lista_precios * 2"
   ]
  },
  {
   "cell_type": "markdown",
   "metadata": {},
   "source": [
    "simplemente duplicó la lista"
   ]
  },
  {
   "cell_type": "markdown",
   "metadata": {},
   "source": [
    "### <font color='navygray'>Tuplas</font>\n"
   ]
  },
  {
   "cell_type": "markdown",
   "metadata": {},
   "source": [
    "Las tuplas son una especie de listas de Python que una vez declaradas no se pueden editar. Las tuplas se declaran utilizando ( ) en lugar de [ ]. Toda la lógica de las listas, aplica para las tuplas, excepto modificar la misma."
   ]
  },
  {
   "cell_type": "code",
   "execution_count": 27,
   "metadata": {},
   "outputs": [],
   "source": [
    "tupla_precios = (9.99, 9.99, 10.15)"
   ]
  },
  {
   "cell_type": "code",
   "execution_count": 28,
   "metadata": {},
   "outputs": [
    {
     "data": {
      "text/plain": [
       "(9.99, 9.99)"
      ]
     },
     "execution_count": 28,
     "metadata": {},
     "output_type": "execute_result"
    }
   ],
   "source": [
    "tupla_precios[:2]"
   ]
  },
  {
   "cell_type": "markdown",
   "metadata": {},
   "source": [
    "En el siguiente renglon se va a generar un error al intentar asignarle un valor al index 0:"
   ]
  },
  {
   "cell_type": "code",
   "execution_count": 29,
   "metadata": {},
   "outputs": [
    {
     "ename": "TypeError",
     "evalue": "'tuple' object does not support item assignment",
     "output_type": "error",
     "traceback": [
      "\u001b[0;31m---------------------------------------------------------------------------\u001b[0m",
      "\u001b[0;31mTypeError\u001b[0m                                 Traceback (most recent call last)",
      "\u001b[0;32m<ipython-input-29-e6b5dfd10495>\u001b[0m in \u001b[0;36m<module>\u001b[0;34m\u001b[0m\n\u001b[0;32m----> 1\u001b[0;31m \u001b[0mtupla_precios\u001b[0m\u001b[0;34m[\u001b[0m\u001b[0;36m0\u001b[0m\u001b[0;34m]\u001b[0m \u001b[0;34m=\u001b[0m \u001b[0;36m10\u001b[0m\u001b[0;34m\u001b[0m\u001b[0;34m\u001b[0m\u001b[0m\n\u001b[0m",
      "\u001b[0;31mTypeError\u001b[0m: 'tuple' object does not support item assignment"
     ]
    }
   ],
   "source": [
    "tupla_precios[0] = 10"
   ]
  },
  {
   "cell_type": "markdown",
   "metadata": {},
   "source": [
    "#### <font color='gray'>Modificar tupla rescribiendola</font>\n"
   ]
  },
  {
   "cell_type": "markdown",
   "metadata": {},
   "source": [
    "La única manera de modificar una tupla es volviéndola a definir (borrar y escribir):"
   ]
  },
  {
   "cell_type": "code",
   "execution_count": 30,
   "metadata": {},
   "outputs": [
    {
     "name": "stdout",
     "output_type": "stream",
     "text": [
      "(9.99, 9.99, 10.15)\n"
     ]
    },
    {
     "data": {
      "text/plain": [
       "(9.99, 9.99, 10.15, 10)"
      ]
     },
     "execution_count": 30,
     "metadata": {},
     "output_type": "execute_result"
    }
   ],
   "source": [
    "print(tupla_precios)\n",
    "tupla_precios = (9.99, 9.99, 10.15, 10)\n",
    "tupla_precios"
   ]
  },
  {
   "cell_type": "markdown",
   "metadata": {},
   "source": [
    "### <font color='navygray'>Diccionarios</font>\n"
   ]
  },
  {
   "cell_type": "markdown",
   "metadata": {},
   "source": [
    "En Python, los diccionarios son una colección de datos relacionados por una *__llave__* y un *__valor__*.  Se definen con *__\"{ }\"__*, y pueden de ser de cualquier tamaño. A diferencia de las listas, los diccionarios no tienen un orden específico ya que todo se relaciona por el nombre de la llave<br><br>. Pueden estar formados por diccionarios adentro del diccionario, listas, etc.<br><br>"
   ]
  },
  {
   "cell_type": "code",
   "execution_count": null,
   "metadata": {},
   "outputs": [],
   "source": []
  },
  {
   "cell_type": "markdown",
   "metadata": {},
   "source": [
    "#### <font color='gray'>Accesar a un valor del diccionario</font>\n"
   ]
  },
  {
   "cell_type": "code",
   "execution_count": null,
   "metadata": {},
   "outputs": [],
   "source": []
  },
  {
   "cell_type": "markdown",
   "metadata": {},
   "source": [
    "#### <font color='gray'>Agregar elementos a un diccionario ya construido</font>\n"
   ]
  },
  {
   "cell_type": "code",
   "execution_count": null,
   "metadata": {},
   "outputs": [],
   "source": []
  },
  {
   "cell_type": "markdown",
   "metadata": {},
   "source": [
    "#### <font color='gray'>Agregar elementos a un diccionario ya construido</font>\n"
   ]
  },
  {
   "cell_type": "code",
   "execution_count": null,
   "metadata": {},
   "outputs": [],
   "source": []
  },
  {
   "cell_type": "markdown",
   "metadata": {},
   "source": [
    "#### <font color='gray'>Modificar un valor de un diccionario</font>\n"
   ]
  },
  {
   "cell_type": "code",
   "execution_count": null,
   "metadata": {},
   "outputs": [],
   "source": []
  },
  {
   "cell_type": "markdown",
   "metadata": {},
   "source": [
    "#### <font color='gray'>Eliminar llave/valor de un diccionario POP</font>\n"
   ]
  },
  {
   "cell_type": "code",
   "execution_count": null,
   "metadata": {},
   "outputs": [],
   "source": []
  },
  {
   "cell_type": "markdown",
   "metadata": {},
   "source": [
    "## <font color='navygray'>For Loop</font>\n"
   ]
  },
  {
   "cell_type": "code",
   "execution_count": null,
   "metadata": {},
   "outputs": [],
   "source": []
  },
  {
   "cell_type": "markdown",
   "metadata": {},
   "source": [
    "#### <font color='gray'>En listas</font>\n"
   ]
  },
  {
   "cell_type": "code",
   "execution_count": null,
   "metadata": {},
   "outputs": [],
   "source": []
  },
  {
   "cell_type": "markdown",
   "metadata": {},
   "source": [
    "#### <font color='gray'>En diccionarios</font>\n"
   ]
  },
  {
   "cell_type": "code",
   "execution_count": null,
   "metadata": {},
   "outputs": [],
   "source": []
  }
 ],
 "metadata": {
  "kernelspec": {
   "display_name": "Python 3",
   "language": "python",
   "name": "python3"
  },
  "language_info": {
   "codemirror_mode": {
    "name": "ipython",
    "version": 3
   },
   "file_extension": ".py",
   "mimetype": "text/x-python",
   "name": "python",
   "nbconvert_exporter": "python",
   "pygments_lexer": "ipython3",
   "version": "3.7.4"
  }
 },
 "nbformat": 4,
 "nbformat_minor": 2
}
