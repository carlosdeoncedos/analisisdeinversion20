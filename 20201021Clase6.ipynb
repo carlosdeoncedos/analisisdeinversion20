{
 "cells": [
  {
   "cell_type": "markdown",
   "metadata": {},
   "source": [
    "# <font color='navygray'>MF013 Análisis de inversión:  Introducción a Algotrading</font>\n",
    "Por Carlos Crespo Elizondo, MSF<br>\n",
    "Clase del 21-10-20\n",
    "\n",
    "Mi libreta de la clase acompañada con comentarios de lo que fuimos haciendo!"
   ]
  },
  {
   "cell_type": "markdown",
   "metadata": {},
   "source": [
    "## <font color='navygray'>1. Sobre la clase pasada (14-10-20)</font>\n",
    "La clase pasada vimos:\n",
    "1. Los diccionarios\n",
    "    * Que son y sus elementos (llaves/valores)\n",
    "    * Crear un diccionario\n",
    "    * Accesar a sus valores\n",
    "    * Modificar sus valores\n",
    "    * Alta de llaves nuevas\n",
    "1. For Loop\n",
    "1. La función \"f\" para concatenar los valores de variables\n",
    "1. La función \"Range\", para crear rangos numéricos\n",
    "1. For Loops usados en diccionarios\n",
    "    * Accesar solo a las llaves del diccionario\n",
    "    * Accesar solo a los valores del diccionario\n",
    "    * Accesar a la llave y al valor correspondiente\n",
    "    \n",
    "Quedaron pendientes dos temas:\n",
    "1. While Loop\n",
    "1. IF's"
   ]
  },
  {
   "cell_type": "markdown",
   "metadata": {},
   "source": [
    "## <font color='navygray'>2. Imagina la siguiente situación:</font>\n",
    "Tenemos un portafolio con cinco activos financieros.  El costo de cada uno de los activos lo capturamos en la lista \"*__lista_precios_activos__*\".  El costo de las comisiones (10%) por la compra de cada activo lo capturamos en la lista \"*__lista_costos_comisiones__*\"."
   ]
  },
  {
   "cell_type": "code",
   "execution_count": 1,
   "metadata": {},
   "outputs": [],
   "source": [
    "lista_precios = [12, 5, 20, 18, 10]\n",
    "lista_comision = [1.2, .5, 2, 1.8, 1]"
   ]
  },
  {
   "cell_type": "markdown",
   "metadata": {},
   "source": [
    "Ahora queremos calcular el costo unitario final de cada activo.  De alguna manera pudieramos creer que simplemente sumamos las dos listas.  Al sumar las dos listas, realmente las estamos juntando."
   ]
  },
  {
   "cell_type": "code",
   "execution_count": 2,
   "metadata": {},
   "outputs": [
    {
     "data": {
      "text/plain": [
       "[12, 5, 20, 18, 10, 1.2, 0.5, 2, 1.8, 1]"
      ]
     },
     "execution_count": 2,
     "metadata": {},
     "output_type": "execute_result"
    }
   ],
   "source": [
    "lista_precio_final = lista_precios + lista_comision\n",
    "lista_precio_final"
   ]
  },
  {
   "cell_type": "markdown",
   "metadata": {},
   "source": [
    "Si queremos sumar los elementos de una lista con los elementos de otra lista en base a su posición en el index usando unicamente PYTHON, es decir, sin el apoyo de otras librerías, tenemos que hacer lo siguiente:"
   ]
  },
  {
   "cell_type": "code",
   "execution_count": 3,
   "metadata": {},
   "outputs": [],
   "source": [
    "lista = []\n",
    "\n",
    "for activo, comision in zip(lista_precios, lista_comision):\n",
    "    lista.append(activo + comision)"
   ]
  },
  {
   "cell_type": "markdown",
   "metadata": {},
   "source": [
    "Este ejemplo lo uso de pretexto para darle paso a la introducción a Numpy!"
   ]
  },
  {
   "cell_type": "markdown",
   "metadata": {},
   "source": [
    "## <font color='navy'>3. Numpy</font>\n",
    "![alt text](https://drive.google.com/uc?export=view&id=179rEqet8kzNlBEx0YVJTY1m04YL_2wz_)\n",
    "\n",
    "La página web de NumPy, lo define como:\n",
    "> *Numpy es __el__ paquete fundamental para la computación científica en Python.  Contiene entre otras cosas:*\n",
    "* _Un poderoso arreglo multidimensional_\n",
    "* _Herramientas para integrar código de C/C++, Fortran_\n",
    "* _Algebra lineal, transformaciones de Fourier, capacidad de generación de números aleatorios._<br><br>\n",
    "\n",
    ">_A parte de su uso científico obvio, Numpy puede ser usado de manera eficiente como un contenedor multidimensional de datos, lo que le permite a Numpy integrarse se manera natural con una gran variedad de bases de datos._\n",
    "\n",
    "Las librerías las cargamos al sistema utilizando la función *__import__*, seguido del nombre de la librería a importar.  También python nos da la oportunidad de ponerle un sobrenombre a la librería.<br><br>\n",
    "Por convención el sobrenombre que utilizamos para importar Numpy es \"np\":"
   ]
  },
  {
   "cell_type": "code",
   "execution_count": 4,
   "metadata": {},
   "outputs": [],
   "source": [
    "import numpy as np"
   ]
  },
  {
   "cell_type": "markdown",
   "metadata": {},
   "source": [
    "El ejemplo anterior que nos llevó 5 líneas de código, lo podemos hacer en tres líneas y con una interpretación más fácil y limpia:"
   ]
  },
  {
   "cell_type": "code",
   "execution_count": 5,
   "metadata": {},
   "outputs": [],
   "source": [
    "array_precios = np.array([12, 5, 20, 18, 10])\n",
    "array_comisiones = array_precios * 0.1\n",
    "array_precio_final = array_precios + array_comisiones"
   ]
  },
  {
   "cell_type": "code",
   "execution_count": 6,
   "metadata": {},
   "outputs": [
    {
     "data": {
      "text/plain": [
       "array([13.2,  5.5, 22. , 19.8, 11. ])"
      ]
     },
     "execution_count": 6,
     "metadata": {},
     "output_type": "execute_result"
    }
   ],
   "source": [
    "array_precio_final"
   ]
  },
  {
   "cell_type": "markdown",
   "metadata": {},
   "source": [
    "Recuerden que numpy entregó un array (arreglo en español), que es la forma de transformar una lista a una especie de \"vector\".\n",
    "\n",
    "Esto no lo vimos en clase pero si el objetivo es tener el precio final, podemos hacer el código en dos líneas:"
   ]
  },
  {
   "cell_type": "code",
   "execution_count": 7,
   "metadata": {},
   "outputs": [],
   "source": [
    "array_precios = np.array([12, 5, 20, 18, 10])\n",
    "array_precio_final = array_precios*1.1"
   ]
  },
  {
   "cell_type": "code",
   "execution_count": 8,
   "metadata": {},
   "outputs": [
    {
     "data": {
      "text/plain": [
       "array([13.2,  5.5, 22. , 19.8, 11. ])"
      ]
     },
     "execution_count": 8,
     "metadata": {},
     "output_type": "execute_result"
    }
   ],
   "source": [
    "array_precio_final"
   ]
  },
  {
   "cell_type": "markdown",
   "metadata": {},
   "source": [
    "Otra variante que vimos en la clase es definir con una variable la comisión y después utilizar la variable para calcular los valores:"
   ]
  },
  {
   "cell_type": "code",
   "execution_count": 9,
   "metadata": {},
   "outputs": [],
   "source": [
    "comision = .1\n",
    "array_precios = np.array([12, 5, 20, 18, 10])\n",
    "array_comisiones = array_precios * comision"
   ]
  },
  {
   "cell_type": "code",
   "execution_count": 10,
   "metadata": {},
   "outputs": [
    {
     "data": {
      "text/plain": [
       "array([1.2, 0.5, 2. , 1.8, 1. ])"
      ]
     },
     "execution_count": 10,
     "metadata": {},
     "output_type": "execute_result"
    }
   ],
   "source": [
    "array_comisiones"
   ]
  },
  {
   "cell_type": "code",
   "execution_count": 11,
   "metadata": {},
   "outputs": [],
   "source": [
    "array_precio_final = array_precios + array_comisiones"
   ]
  },
  {
   "cell_type": "code",
   "execution_count": 12,
   "metadata": {
    "scrolled": true
   },
   "outputs": [
    {
     "data": {
      "text/plain": [
       "array([13.2,  5.5, 22. , 19.8, 11. ])"
      ]
     },
     "execution_count": 12,
     "metadata": {},
     "output_type": "execute_result"
    }
   ],
   "source": [
    "array_precio_final"
   ]
  },
  {
   "cell_type": "markdown",
   "metadata": {},
   "source": [
    "Recuerden que Numpy tiene muhcas funciones al igual que valores, como son $\\pi$ y $e$"
   ]
  },
  {
   "cell_type": "code",
   "execution_count": 13,
   "metadata": {},
   "outputs": [
    {
     "data": {
      "text/plain": [
       "3.141592653589793"
      ]
     },
     "execution_count": 13,
     "metadata": {},
     "output_type": "execute_result"
    }
   ],
   "source": [
    "np.pi"
   ]
  },
  {
   "cell_type": "code",
   "execution_count": 14,
   "metadata": {
    "scrolled": true
   },
   "outputs": [
    {
     "data": {
      "text/plain": [
       "2.718281828459045"
      ]
     },
     "execution_count": 14,
     "metadata": {},
     "output_type": "execute_result"
    }
   ],
   "source": [
    "np.e"
   ]
  },
  {
   "cell_type": "markdown",
   "metadata": {},
   "source": [
    "Podemos crear rangos númericos en Numpy con la función \"*__arange( )__*"
   ]
  },
  {
   "cell_type": "code",
   "execution_count": 15,
   "metadata": {},
   "outputs": [],
   "source": [
    "x = np.arange(11)"
   ]
  },
  {
   "cell_type": "code",
   "execution_count": 16,
   "metadata": {},
   "outputs": [
    {
     "data": {
      "text/plain": [
       "array([ 0,  1,  2,  3,  4,  5,  6,  7,  8,  9, 10])"
      ]
     },
     "execution_count": 16,
     "metadata": {},
     "output_type": "execute_result"
    }
   ],
   "source": [
    "x"
   ]
  },
  {
   "cell_type": "markdown",
   "metadata": {},
   "source": [
    "Esto tampoco lo vimos en clases, pero recuerden que comentamos que podemos definir un inicio, un final y los pasos, igual que al utilizar la función \"*__range__* de Python:\n",
    "$$arange(empieza, termina, pasos de incremento)$$"
   ]
  },
  {
   "cell_type": "code",
   "execution_count": 17,
   "metadata": {},
   "outputs": [
    {
     "data": {
      "text/plain": [
       "array([ 10,  20,  30,  40,  50,  60,  70,  80,  90, 100])"
      ]
     },
     "execution_count": 17,
     "metadata": {},
     "output_type": "execute_result"
    }
   ],
   "source": [
    "y = np.arange(10, 101, 10)\n",
    "y"
   ]
  },
  {
   "cell_type": "code",
   "execution_count": 18,
   "metadata": {},
   "outputs": [
    {
     "data": {
      "text/plain": [
       "array([10,  9,  8,  7,  6,  5,  4,  3,  2,  1,  0])"
      ]
     },
     "execution_count": 18,
     "metadata": {},
     "output_type": "execute_result"
    }
   ],
   "source": [
    "z = np.arange(10,-1,-1)\n",
    "z"
   ]
  },
  {
   "cell_type": "code",
   "execution_count": null,
   "metadata": {},
   "outputs": [],
   "source": []
  },
  {
   "cell_type": "markdown",
   "metadata": {},
   "source": [
    "## <font color='navy'>4. Pandas</font>\n",
    "![alt text](https://drive.google.com/uc?export=view&id=178XxLPUuqJ-us_q67ViEoWMlrsc_8X1o)\n",
    "\n",
    ">\"*__pandas__ es una librería de código abierto que proporciona estructuras de datos y herramientas de análisis de datos de alto rendimiento y fáciles de usar para el lenguaje de programación Python.*\"<cite data-cite='pandas'>(pydata.org, 2019)</cite><br><br>\n",
    "\n",
    "Pandas tiene varios tipos de estructuras de datos.  Los dos más importantes son:\n",
    "* __*Series*__: _Arreglo unidimensional de datos y contiene etiquetas para los datos._\n",
    "* __*DataFrames*__:  _Es una estructuras de datos que contiene ejes etiquetados (filas y columnas).  Es la estructura de datos principal en pandas_\n",
    "\n",
    "La convención para importar pandas es utilizar \"__*pd*__\"."
   ]
  },
  {
   "cell_type": "code",
   "execution_count": 19,
   "metadata": {},
   "outputs": [],
   "source": [
    "import pandas as pd"
   ]
  },
  {
   "cell_type": "markdown",
   "metadata": {},
   "source": [
    "Vamos a crear una Serie de pandas utilizando la función *__\"Series\"__*:"
   ]
  },
  {
   "cell_type": "code",
   "execution_count": 20,
   "metadata": {},
   "outputs": [
    {
     "data": {
      "text/plain": [
       "0    13.2\n",
       "1     5.5\n",
       "2    22.0\n",
       "3    19.8\n",
       "4    11.0\n",
       "dtype: float64"
      ]
     },
     "execution_count": 20,
     "metadata": {},
     "output_type": "execute_result"
    }
   ],
   "source": [
    "serie_precios = pd.Series([13.2,  5.5, 22. , 19.8, 11.])\n",
    "serie_precios"
   ]
  },
  {
   "cell_type": "markdown",
   "metadata": {},
   "source": [
    "En el resultado anterior, podemos ver que cada valor está directamente asociado a un index-etiqueta.  En este caso como no definimos los nombres de los index, pandas los definió de manera numérica.<br><br>\n",
    "Recuerda que en este caso debemos de indicarle a Python que la función \"*__Series__*\" es parte de Pandas, por eso utilizamos la conotación \"*__pd.Series__*\".<br><br>\n",
    "Los valores de la Serie los podemos accesar por su *__index__*:"
   ]
  },
  {
   "cell_type": "code",
   "execution_count": 21,
   "metadata": {},
   "outputs": [
    {
     "data": {
      "text/plain": [
       "261.36"
      ]
     },
     "execution_count": 21,
     "metadata": {},
     "output_type": "execute_result"
    }
   ],
   "source": [
    "serie_precios[0]*serie_precios[3]"
   ]
  },
  {
   "cell_type": "markdown",
   "metadata": {},
   "source": [
    "Por rangos:"
   ]
  },
  {
   "cell_type": "code",
   "execution_count": 22,
   "metadata": {},
   "outputs": [
    {
     "data": {
      "text/plain": [
       "0    13.2\n",
       "1     5.5\n",
       "2    22.0\n",
       "dtype: float64"
      ]
     },
     "execution_count": 22,
     "metadata": {},
     "output_type": "execute_result"
    }
   ],
   "source": [
    "serie_precios[:3]"
   ]
  },
  {
   "cell_type": "code",
   "execution_count": 23,
   "metadata": {},
   "outputs": [
    {
     "data": {
      "text/plain": [
       "3    19.8\n",
       "4    11.0\n",
       "dtype: float64"
      ]
     },
     "execution_count": 23,
     "metadata": {},
     "output_type": "execute_result"
    }
   ],
   "source": [
    "serie_precios[3:]"
   ]
  },
  {
   "cell_type": "markdown",
   "metadata": {},
   "source": [
    "Las Series también pueden contener texto:"
   ]
  },
  {
   "cell_type": "code",
   "execution_count": 24,
   "metadata": {},
   "outputs": [
    {
     "data": {
      "text/plain": [
       "0    a\n",
       "1    a\n",
       "2    b\n",
       "dtype: object"
      ]
     },
     "execution_count": 24,
     "metadata": {},
     "output_type": "execute_result"
    }
   ],
   "source": [
    "serie_texto = pd.Series(['a', 'a', 'b'])\n",
    "serie_texto"
   ]
  },
  {
   "cell_type": "markdown",
   "metadata": {},
   "source": [
    "Ahora vamos a construir una Serie utilizando fechas como index.  Primero definiremos una lista con las fechas y después haremos la Serie:"
   ]
  },
  {
   "cell_type": "code",
   "execution_count": 25,
   "metadata": {},
   "outputs": [],
   "source": [
    "lista_fechas = ['10/10/20', '10/11/20', '10/12/20', '10/13/20', '10/14/20']"
   ]
  },
  {
   "cell_type": "code",
   "execution_count": 26,
   "metadata": {
    "scrolled": true
   },
   "outputs": [
    {
     "data": {
      "text/plain": [
       "10/10/20    13.2\n",
       "10/11/20     5.5\n",
       "10/12/20    22.0\n",
       "10/13/20    19.8\n",
       "10/14/20    11.0\n",
       "dtype: float64"
      ]
     },
     "execution_count": 26,
     "metadata": {},
     "output_type": "execute_result"
    }
   ],
   "source": [
    "serie_precios = pd.Series([13.2,  5.5, 22. , 19.8, 11.], index = lista_fechas)\n",
    "serie_precios"
   ]
  },
  {
   "cell_type": "markdown",
   "metadata": {},
   "source": [
    "Ahora podemos accesar a los valores utilizando las fechas o el valor del index:"
   ]
  },
  {
   "cell_type": "code",
   "execution_count": 27,
   "metadata": {},
   "outputs": [
    {
     "data": {
      "text/plain": [
       "19.8"
      ]
     },
     "execution_count": 27,
     "metadata": {},
     "output_type": "execute_result"
    }
   ],
   "source": [
    "serie_precios['10/13/20']"
   ]
  },
  {
   "cell_type": "code",
   "execution_count": 28,
   "metadata": {},
   "outputs": [
    {
     "data": {
      "text/plain": [
       "19.8"
      ]
     },
     "execution_count": 28,
     "metadata": {},
     "output_type": "execute_result"
    }
   ],
   "source": [
    "serie_precios[3]"
   ]
  },
  {
   "cell_type": "code",
   "execution_count": 29,
   "metadata": {},
   "outputs": [
    {
     "data": {
      "text/plain": [
       "19.8"
      ]
     },
     "execution_count": 29,
     "metadata": {},
     "output_type": "execute_result"
    }
   ],
   "source": [
    "serie_precios[-2]"
   ]
  },
  {
   "cell_type": "markdown",
   "metadata": {},
   "source": [
    "También podemos seleccionar más de una fecha de la siguiente manera"
   ]
  },
  {
   "cell_type": "code",
   "execution_count": 30,
   "metadata": {},
   "outputs": [
    {
     "data": {
      "text/plain": [
       "10/12/20    22.0\n",
       "10/13/20    19.8\n",
       "dtype: float64"
      ]
     },
     "execution_count": 30,
     "metadata": {},
     "output_type": "execute_result"
    }
   ],
   "source": [
    "serie_precios[['10/12/20', '10/13/20']]"
   ]
  },
  {
   "cell_type": "markdown",
   "metadata": {},
   "source": [
    "Esta forma causó algo de confusión por los corchetes dobles.  Veanlo de la siguiente manera, el primer corchete representa la selección de un index, como lo habíamos hecho desde Python, el segundo corchete representa una lista, es este caso los una lista con las fechas de interés.<br><br>\n",
    "Una alternativa para aclarar esta confusión es primero crear una lista y después seleccionar las fechas:"
   ]
  },
  {
   "cell_type": "code",
   "execution_count": 31,
   "metadata": {},
   "outputs": [
    {
     "data": {
      "text/plain": [
       "10/12/20    22.0\n",
       "10/13/20    19.8\n",
       "dtype: float64"
      ]
     },
     "execution_count": 31,
     "metadata": {},
     "output_type": "execute_result"
    }
   ],
   "source": [
    "lista_rangos = ['10/12/20', '10/13/20']\n",
    "serie_precios[lista_rangos]"
   ]
  },
  {
   "cell_type": "markdown",
   "metadata": {},
   "source": [
    "Podemos filtrar valores que cumplen cierta condición, como ver todos aquellos que sean mayores a 15:"
   ]
  },
  {
   "cell_type": "code",
   "execution_count": 32,
   "metadata": {},
   "outputs": [
    {
     "data": {
      "text/plain": [
       "10/12/20    22.0\n",
       "10/13/20    19.8\n",
       "dtype: float64"
      ]
     },
     "execution_count": 32,
     "metadata": {},
     "output_type": "execute_result"
    }
   ],
   "source": [
    "serie_precios[serie_precios>15]"
   ]
  },
  {
   "cell_type": "markdown",
   "metadata": {},
   "source": [
    "Podemos interpretar la lógica en dos partes:\n",
    "1. Entre corchetes:  En \"*__serie_precios__*\" selecciona todos los valores mayores de 15 \n",
    "1. Continuación:  Que se encuentran en \"*__serie_precios__*\"\n",
    "\n",
    "Quizá ahorta no tenga sentido esta lógica, por lo pronto veanló como una receta de cocina.  Más adelante hará sentido!<br><br>\n",
    "Tabla con las operaciones lógicas de Python\n",
    "<table>\n",
    "  <tr>\n",
    "    <th style=\"text-align:center;\">Simbolo</th>\n",
    "    <th style=\"text-align:center;\">Descripción</th>\n",
    "  </tr>\n",
    "  \n",
    "  <tr>\n",
    "    <td style=\"text-align:center;\">==</td>\n",
    "    <td style=\"text-align:right;\">Igualdad</tr>\n",
    "  \n",
    "  <tr>\n",
    "    <td style=\"text-align:center;\">!=</td>\n",
    "    <td style=\"text-align:right;\">Desigualdad</td>\n",
    "  </tr>\n",
    "  \n",
    "  <tr>\n",
    "    <td style=\"text-align:center;\">&gt;</td>\n",
    "    <td style=\"text-align:right;\">Mayor que</td>\n",
    "  </tr>\n",
    "\n",
    "  <tr>\n",
    "    <td style=\"text-align:center;\">&gt;=</td>\n",
    "    <td style=\"text-align:right;\">Mayor igual que</td>\n",
    "  </tr>\n",
    "  \n",
    "  <tr>\n",
    "    <td style=\"text-align:center;\">&lt;</td>\n",
    "    <td style=\"text-align:right;\">Menor que</td>\n",
    "    </tr>\n",
    "\n",
    "  <tr>\n",
    "    <td style=\"text-align:center;\">&lt;=</td>\n",
    "    <td style=\"text-align:right;\">Menor igual que</td>\n",
    "    </tr>\n",
    " \n",
    "</table>\n",
    "\n",
    "Las siguientes celdas se explican solas:"
   ]
  },
  {
   "cell_type": "code",
   "execution_count": 33,
   "metadata": {},
   "outputs": [
    {
     "data": {
      "text/plain": [
       "10/13/20    19.8\n",
       "dtype: float64"
      ]
     },
     "execution_count": 33,
     "metadata": {},
     "output_type": "execute_result"
    }
   ],
   "source": [
    "serie_precios[serie_precios==19.8]"
   ]
  },
  {
   "cell_type": "code",
   "execution_count": 34,
   "metadata": {},
   "outputs": [
    {
     "data": {
      "text/plain": [
       "10/10/20    1320.0\n",
       "10/11/20     550.0\n",
       "10/12/20    2200.0\n",
       "10/13/20    1980.0\n",
       "10/14/20    1100.0\n",
       "dtype: float64"
      ]
     },
     "execution_count": 34,
     "metadata": {},
     "output_type": "execute_result"
    }
   ],
   "source": [
    "serie_precios * 100"
   ]
  },
  {
   "cell_type": "code",
   "execution_count": 35,
   "metadata": {},
   "outputs": [
    {
     "data": {
      "text/plain": [
       "10/10/20    0.0\n",
       "10/11/20    0.0\n",
       "10/12/20    0.0\n",
       "10/13/20    0.0\n",
       "10/14/20    0.0\n",
       "dtype: float64"
      ]
     },
     "execution_count": 35,
     "metadata": {},
     "output_type": "execute_result"
    }
   ],
   "source": [
    "serie_precios - serie_precios"
   ]
  },
  {
   "cell_type": "code",
   "execution_count": 36,
   "metadata": {},
   "outputs": [
    {
     "data": {
      "text/plain": [
       "22.0"
      ]
     },
     "execution_count": 36,
     "metadata": {},
     "output_type": "execute_result"
    }
   ],
   "source": [
    "serie_precios[2]"
   ]
  },
  {
   "cell_type": "markdown",
   "metadata": {},
   "source": [
    "Podemos construir una Serie a partir de un diccionario.  La llave del diccionario se toma como el index:"
   ]
  },
  {
   "cell_type": "code",
   "execution_count": 37,
   "metadata": {},
   "outputs": [
    {
     "data": {
      "text/plain": [
       "{'CX': 6, 'ALFAA': 20, 'FEMSAUBD': 135, 'AMXL': 23}"
      ]
     },
     "execution_count": 37,
     "metadata": {},
     "output_type": "execute_result"
    }
   ],
   "source": [
    "dicc_cierre = {'CX':6, 'ALFAA':20, 'FEMSAUBD':135, 'AMXL':23}\n",
    "dicc_cierre"
   ]
  },
  {
   "cell_type": "code",
   "execution_count": 38,
   "metadata": {},
   "outputs": [
    {
     "data": {
      "text/plain": [
       "CX            6\n",
       "ALFAA        20\n",
       "FEMSAUBD    135\n",
       "AMXL         23\n",
       "dtype: int64"
      ]
     },
     "execution_count": 38,
     "metadata": {},
     "output_type": "execute_result"
    }
   ],
   "source": [
    "precios_cierre = pd.Series(dicc_cierre)\n",
    "precios_cierre"
   ]
  },
  {
   "cell_type": "code",
   "execution_count": 39,
   "metadata": {},
   "outputs": [
    {
     "data": {
      "text/plain": [
       "6"
      ]
     },
     "execution_count": 39,
     "metadata": {},
     "output_type": "execute_result"
    }
   ],
   "source": [
    "precios_cierre['CX']"
   ]
  },
  {
   "cell_type": "markdown",
   "metadata": {},
   "source": [
    "Para ordenar los valores de mayor a menor, utilizamos *__.sort_values( )__* y utilzando el argumento (opción) \"*__ascending__*\" igual a falso"
   ]
  },
  {
   "cell_type": "code",
   "execution_count": 40,
   "metadata": {},
   "outputs": [
    {
     "data": {
      "text/plain": [
       "FEMSAUBD    135\n",
       "AMXL         23\n",
       "ALFAA        20\n",
       "CX            6\n",
       "dtype: int64"
      ]
     },
     "execution_count": 40,
     "metadata": {},
     "output_type": "execute_result"
    }
   ],
   "source": [
    "precios_cierre.sort_values(ascending=False)"
   ]
  },
  {
   "cell_type": "code",
   "execution_count": 41,
   "metadata": {},
   "outputs": [
    {
     "data": {
      "text/plain": [
       "CX            6\n",
       "ALFAA        20\n",
       "FEMSAUBD    135\n",
       "AMXL         23\n",
       "dtype: int64"
      ]
     },
     "execution_count": 41,
     "metadata": {},
     "output_type": "execute_result"
    }
   ],
   "source": [
    "precios_cierre"
   ]
  },
  {
   "cell_type": "markdown",
   "metadata": {},
   "source": [
    "Los cambios anteriores no fueron permanentes.  Para hacerlos permanentes utilizamos el argumento (opción) \"*__inplace = True__*\". Este argumento lo veremos en muchas funciones de pandas!"
   ]
  },
  {
   "cell_type": "code",
   "execution_count": 42,
   "metadata": {},
   "outputs": [],
   "source": [
    "precios_cierre.sort_values(ascending=False, inplace = True)"
   ]
  },
  {
   "cell_type": "code",
   "execution_count": 43,
   "metadata": {},
   "outputs": [
    {
     "data": {
      "text/plain": [
       "FEMSAUBD    135\n",
       "AMXL         23\n",
       "ALFAA        20\n",
       "CX            6\n",
       "dtype: int64"
      ]
     },
     "execution_count": 43,
     "metadata": {},
     "output_type": "execute_result"
    }
   ],
   "source": [
    "precios_cierre"
   ]
  },
  {
   "cell_type": "markdown",
   "metadata": {},
   "source": [
    "Ahora vamos a crear un DATAFRAME a partir de un diccionario doble.  Para no perder tiempo, les pasé los valores del diccionario através de un mensaje en TEAMS, pero a varios de ustedes les registro errores.  Para la siguiente clase tendré habilitado una mejor manera de compartir mis códigos en vivo, sin la necesidad de estar haciendo copy-paste en TEAMS y que ustedes lo puedan accesar en cualquier instante"
   ]
  },
  {
   "cell_type": "code",
   "execution_count": 44,
   "metadata": {},
   "outputs": [],
   "source": [
    "ingresos_anuales = {'Cemex':{\"'15\":249.4, \"'16\":251.2, \"'17\":257.4, \"'18\":276.8, \"'19\": 287}, \n",
    "                    'Alfa':{\"'15\":258.3, \"'16\":293.7, \"'17\":317.6, \"'18\":366.4, \"'19\":370.4},\n",
    "                    'Femsa':{\"'15\":311.5, \"'16\":399.5, \"'17\":460.4, \"'18\":399.5, \"'19\":498.3}}"
   ]
  },
  {
   "cell_type": "markdown",
   "metadata": {},
   "source": [
    "La notación de las fechas creo que no fué la más óptima al utilizar las comillas sencillas junto a las comillas dobles!!!  :(\n",
    "\n",
    "Mejor voy a eliminar las comillas utilizando FIND AND REPLACE en el menú EDIT de Juputer/Colab.  En la opción find puse *__\"'__* y en la opción replace with *__\"20__*, puesto que se vería muy solo el 15!"
   ]
  },
  {
   "cell_type": "code",
   "execution_count": 2,
   "metadata": {},
   "outputs": [],
   "source": [
    "ingresos_anuales = {'Cemex':{\"2015\":249.4, \"2016\":251.2, \"2017\":257.4, \"2018\":276.8, \"2019\": 287}, \n",
    "                    'Alfa':{\"2015\":258.3, \"2016\":293.7, \"2017\":317.6, \"2018\":366.4, \"2019\":370.4},\n",
    "                    'Femsa':{\"2015\":311.5, \"2016\":399.5, \"2017\":460.4, \"2018\":399.5, \"2019\":498.3}}"
   ]
  },
  {
   "cell_type": "markdown",
   "metadata": {},
   "source": [
    "Este es un diccionario con diccionarios internos.  Para accesar a un valor seleccionas las llaves de interés separadas por corchetes"
   ]
  },
  {
   "cell_type": "code",
   "execution_count": 4,
   "metadata": {},
   "outputs": [
    {
     "data": {
      "text/plain": [
       "287"
      ]
     },
     "execution_count": 4,
     "metadata": {},
     "output_type": "execute_result"
    }
   ],
   "source": [
    "ingresos_anuales['Cemex']['2019']"
   ]
  },
  {
   "cell_type": "markdown",
   "metadata": {},
   "source": [
    "Con el diccionario anterior podemos construir un DataFrame en donde las llaves primarias toman las columnas y las secundarias los renglones"
   ]
  },
  {
   "cell_type": "code",
   "execution_count": 47,
   "metadata": {
    "scrolled": true
   },
   "outputs": [
    {
     "data": {
      "text/html": [
       "<div>\n",
       "<style scoped>\n",
       "    .dataframe tbody tr th:only-of-type {\n",
       "        vertical-align: middle;\n",
       "    }\n",
       "\n",
       "    .dataframe tbody tr th {\n",
       "        vertical-align: top;\n",
       "    }\n",
       "\n",
       "    .dataframe thead th {\n",
       "        text-align: right;\n",
       "    }\n",
       "</style>\n",
       "<table border=\"1\" class=\"dataframe\">\n",
       "  <thead>\n",
       "    <tr style=\"text-align: right;\">\n",
       "      <th></th>\n",
       "      <th>Cemex</th>\n",
       "      <th>Alfa</th>\n",
       "      <th>Femsa</th>\n",
       "    </tr>\n",
       "  </thead>\n",
       "  <tbody>\n",
       "    <tr>\n",
       "      <th>2015</th>\n",
       "      <td>249.4</td>\n",
       "      <td>258.3</td>\n",
       "      <td>311.5</td>\n",
       "    </tr>\n",
       "    <tr>\n",
       "      <th>2016</th>\n",
       "      <td>251.2</td>\n",
       "      <td>293.7</td>\n",
       "      <td>399.5</td>\n",
       "    </tr>\n",
       "    <tr>\n",
       "      <th>2017</th>\n",
       "      <td>257.4</td>\n",
       "      <td>317.6</td>\n",
       "      <td>460.4</td>\n",
       "    </tr>\n",
       "    <tr>\n",
       "      <th>2018</th>\n",
       "      <td>276.8</td>\n",
       "      <td>366.4</td>\n",
       "      <td>399.5</td>\n",
       "    </tr>\n",
       "    <tr>\n",
       "      <th>2019</th>\n",
       "      <td>287.0</td>\n",
       "      <td>370.4</td>\n",
       "      <td>498.3</td>\n",
       "    </tr>\n",
       "  </tbody>\n",
       "</table>\n",
       "</div>"
      ],
      "text/plain": [
       "      Cemex   Alfa  Femsa\n",
       "2015  249.4  258.3  311.5\n",
       "2016  251.2  293.7  399.5\n",
       "2017  257.4  317.6  460.4\n",
       "2018  276.8  366.4  399.5\n",
       "2019  287.0  370.4  498.3"
      ]
     },
     "execution_count": 47,
     "metadata": {},
     "output_type": "execute_result"
    }
   ],
   "source": [
    "df = pd.DataFrame(ingresos_anuales)\n",
    "df"
   ]
  },
  {
   "cell_type": "markdown",
   "metadata": {},
   "source": [
    "Podemos accesar a los valores de Alfa de la siguiente manera:"
   ]
  },
  {
   "cell_type": "code",
   "execution_count": 48,
   "metadata": {
    "scrolled": true
   },
   "outputs": [
    {
     "data": {
      "text/plain": [
       "2015    258.3\n",
       "2016    293.7\n",
       "2017    317.6\n",
       "2018    366.4\n",
       "2019    370.4\n",
       "Name: Alfa, dtype: float64"
      ]
     },
     "execution_count": 48,
     "metadata": {},
     "output_type": "execute_result"
    }
   ],
   "source": [
    "df['Alfa']"
   ]
  },
  {
   "cell_type": "markdown",
   "metadata": {},
   "source": [
    "Para seleccionar por index, utilizamos *__.loc__*"
   ]
  },
  {
   "cell_type": "code",
   "execution_count": 49,
   "metadata": {},
   "outputs": [
    {
     "data": {
      "text/plain": [
       "Cemex    257.4\n",
       "Alfa     317.6\n",
       "Femsa    460.4\n",
       "Name: 2017, dtype: float64"
      ]
     },
     "execution_count": 49,
     "metadata": {},
     "output_type": "execute_result"
    }
   ],
   "source": [
    "df.loc[\"2017\"]"
   ]
  },
  {
   "cell_type": "markdown",
   "metadata": {},
   "source": [
    "O *__.iloc__* para seleccionar por el lugar del index"
   ]
  },
  {
   "cell_type": "code",
   "execution_count": 50,
   "metadata": {},
   "outputs": [
    {
     "data": {
      "text/plain": [
       "Cemex    257.4\n",
       "Alfa     317.6\n",
       "Femsa    460.4\n",
       "Name: 2017, dtype: float64"
      ]
     },
     "execution_count": 50,
     "metadata": {},
     "output_type": "execute_result"
    }
   ],
   "source": [
    "df.iloc[2]"
   ]
  },
  {
   "cell_type": "markdown",
   "metadata": {},
   "source": [
    "Las operaciones se aplican a todos los elementos del DataFrame:"
   ]
  },
  {
   "cell_type": "code",
   "execution_count": 51,
   "metadata": {},
   "outputs": [
    {
     "data": {
      "text/html": [
       "<div>\n",
       "<style scoped>\n",
       "    .dataframe tbody tr th:only-of-type {\n",
       "        vertical-align: middle;\n",
       "    }\n",
       "\n",
       "    .dataframe tbody tr th {\n",
       "        vertical-align: top;\n",
       "    }\n",
       "\n",
       "    .dataframe thead th {\n",
       "        text-align: right;\n",
       "    }\n",
       "</style>\n",
       "<table border=\"1\" class=\"dataframe\">\n",
       "  <thead>\n",
       "    <tr style=\"text-align: right;\">\n",
       "      <th></th>\n",
       "      <th>Cemex</th>\n",
       "      <th>Alfa</th>\n",
       "      <th>Femsa</th>\n",
       "    </tr>\n",
       "  </thead>\n",
       "  <tbody>\n",
       "    <tr>\n",
       "      <th>2015</th>\n",
       "      <td>12.165854</td>\n",
       "      <td>12.600000</td>\n",
       "      <td>15.195122</td>\n",
       "    </tr>\n",
       "    <tr>\n",
       "      <th>2016</th>\n",
       "      <td>12.253659</td>\n",
       "      <td>14.326829</td>\n",
       "      <td>19.487805</td>\n",
       "    </tr>\n",
       "    <tr>\n",
       "      <th>2017</th>\n",
       "      <td>12.556098</td>\n",
       "      <td>15.492683</td>\n",
       "      <td>22.458537</td>\n",
       "    </tr>\n",
       "    <tr>\n",
       "      <th>2018</th>\n",
       "      <td>13.502439</td>\n",
       "      <td>17.873171</td>\n",
       "      <td>19.487805</td>\n",
       "    </tr>\n",
       "    <tr>\n",
       "      <th>2019</th>\n",
       "      <td>14.000000</td>\n",
       "      <td>18.068293</td>\n",
       "      <td>24.307317</td>\n",
       "    </tr>\n",
       "  </tbody>\n",
       "</table>\n",
       "</div>"
      ],
      "text/plain": [
       "          Cemex       Alfa      Femsa\n",
       "2015  12.165854  12.600000  15.195122\n",
       "2016  12.253659  14.326829  19.487805\n",
       "2017  12.556098  15.492683  22.458537\n",
       "2018  13.502439  17.873171  19.487805\n",
       "2019  14.000000  18.068293  24.307317"
      ]
     },
     "execution_count": 51,
     "metadata": {},
     "output_type": "execute_result"
    }
   ],
   "source": [
    "df_usd = df/20.5\n",
    "df_usd"
   ]
  },
  {
   "cell_type": "code",
   "execution_count": null,
   "metadata": {},
   "outputs": [],
   "source": [
    "df_excel = pd.read_excel()"
   ]
  },
  {
   "cell_type": "markdown",
   "metadata": {},
   "source": [
    "<font color='red'>Te acuerdas cual fue nuestra primera línea de código en Python?</font>"
   ]
  },
  {
   "cell_type": "code",
   "execution_count": 52,
   "metadata": {},
   "outputs": [
    {
     "name": "stdout",
     "output_type": "stream",
     "text": [
      "Hola!\n"
     ]
    }
   ],
   "source": [
    "print('Hola!')"
   ]
  },
  {
   "cell_type": "markdown",
   "metadata": {},
   "source": [
    "<font color='red'>Hemos avanzado muchísimo y los FELICITO a cada uno de ustedes por su dedicación y disposición a aprender cosas nuevas que a lo mejor no tenían contemplado aprender!!!  Con estas bases sólidas ya estamos LISTOS para meternos de lleno al trading algoritmico y pisar el acelerador.</font>"
   ]
  },
  {
   "cell_type": "markdown",
   "metadata": {},
   "source": [
    "<font color='navy'>La manera que hemos venido aprendiendo Python es presentar una función y luego explicar como funciona.  A partir de este momento vamos a hacer las cosas a la inversa!  En base a lo que necesitamos vamos a buscarle una solución!</font>"
   ]
  }
 ],
 "metadata": {
  "kernelspec": {
   "display_name": "Python 3",
   "language": "python",
   "name": "python3"
  },
  "language_info": {
   "codemirror_mode": {
    "name": "ipython",
    "version": 3
   },
   "file_extension": ".py",
   "mimetype": "text/x-python",
   "name": "python",
   "nbconvert_exporter": "python",
   "pygments_lexer": "ipython3",
   "version": "3.7.4"
  }
 },
 "nbformat": 4,
 "nbformat_minor": 4
}
