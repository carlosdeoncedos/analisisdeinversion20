{
 "cells": [
  {
   "cell_type": "markdown",
   "metadata": {},
   "source": [
    "# <font color='navygray'>MF013 Análisis de inversión:  Introducción a Algotrading</font>\n",
    "Por Carlos Crespo Elizondo, MSF<br>\n",
    "Clase del 28-10-20"
   ]
  },
  {
   "cell_type": "markdown",
   "metadata": {},
   "source": [
    "## <font color='navygray'>Importar librerías</font>"
   ]
  },
  {
   "cell_type": "code",
   "execution_count": 1,
   "metadata": {},
   "outputs": [],
   "source": [
    "import pandas as pd"
   ]
  },
  {
   "cell_type": "markdown",
   "metadata": {},
   "source": [
    "## <font color='navygray'>1. Crear funciones</font>"
   ]
  },
  {
   "cell_type": "code",
   "execution_count": null,
   "metadata": {},
   "outputs": [],
   "source": [
    "def funcion_sumar(x, y):\n",
    "    suma = x + y\n",
    "    \n",
    "    return suma"
   ]
  },
  {
   "cell_type": "code",
   "execution_count": null,
   "metadata": {},
   "outputs": [],
   "source": [
    "a = 10\n",
    "b = 40\n",
    "suma = a + b\n",
    "print(suma)"
   ]
  },
  {
   "cell_type": "code",
   "execution_count": null,
   "metadata": {
    "scrolled": true
   },
   "outputs": [],
   "source": [
    "funcion_sumar(100,100)"
   ]
  },
  {
   "cell_type": "code",
   "execution_count": null,
   "metadata": {},
   "outputs": [],
   "source": [
    "funcion_sumar(y = 50, x = 80)"
   ]
  },
  {
   "cell_type": "code",
   "execution_count": null,
   "metadata": {},
   "outputs": [],
   "source": [
    "def funcion_multiplicar(x=10, y=8):\n",
    "    mult = x * y  \n",
    "    \n",
    "    return mult"
   ]
  },
  {
   "cell_type": "code",
   "execution_count": null,
   "metadata": {},
   "outputs": [],
   "source": [
    "funcion_multiplicar(2, 4)"
   ]
  },
  {
   "cell_type": "code",
   "execution_count": null,
   "metadata": {},
   "outputs": [],
   "source": [
    "def funcion_multiplicar2(x=10, y=8):\n",
    "    mult = x * y  \n",
    "    print(mult)\n",
    "    return mult"
   ]
  },
  {
   "cell_type": "code",
   "execution_count": null,
   "metadata": {},
   "outputs": [],
   "source": [
    "x = funcion_multiplicar2()"
   ]
  },
  {
   "cell_type": "code",
   "execution_count": null,
   "metadata": {},
   "outputs": [],
   "source": [
    "print(x)"
   ]
  },
  {
   "cell_type": "markdown",
   "metadata": {},
   "source": [
    "### <font color='red'>Función para importar datos archivos de Bloomberg</font>"
   ]
  },
  {
   "cell_type": "code",
   "execution_count": 2,
   "metadata": {},
   "outputs": [],
   "source": [
    "def importar_bloomberg(accion):\n",
    "    \n",
    "    url = f'http://bit.ly/oncedos-{accion}'\n",
    "    \n",
    "    columnas_a_importar = ['Date', 'PX_OPEN', 'PX_HIGH', 'PX_LOW', 'PX_LAST']\n",
    "    df = pd.read_csv(url, skiprows = 6, index_col = 0, parse_dates = True, dayfirst = True, \n",
    "                 usecols = columnas_a_importar)\n",
    "\n",
    "    df.rename({'PX_LAST':'Cierre', 'PX_OPEN':'Apertura', 'PX_HIGH':'Maximo', 'PX_LOW':'Minimo'}, axis = 1,\n",
    "          inplace = True)\n",
    "\n",
    "    df.sort_index(inplace = True)\n",
    "    \n",
    "    return df"
   ]
  },
  {
   "cell_type": "markdown",
   "metadata": {},
   "source": [
    "### <font color='red'>Función calcular retornos diarios</font>"
   ]
  },
  {
   "cell_type": "code",
   "execution_count": null,
   "metadata": {},
   "outputs": [],
   "source": [
    "https://query1.finance.yahoo.com/v7/finance/download/KOFUBL.MX?period1=1572319677&period2=1603942077&interval=1d&events=history&includeAdjustedClose=true"
   ]
  },
  {
   "cell_type": "code",
   "execution_count": null,
   "metadata": {},
   "outputs": [],
   "source": [
    "https://query1.finance.yahoo.com/v7/finance/download/KOFUBL.MX?period1=1572319677&period2=1603942077&interval=1mo&events=history&includeAdjustedClose=true"
   ]
  },
  {
   "cell_type": "markdown",
   "metadata": {},
   "source": [
    "## <font color='navygray'>2. Importar Precios WALMEX</font>\n",
    "Pasos:\n",
    "1. Importar datos de internet, guardarlos en un DataFrame de pandas y gurdarlo como \"__*df*__\"\n",
    "1. Formato del DataFrame:\n",
    "    * Index: Columna de fechas\n",
    "    * Fecha más antigua:  Index 0\n",
    "    * Fecha más reciente:  Index -1\n",
    "    * Nombre y órden de las columnas: \"Apertura\", \"Maximo\", \"Minimo\", \"Cierre\"$^+$\n",
    "1. Crear una columna del DataFrame con los Retornos logarítmicos de los precios de cierre diarios\n",
    "1. Realizar las siguientes gráficas:\n",
    "    * Precios de cierre\n",
    "    * Retornos diarios\n",
    "    * Histograma de los retornos\n",
    "1. Realizar una sola figura con las tres gráficas del punto anterior\n",
    "<br><br>\n",
    "\n",
    "__**NOTAS:__<br>\n",
    "$+$ No te recomiendo utilizar acentos al momento de definir el nombre de variables, columnas, df, etc."
   ]
  },
  {
   "cell_type": "markdown",
   "metadata": {},
   "source": [
    "### <font color='navygray'>2.1 Importar datos de internet</font>"
   ]
  },
  {
   "cell_type": "code",
   "execution_count": null,
   "metadata": {},
   "outputs": [],
   "source": [
    "import pandas as pd"
   ]
  },
  {
   "cell_type": "code",
   "execution_count": null,
   "metadata": {},
   "outputs": [],
   "source": [
    "url = 'http://bit.ly/oncedos-walmex'\n",
    "df = pd.read_csv(url)"
   ]
  },
  {
   "cell_type": "code",
   "execution_count": null,
   "metadata": {},
   "outputs": [],
   "source": [
    "df.head()"
   ]
  },
  {
   "cell_type": "code",
   "execution_count": null,
   "metadata": {},
   "outputs": [],
   "source": [
    "df.tail(10)"
   ]
  },
  {
   "cell_type": "code",
   "execution_count": null,
   "metadata": {},
   "outputs": [],
   "source": [
    "df.info()"
   ]
  },
  {
   "cell_type": "markdown",
   "metadata": {},
   "source": [
    "### <font color='navygray'>2.2 Crear columna de retornos diarios</font>"
   ]
  },
  {
   "cell_type": "code",
   "execution_count": null,
   "metadata": {},
   "outputs": [],
   "source": [
    "df = pd.read_csv(url, skiprows = 6)\n",
    "df.head()"
   ]
  },
  {
   "cell_type": "code",
   "execution_count": null,
   "metadata": {},
   "outputs": [],
   "source": [
    "df = pd.read_csv(url, skiprows = 6, index_col = 0)\n",
    "df.head()"
   ]
  },
  {
   "cell_type": "code",
   "execution_count": null,
   "metadata": {},
   "outputs": [],
   "source": [
    "df.info()"
   ]
  },
  {
   "cell_type": "code",
   "execution_count": null,
   "metadata": {},
   "outputs": [],
   "source": [
    "df.sort_index(axis = 0, inplace = True)"
   ]
  },
  {
   "cell_type": "code",
   "execution_count": null,
   "metadata": {
    "scrolled": true
   },
   "outputs": [],
   "source": [
    "df.head()"
   ]
  },
  {
   "cell_type": "code",
   "execution_count": null,
   "metadata": {},
   "outputs": [],
   "source": [
    "df = pd.read_csv(url, skiprows = 6, index_col = 0, parse_dates = True, dayfirst=True)\n",
    "df.head()"
   ]
  },
  {
   "cell_type": "code",
   "execution_count": null,
   "metadata": {},
   "outputs": [],
   "source": [
    "df.sort_index(axis = 0, inplace = True)"
   ]
  },
  {
   "cell_type": "code",
   "execution_count": null,
   "metadata": {},
   "outputs": [],
   "source": [
    "df.tail()"
   ]
  },
  {
   "cell_type": "markdown",
   "metadata": {},
   "source": [
    "O-H-L-C\n",
    "Apertura - Maximo - Minimo - Cierre"
   ]
  },
  {
   "cell_type": "markdown",
   "metadata": {},
   "source": [
    "#### Borrar columnas"
   ]
  },
  {
   "cell_type": "code",
   "execution_count": null,
   "metadata": {},
   "outputs": [],
   "source": [
    "borrar = ['Change', '% Change', 'Change.1', '% Change.1', 'Change.2', '% Change.2','Change.3', '% Change.3']\n",
    "df.drop(borrar, axis = 1, inplace=True)\n",
    "df.head()"
   ]
  },
  {
   "cell_type": "markdown",
   "metadata": {},
   "source": [
    "#### Renombrar columnas"
   ]
  },
  {
   "cell_type": "code",
   "execution_count": null,
   "metadata": {},
   "outputs": [],
   "source": [
    "df.rename({'PX_LAST':'Cierre', 'PX_OPEN':'Apertura', 'PX_HIGH':'Maximo', 'PX_LOW':'Minimo'}, axis=1, inplace=True)"
   ]
  },
  {
   "cell_type": "code",
   "execution_count": null,
   "metadata": {},
   "outputs": [],
   "source": [
    "df.head()"
   ]
  },
  {
   "cell_type": "code",
   "execution_count": null,
   "metadata": {},
   "outputs": [],
   "source": [
    "orden_columnas = ['Apertura', 'Maximo', 'Minimo', 'Cierre']\n",
    "df = df.reindex(columns=orden_columnas)"
   ]
  },
  {
   "cell_type": "code",
   "execution_count": null,
   "metadata": {
    "scrolled": true
   },
   "outputs": [],
   "source": [
    "df.head()"
   ]
  },
  {
   "cell_type": "markdown",
   "metadata": {},
   "source": [
    "### Importar de cero"
   ]
  },
  {
   "cell_type": "code",
   "execution_count": null,
   "metadata": {},
   "outputs": [],
   "source": [
    "del df"
   ]
  },
  {
   "cell_type": "code",
   "execution_count": null,
   "metadata": {},
   "outputs": [],
   "source": [
    "columnas_a_importar = ['Date', 'PX_OPEN', 'PX_HIGH', 'PX_LOW', 'PX_LAST']\n",
    "df = pd.read_csv(url, skiprows = 6, index_col = 0, parse_dates = True, dayfirst = True, \n",
    "                 usecols = columnas_a_importar)\n",
    "\n",
    "df.rename({'PX_LAST':'Cierre', 'PX_OPEN':'Apertura', 'PX_HIGH':'Maximo', 'PX_LOW':'Minimo'}, axis = 1,\n",
    "          inplace = True)\n",
    "\n",
    "df.sort_index(inplace = True)"
   ]
  },
  {
   "cell_type": "code",
   "execution_count": null,
   "metadata": {},
   "outputs": [],
   "source": [
    "df.head()"
   ]
  },
  {
   "cell_type": "markdown",
   "metadata": {},
   "source": [
    "#### <font color='red'>Función para importar datos archivos de Bloomberg</font>"
   ]
  },
  {
   "cell_type": "code",
   "execution_count": 3,
   "metadata": {},
   "outputs": [],
   "source": [
    "walmex = importar_bloomberg('walmex')"
   ]
  },
  {
   "cell_type": "code",
   "execution_count": 4,
   "metadata": {},
   "outputs": [
    {
     "data": {
      "text/html": [
       "<div>\n",
       "<style scoped>\n",
       "    .dataframe tbody tr th:only-of-type {\n",
       "        vertical-align: middle;\n",
       "    }\n",
       "\n",
       "    .dataframe tbody tr th {\n",
       "        vertical-align: top;\n",
       "    }\n",
       "\n",
       "    .dataframe thead th {\n",
       "        text-align: right;\n",
       "    }\n",
       "</style>\n",
       "<table border=\"1\" class=\"dataframe\">\n",
       "  <thead>\n",
       "    <tr style=\"text-align: right;\">\n",
       "      <th></th>\n",
       "      <th>Cierre</th>\n",
       "      <th>Apertura</th>\n",
       "      <th>Maximo</th>\n",
       "      <th>Minimo</th>\n",
       "    </tr>\n",
       "    <tr>\n",
       "      <th>Date</th>\n",
       "      <th></th>\n",
       "      <th></th>\n",
       "      <th></th>\n",
       "      <th></th>\n",
       "    </tr>\n",
       "  </thead>\n",
       "  <tbody>\n",
       "    <tr>\n",
       "      <th>2019-09-30</th>\n",
       "      <td>58.48</td>\n",
       "      <td>58.41</td>\n",
       "      <td>58.99</td>\n",
       "      <td>58.34</td>\n",
       "    </tr>\n",
       "    <tr>\n",
       "      <th>2019-10-01</th>\n",
       "      <td>58.48</td>\n",
       "      <td>58.49</td>\n",
       "      <td>59.14</td>\n",
       "      <td>58.25</td>\n",
       "    </tr>\n",
       "    <tr>\n",
       "      <th>2019-10-02</th>\n",
       "      <td>57.40</td>\n",
       "      <td>58.18</td>\n",
       "      <td>58.19</td>\n",
       "      <td>57.10</td>\n",
       "    </tr>\n",
       "    <tr>\n",
       "      <th>2019-10-03</th>\n",
       "      <td>58.19</td>\n",
       "      <td>57.40</td>\n",
       "      <td>58.31</td>\n",
       "      <td>57.11</td>\n",
       "    </tr>\n",
       "    <tr>\n",
       "      <th>2019-10-04</th>\n",
       "      <td>58.92</td>\n",
       "      <td>58.08</td>\n",
       "      <td>59.05</td>\n",
       "      <td>57.96</td>\n",
       "    </tr>\n",
       "  </tbody>\n",
       "</table>\n",
       "</div>"
      ],
      "text/plain": [
       "            Cierre  Apertura  Maximo  Minimo\n",
       "Date                                        \n",
       "2019-09-30   58.48     58.41   58.99   58.34\n",
       "2019-10-01   58.48     58.49   59.14   58.25\n",
       "2019-10-02   57.40     58.18   58.19   57.10\n",
       "2019-10-03   58.19     57.40   58.31   57.11\n",
       "2019-10-04   58.92     58.08   59.05   57.96"
      ]
     },
     "execution_count": 4,
     "metadata": {},
     "output_type": "execute_result"
    }
   ],
   "source": [
    "walmex.tail()"
   ]
  },
  {
   "cell_type": "markdown",
   "metadata": {},
   "source": [
    "### <font color='navygray'>2.3 Calcular retornos diarios</font>\n",
    "\n",
    "$$RetLog = ln(Precio_n) - ln(Precio_{n-1}$$\n",
    "$$RetLog = ln\\frac{Precio_n}{Precio_{n-1}}$$"
   ]
  },
  {
   "cell_type": "markdown",
   "metadata": {},
   "source": [
    "#### <font color='red'>Función calcular retornos diarios</font>"
   ]
  },
  {
   "cell_type": "code",
   "execution_count": 5,
   "metadata": {},
   "outputs": [],
   "source": [
    "import numpy as np"
   ]
  },
  {
   "cell_type": "code",
   "execution_count": 7,
   "metadata": {},
   "outputs": [],
   "source": [
    "walmex['Ret'] = np.log(walmex['Cierre']/walmex['Cierre'].shift(1))"
   ]
  },
  {
   "cell_type": "code",
   "execution_count": 8,
   "metadata": {},
   "outputs": [
    {
     "data": {
      "text/html": [
       "<div>\n",
       "<style scoped>\n",
       "    .dataframe tbody tr th:only-of-type {\n",
       "        vertical-align: middle;\n",
       "    }\n",
       "\n",
       "    .dataframe tbody tr th {\n",
       "        vertical-align: top;\n",
       "    }\n",
       "\n",
       "    .dataframe thead th {\n",
       "        text-align: right;\n",
       "    }\n",
       "</style>\n",
       "<table border=\"1\" class=\"dataframe\">\n",
       "  <thead>\n",
       "    <tr style=\"text-align: right;\">\n",
       "      <th></th>\n",
       "      <th>Cierre</th>\n",
       "      <th>Apertura</th>\n",
       "      <th>Maximo</th>\n",
       "      <th>Minimo</th>\n",
       "      <th>Ret</th>\n",
       "    </tr>\n",
       "    <tr>\n",
       "      <th>Date</th>\n",
       "      <th></th>\n",
       "      <th></th>\n",
       "      <th></th>\n",
       "      <th></th>\n",
       "      <th></th>\n",
       "    </tr>\n",
       "  </thead>\n",
       "  <tbody>\n",
       "    <tr>\n",
       "      <th>2010-01-04</th>\n",
       "      <td>29.780</td>\n",
       "      <td>29.95</td>\n",
       "      <td>30.100</td>\n",
       "      <td>29.155</td>\n",
       "      <td>NaN</td>\n",
       "    </tr>\n",
       "    <tr>\n",
       "      <th>2010-01-05</th>\n",
       "      <td>30.365</td>\n",
       "      <td>29.78</td>\n",
       "      <td>30.585</td>\n",
       "      <td>29.690</td>\n",
       "      <td>0.019454</td>\n",
       "    </tr>\n",
       "    <tr>\n",
       "      <th>2010-01-06</th>\n",
       "      <td>30.365</td>\n",
       "      <td>30.35</td>\n",
       "      <td>30.500</td>\n",
       "      <td>30.145</td>\n",
       "      <td>0.000000</td>\n",
       "    </tr>\n",
       "    <tr>\n",
       "      <th>2010-01-07</th>\n",
       "      <td>29.805</td>\n",
       "      <td>30.50</td>\n",
       "      <td>30.500</td>\n",
       "      <td>29.755</td>\n",
       "      <td>-0.018614</td>\n",
       "    </tr>\n",
       "    <tr>\n",
       "      <th>2010-01-08</th>\n",
       "      <td>29.680</td>\n",
       "      <td>29.88</td>\n",
       "      <td>29.880</td>\n",
       "      <td>29.500</td>\n",
       "      <td>-0.004203</td>\n",
       "    </tr>\n",
       "  </tbody>\n",
       "</table>\n",
       "</div>"
      ],
      "text/plain": [
       "            Cierre  Apertura  Maximo  Minimo       Ret\n",
       "Date                                                  \n",
       "2010-01-04  29.780     29.95  30.100  29.155       NaN\n",
       "2010-01-05  30.365     29.78  30.585  29.690  0.019454\n",
       "2010-01-06  30.365     30.35  30.500  30.145  0.000000\n",
       "2010-01-07  29.805     30.50  30.500  29.755 -0.018614\n",
       "2010-01-08  29.680     29.88  29.880  29.500 -0.004203"
      ]
     },
     "execution_count": 8,
     "metadata": {},
     "output_type": "execute_result"
    }
   ],
   "source": [
    "walmex.head()"
   ]
  },
  {
   "cell_type": "code",
   "execution_count": 9,
   "metadata": {},
   "outputs": [],
   "source": [
    "walmex.dropna(inplace=True)"
   ]
  },
  {
   "cell_type": "code",
   "execution_count": 37,
   "metadata": {},
   "outputs": [
    {
     "data": {
      "text/html": [
       "<div>\n",
       "<style scoped>\n",
       "    .dataframe tbody tr th:only-of-type {\n",
       "        vertical-align: middle;\n",
       "    }\n",
       "\n",
       "    .dataframe tbody tr th {\n",
       "        vertical-align: top;\n",
       "    }\n",
       "\n",
       "    .dataframe thead th {\n",
       "        text-align: right;\n",
       "    }\n",
       "</style>\n",
       "<table border=\"1\" class=\"dataframe\">\n",
       "  <thead>\n",
       "    <tr style=\"text-align: right;\">\n",
       "      <th></th>\n",
       "      <th>Cierre</th>\n",
       "      <th>Apertura</th>\n",
       "      <th>Maximo</th>\n",
       "      <th>Minimo</th>\n",
       "      <th>Ret</th>\n",
       "    </tr>\n",
       "    <tr>\n",
       "      <th>Date</th>\n",
       "      <th></th>\n",
       "      <th></th>\n",
       "      <th></th>\n",
       "      <th></th>\n",
       "      <th></th>\n",
       "    </tr>\n",
       "  </thead>\n",
       "  <tbody>\n",
       "    <tr>\n",
       "      <th>2019-09-30</th>\n",
       "      <td>58.48</td>\n",
       "      <td>58.41</td>\n",
       "      <td>58.99</td>\n",
       "      <td>58.34</td>\n",
       "      <td>0.002225</td>\n",
       "    </tr>\n",
       "    <tr>\n",
       "      <th>2019-10-01</th>\n",
       "      <td>58.48</td>\n",
       "      <td>58.49</td>\n",
       "      <td>59.14</td>\n",
       "      <td>58.25</td>\n",
       "      <td>0.000000</td>\n",
       "    </tr>\n",
       "    <tr>\n",
       "      <th>2019-10-02</th>\n",
       "      <td>57.40</td>\n",
       "      <td>58.18</td>\n",
       "      <td>58.19</td>\n",
       "      <td>57.10</td>\n",
       "      <td>-0.018641</td>\n",
       "    </tr>\n",
       "    <tr>\n",
       "      <th>2019-10-03</th>\n",
       "      <td>58.19</td>\n",
       "      <td>57.40</td>\n",
       "      <td>58.31</td>\n",
       "      <td>57.11</td>\n",
       "      <td>0.013669</td>\n",
       "    </tr>\n",
       "    <tr>\n",
       "      <th>2019-10-04</th>\n",
       "      <td>58.92</td>\n",
       "      <td>58.08</td>\n",
       "      <td>59.05</td>\n",
       "      <td>57.96</td>\n",
       "      <td>0.012467</td>\n",
       "    </tr>\n",
       "  </tbody>\n",
       "</table>\n",
       "</div>"
      ],
      "text/plain": [
       "            Cierre  Apertura  Maximo  Minimo       Ret\n",
       "Date                                                  \n",
       "2019-09-30   58.48     58.41   58.99   58.34  0.002225\n",
       "2019-10-01   58.48     58.49   59.14   58.25  0.000000\n",
       "2019-10-02   57.40     58.18   58.19   57.10 -0.018641\n",
       "2019-10-03   58.19     57.40   58.31   57.11  0.013669\n",
       "2019-10-04   58.92     58.08   59.05   57.96  0.012467"
      ]
     },
     "execution_count": 37,
     "metadata": {},
     "output_type": "execute_result"
    }
   ],
   "source": [
    "walmex.tail()"
   ]
  },
  {
   "cell_type": "code",
   "execution_count": 41,
   "metadata": {},
   "outputs": [
    {
     "data": {
      "text/plain": [
       "0.9785090664875695"
      ]
     },
     "execution_count": 41,
     "metadata": {},
     "output_type": "execute_result"
    }
   ],
   "source": [
    "np.exp(walmex['Ret'].sum())-1"
   ]
  },
  {
   "cell_type": "code",
   "execution_count": 39,
   "metadata": {},
   "outputs": [
    {
     "data": {
      "text/plain": [
       "0.9403918985674298"
      ]
     },
     "execution_count": 39,
     "metadata": {},
     "output_type": "execute_result"
    }
   ],
   "source": [
    "walmex['Cierre'].iloc[-1]/walmex['Cierre'].iloc[0] - 1"
   ]
  },
  {
   "cell_type": "markdown",
   "metadata": {},
   "source": [
    "### <font color='navygray'>2.4 Graficar</font>"
   ]
  },
  {
   "cell_type": "markdown",
   "metadata": {},
   "source": [
    "#### <font color='navygray'>Precio de cierre</font>"
   ]
  },
  {
   "cell_type": "code",
   "execution_count": 24,
   "metadata": {},
   "outputs": [
    {
     "data": {
      "text/plain": [
       "<matplotlib.axes._subplots.AxesSubplot at 0x1202258d0>"
      ]
     },
     "execution_count": 24,
     "metadata": {},
     "output_type": "execute_result"
    },
    {
     "data": {
      "image/png": "[encoded data removed]",
      "text/plain": [
       "<Figure size 864x576 with 1 Axes>"
      ]
     },
     "metadata": {
      "needs_background": "light"
     },
     "output_type": "display_data"
    }
   ],
   "source": [
    "walmex['Cierre'].plot(figsize=(12,8), title='Precios Cierre WALMEX')"
   ]
  },
  {
   "cell_type": "code",
   "execution_count": 31,
   "metadata": {},
   "outputs": [
    {
     "data": {
      "text/plain": [
       "<matplotlib.axes._subplots.AxesSubplot at 0x120c69250>"
      ]
     },
     "execution_count": 31,
     "metadata": {},
     "output_type": "execute_result"
    },
    {
     "data": {
      "image/png": "[encoded data removed]",
      "text/plain": [
       "<Figure size 864x432 with 1 Axes>"
      ]
     },
     "metadata": {
      "needs_background": "light"
     },
     "output_type": "display_data"
    }
   ],
   "source": [
    "walmex['Ret'].hist(figsize=(12,6), bins = 18)"
   ]
  },
  {
   "cell_type": "code",
   "execution_count": null,
   "metadata": {},
   "outputs": [],
   "source": []
  },
  {
   "cell_type": "markdown",
   "metadata": {},
   "source": [
    "#### <font color='red'>Función graficar precios de cierre</font>"
   ]
  },
  {
   "cell_type": "code",
   "execution_count": null,
   "metadata": {},
   "outputs": [],
   "source": []
  },
  {
   "cell_type": "markdown",
   "metadata": {},
   "source": [
    "#### <font color='navygray'>Retornos</font>"
   ]
  },
  {
   "cell_type": "code",
   "execution_count": null,
   "metadata": {},
   "outputs": [],
   "source": []
  },
  {
   "cell_type": "markdown",
   "metadata": {},
   "source": [
    "#### <font color='red'>Función graficar retornos</font>"
   ]
  },
  {
   "cell_type": "code",
   "execution_count": null,
   "metadata": {},
   "outputs": [],
   "source": []
  },
  {
   "cell_type": "markdown",
   "metadata": {},
   "source": [
    "#### <font color='navygray'>Histograma</font>"
   ]
  },
  {
   "cell_type": "code",
   "execution_count": null,
   "metadata": {},
   "outputs": [],
   "source": []
  },
  {
   "cell_type": "markdown",
   "metadata": {},
   "source": [
    "#### <font color='red'>Función graficar histograma</font>"
   ]
  },
  {
   "cell_type": "code",
   "execution_count": null,
   "metadata": {},
   "outputs": [],
   "source": []
  },
  {
   "cell_type": "markdown",
   "metadata": {},
   "source": [
    "### <font color='navygray'>2.5 Multigráfica</font>"
   ]
  },
  {
   "cell_type": "code",
   "execution_count": 50,
   "metadata": {},
   "outputs": [],
   "source": [
    "accion = 'AMXL'\n",
    "url = f'https://query1.finance.yahoo.com/v7/finance/download/{accion}.MX?period1=1572319677&period2=1603942077&interval=1d&events=history&includeAdjustedClose=true'"
   ]
  },
  {
   "cell_type": "code",
   "execution_count": 51,
   "metadata": {},
   "outputs": [],
   "source": [
    "df"
   ]
  },
  {
   "cell_type": "code",
   "execution_count": 52,
   "metadata": {},
   "outputs": [
    {
     "data": {
      "text/html": [
       "<div>\n",
       "<style scoped>\n",
       "    .dataframe tbody tr th:only-of-type {\n",
       "        vertical-align: middle;\n",
       "    }\n",
       "\n",
       "    .dataframe tbody tr th {\n",
       "        vertical-align: top;\n",
       "    }\n",
       "\n",
       "    .dataframe thead th {\n",
       "        text-align: right;\n",
       "    }\n",
       "</style>\n",
       "<table border=\"1\" class=\"dataframe\">\n",
       "  <thead>\n",
       "    <tr style=\"text-align: right;\">\n",
       "      <th></th>\n",
       "      <th>Date</th>\n",
       "      <th>Open</th>\n",
       "      <th>High</th>\n",
       "      <th>Low</th>\n",
       "      <th>Close</th>\n",
       "      <th>Adj Close</th>\n",
       "      <th>Volume</th>\n",
       "    </tr>\n",
       "  </thead>\n",
       "  <tbody>\n",
       "    <tr>\n",
       "      <th>0</th>\n",
       "      <td>2019-10-29</td>\n",
       "      <td>15.59</td>\n",
       "      <td>15.69</td>\n",
       "      <td>15.41</td>\n",
       "      <td>15.51</td>\n",
       "      <td>15.142423</td>\n",
       "      <td>49390215</td>\n",
       "    </tr>\n",
       "    <tr>\n",
       "      <th>1</th>\n",
       "      <td>2019-10-30</td>\n",
       "      <td>15.55</td>\n",
       "      <td>15.57</td>\n",
       "      <td>15.38</td>\n",
       "      <td>15.46</td>\n",
       "      <td>15.093608</td>\n",
       "      <td>29003778</td>\n",
       "    </tr>\n",
       "    <tr>\n",
       "      <th>2</th>\n",
       "      <td>2019-10-31</td>\n",
       "      <td>15.48</td>\n",
       "      <td>15.48</td>\n",
       "      <td>15.18</td>\n",
       "      <td>15.24</td>\n",
       "      <td>14.878821</td>\n",
       "      <td>57789702</td>\n",
       "    </tr>\n",
       "    <tr>\n",
       "      <th>3</th>\n",
       "      <td>2019-11-01</td>\n",
       "      <td>15.27</td>\n",
       "      <td>15.48</td>\n",
       "      <td>15.19</td>\n",
       "      <td>15.46</td>\n",
       "      <td>15.093608</td>\n",
       "      <td>26632156</td>\n",
       "    </tr>\n",
       "    <tr>\n",
       "      <th>4</th>\n",
       "      <td>2019-11-04</td>\n",
       "      <td>15.50</td>\n",
       "      <td>15.76</td>\n",
       "      <td>15.50</td>\n",
       "      <td>15.59</td>\n",
       "      <td>15.220527</td>\n",
       "      <td>22668774</td>\n",
       "    </tr>\n",
       "    <tr>\n",
       "      <th>...</th>\n",
       "      <td>...</td>\n",
       "      <td>...</td>\n",
       "      <td>...</td>\n",
       "      <td>...</td>\n",
       "      <td>...</td>\n",
       "      <td>...</td>\n",
       "      <td>...</td>\n",
       "    </tr>\n",
       "    <tr>\n",
       "      <th>247</th>\n",
       "      <td>2020-10-22</td>\n",
       "      <td>14.18</td>\n",
       "      <td>14.18</td>\n",
       "      <td>13.78</td>\n",
       "      <td>13.92</td>\n",
       "      <td>13.920000</td>\n",
       "      <td>55580373</td>\n",
       "    </tr>\n",
       "    <tr>\n",
       "      <th>248</th>\n",
       "      <td>2020-10-23</td>\n",
       "      <td>13.98</td>\n",
       "      <td>13.98</td>\n",
       "      <td>13.66</td>\n",
       "      <td>13.69</td>\n",
       "      <td>13.690000</td>\n",
       "      <td>31836791</td>\n",
       "    </tr>\n",
       "    <tr>\n",
       "      <th>249</th>\n",
       "      <td>2020-10-26</td>\n",
       "      <td>13.65</td>\n",
       "      <td>13.67</td>\n",
       "      <td>13.29</td>\n",
       "      <td>13.43</td>\n",
       "      <td>13.430000</td>\n",
       "      <td>25263538</td>\n",
       "    </tr>\n",
       "    <tr>\n",
       "      <th>250</th>\n",
       "      <td>2020-10-27</td>\n",
       "      <td>13.42</td>\n",
       "      <td>13.42</td>\n",
       "      <td>13.18</td>\n",
       "      <td>13.28</td>\n",
       "      <td>13.280000</td>\n",
       "      <td>39241146</td>\n",
       "    </tr>\n",
       "    <tr>\n",
       "      <th>251</th>\n",
       "      <td>2020-10-28</td>\n",
       "      <td>13.11</td>\n",
       "      <td>13.20</td>\n",
       "      <td>12.87</td>\n",
       "      <td>13.13</td>\n",
       "      <td>13.130000</td>\n",
       "      <td>39855022</td>\n",
       "    </tr>\n",
       "  </tbody>\n",
       "</table>\n",
       "<p>252 rows × 7 columns</p>\n",
       "</div>"
      ],
      "text/plain": [
       "           Date   Open   High    Low  Close  Adj Close    Volume\n",
       "0    2019-10-29  15.59  15.69  15.41  15.51  15.142423  49390215\n",
       "1    2019-10-30  15.55  15.57  15.38  15.46  15.093608  29003778\n",
       "2    2019-10-31  15.48  15.48  15.18  15.24  14.878821  57789702\n",
       "3    2019-11-01  15.27  15.48  15.19  15.46  15.093608  26632156\n",
       "4    2019-11-04  15.50  15.76  15.50  15.59  15.220527  22668774\n",
       "..          ...    ...    ...    ...    ...        ...       ...\n",
       "247  2020-10-22  14.18  14.18  13.78  13.92  13.920000  55580373\n",
       "248  2020-10-23  13.98  13.98  13.66  13.69  13.690000  31836791\n",
       "249  2020-10-26  13.65  13.67  13.29  13.43  13.430000  25263538\n",
       "250  2020-10-27  13.42  13.42  13.18  13.28  13.280000  39241146\n",
       "251  2020-10-28  13.11  13.20  12.87  13.13  13.130000  39855022\n",
       "\n",
       "[252 rows x 7 columns]"
      ]
     },
     "execution_count": 52,
     "metadata": {},
     "output_type": "execute_result"
    }
   ],
   "source": [
    "df"
   ]
  },
  {
   "cell_type": "code",
   "execution_count": null,
   "metadata": {},
   "outputs": [],
   "source": [
    "accion.UPPER()"
   ]
  }
 ],
 "metadata": {
  "kernelspec": {
   "display_name": "Python 3",
   "language": "python",
   "name": "python3"
  },
  "language_info": {
   "codemirror_mode": {
    "name": "ipython",
    "version": 3
   },
   "file_extension": ".py",
   "mimetype": "text/x-python",
   "name": "python",
   "nbconvert_exporter": "python",
   "pygments_lexer": "ipython3",
   "version": "3.7.4"
  }
 },
 "nbformat": 4,
 "nbformat_minor": 2
}
