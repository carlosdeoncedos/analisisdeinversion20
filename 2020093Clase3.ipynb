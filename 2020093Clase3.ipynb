{
 "cells": [
  {
   "cell_type": "markdown",
   "metadata": {},
   "source": [
    "# <font color='royalblue'>MF013 Análisis de inversión:  Introducción a Algotrading</font>\n",
    "Por Carlos Crespo Elizondo, MSF<br>\n",
    "Clase del 30-09-20"
   ]
  },
  {
   "cell_type": "markdown",
   "metadata": {},
   "source": [
    "Hola a todos, en este documento voy a resumir lo que vimos la clase del 30 de septiembre y lo complementaré con algunos comentarios y funcionalidades que no vimos en clase.  Al final encontrarán una serie de *__retos__* para que practiquen lo que vimos en la clase. "
   ]
  },
  {
   "cell_type": "markdown",
   "metadata": {},
   "source": [
    "## Función print( )"
   ]
  },
  {
   "cell_type": "markdown",
   "metadata": {},
   "source": [
    "La primera función que vimos es la función \"*__print( )__*\".  Como se dieron cuenta, print sirve para desplegar en la pantalla algún mensaje.  Este puede ser un texto o una variable.  Recuerden que _print_ *__siempre__* debe de ir entre paréntesis!"
   ]
  },
  {
   "cell_type": "code",
   "execution_count": 1,
   "metadata": {},
   "outputs": [
    {
     "name": "stdout",
     "output_type": "stream",
     "text": [
      "\n",
      "Hola\n",
      "Buen día\n"
     ]
    }
   ],
   "source": [
    "print()\n",
    "print('Hola')\n",
    "mensaje = 'Buen día'\n",
    "print(mensaje)"
   ]
  },
  {
   "cell_type": "markdown",
   "metadata": {},
   "source": [
    "En la celda [1], realizamos lo siguiente en cada línea:\n",
    "1. Imprimimos una línea vacía<br>\n",
    "1. Imprimimos el mensaje 'Hola'\n",
    "1. El mensaje 'Buen día' lo guardamos en la variable *__mensaje__*\n",
    "1. Imprimimos el contenido de la variable *__mensaje__*"
   ]
  },
  {
   "cell_type": "markdown",
   "metadata": {},
   "source": [
    "El contenido o información que va adentro de los paréntesis de cualquier función, incluyendo _print_ , se le llama *__argumento__*. El mensaje \"Hola\" en el print de la línea 2, es un argumento al igual que la varibale \"mensaje\" en la línea 4.<br><br>\n",
    "Después vimos que podemos utilizar comillas sencillas o dobles para el texto, según nos convega:"
   ]
  },
  {
   "cell_type": "code",
   "execution_count": 2,
   "metadata": {},
   "outputs": [
    {
     "name": "stdout",
     "output_type": "stream",
     "text": [
      "2.54cm son 1\"\n",
      "Vamos a Carl's Jr.!\n"
     ]
    }
   ],
   "source": [
    "print('2.54cm son 1\"')\n",
    "print(\"Vamos a Carl's Jr.!\")"
   ]
  },
  {
   "cell_type": "markdown",
   "metadata": {},
   "source": [
    "#### Funcionalidades de print que no vimos en la clase"
   ]
  },
  {
   "cell_type": "markdown",
   "metadata": {},
   "source": [
    "Cambiar letras de minúsculas a mayúscula, viceversa, etc. es muy sencillo en Python.  Vamos a cambiar el texto primero a minúsculas, luego todo a mayúsculas y para finalizar solo la primera letra de cada palabra a mayúscula.  Para esto vamos a utilizar los siguientes _**métodos**_ :\n",
    "* .lower( ), para poner todo el texto en minúsculas\n",
    "* .upper( ), para poner todo el texto en mayúsculas\n",
    "* .title( ), para poner la primer letra de cada palabra del texto en mayúsculas\n",
    "\n",
    "Un *__método__* es como una \"opción\" que le puedes aplicar a un argumento.  Por ejemplo los tres métodos anteriores los puedes aplicar para cualquier texto donde sea que se encuentre en el código."
   ]
  },
  {
   "cell_type": "code",
   "execution_count": 3,
   "metadata": {},
   "outputs": [
    {
     "name": "stdout",
     "output_type": "stream",
     "text": [
      "La oración inicial\n",
      "la oración inicial\n",
      "LA ORACIÓN INICIAL\n",
      "La Oración Inicial\n"
     ]
    }
   ],
   "source": [
    "print('La oración inicial')\n",
    "print('La oración inicial'.lower())\n",
    "print('La oración inicial'.upper())\n",
    "print('La oración inicial'.title())"
   ]
  },
  {
   "cell_type": "markdown",
   "metadata": {},
   "source": [
    "Cualquiera de los métodos anteriores también lo podemos aplicar a una variable que contenga texto.<br><br>\n",
    "Lo podemos aplicar al definir una variable:"
   ]
  },
  {
   "cell_type": "code",
   "execution_count": 4,
   "metadata": {},
   "outputs": [
    {
     "name": "stdout",
     "output_type": "stream",
     "text": [
      "LA ORACION EN UNA VARIABLE\n"
     ]
    }
   ],
   "source": [
    "oracion = 'La oracion en una variable'.upper()\n",
    "print(oracion)"
   ]
  },
  {
   "cell_type": "markdown",
   "metadata": {},
   "source": [
    "O al momento de imprimir la varible:"
   ]
  },
  {
   "cell_type": "code",
   "execution_count": 5,
   "metadata": {},
   "outputs": [
    {
     "name": "stdout",
     "output_type": "stream",
     "text": [
      "LA ORACION EN UNA VARIABLE\n"
     ]
    }
   ],
   "source": [
    "oracion = 'La oracion en una variable'\n",
    "print(oracion.upper())"
   ]
  },
  {
   "cell_type": "markdown",
   "metadata": {},
   "source": [
    "También podemos sobreponer un método a otro definido previamente:"
   ]
  },
  {
   "cell_type": "code",
   "execution_count": 6,
   "metadata": {},
   "outputs": [
    {
     "name": "stdout",
     "output_type": "stream",
     "text": [
      "La Oracion En Una Variable\n"
     ]
    }
   ],
   "source": [
    "oracion = 'La oracion en una variable'.upper()\n",
    "print(oracion.title())"
   ]
  },
  {
   "cell_type": "markdown",
   "metadata": {},
   "source": [
    "Las _literales_ de texto, nos ayudan a insertar espacios (línea nueva, tab, etc).  Los más comunes son:\n",
    "* \\n:  Agrega una línea nueva\n",
    "* \\t:  Inserta un TAB\n",
    "\n",
    "En lugar de escribir un código de la siguiente manera:"
   ]
  },
  {
   "cell_type": "code",
   "execution_count": 7,
   "metadata": {},
   "outputs": [
    {
     "name": "stdout",
     "output_type": "stream",
     "text": [
      "REPORTE DIARIO\n",
      "\n",
      "Retorno:\n",
      "    AMX=1.3%\n",
      "    WALMEX=-0.02%\n"
     ]
    }
   ],
   "source": [
    "print('REPORTE DIARIO')\n",
    "print('')\n",
    "print('Retorno:')\n",
    "print('    AMX=1.3%')\n",
    "print('    WALMEX=-0.02%')"
   ]
  },
  {
   "cell_type": "markdown",
   "metadata": {},
   "source": [
    "Podemos hacer lo siguiente:"
   ]
  },
  {
   "cell_type": "code",
   "execution_count": 8,
   "metadata": {
    "scrolled": true
   },
   "outputs": [
    {
     "name": "stdout",
     "output_type": "stream",
     "text": [
      "REPORTE DIARIO\n",
      "\n",
      "Retorno:\n",
      "\tAXM=1.3%\n",
      "\tWALMEX=-0.02\n"
     ]
    }
   ],
   "source": [
    "print('REPORTE DIARIO')\n",
    "print('\\nRetorno:')\n",
    "print('\\tAXM=1.3%')\n",
    "print('\\tWALMEX=-0.02')"
   ]
  },
  {
   "cell_type": "markdown",
   "metadata": {},
   "source": [
    "O tan complejo como quieras:"
   ]
  },
  {
   "cell_type": "code",
   "execution_count": 9,
   "metadata": {
    "scrolled": true
   },
   "outputs": [
    {
     "name": "stdout",
     "output_type": "stream",
     "text": [
      "\n",
      "\n",
      " REPORTES FINANCIEROS\n",
      "\tFEMSA:\n",
      "\t\tEstado de resultados:\n",
      "\t\t\tIngresos: 1,000\n",
      "\t\t\tUtilidad operativa: 40\n",
      "\t\t\tUtilidad neta: 15\n",
      "\t\tBalance General:\n",
      "\t\t\tActivos: 10\n",
      "\t\t\tPasivos: 5\n",
      "\t\t\tCapital: 5\n",
      "\n",
      "\tORBIA:\n",
      "\t\tEstado de resultados:\n"
     ]
    }
   ],
   "source": [
    "print('\\n\\n REPORTES FINANCIEROS')\n",
    "print('\\tFEMSA:')\n",
    "print('\\t\\tEstado de resultados:')\n",
    "print('\\t\\t\\tIngresos: 1,000')\n",
    "print('\\t\\t\\tUtilidad operativa: 40')\n",
    "print('\\t\\t\\tUtilidad neta: 15')\n",
    "print('\\t\\tBalance General:')\n",
    "print('\\t\\t\\tActivos: 10')\n",
    "print('\\t\\t\\tPasivos: 5')\n",
    "print('\\t\\t\\tCapital: 5')\n",
    "print('\\n\\tORBIA:')\n",
    "print('\\t\\tEstado de resultados:')"
   ]
  },
  {
   "cell_type": "markdown",
   "metadata": {},
   "source": [
    "## Variables"
   ]
  },
  {
   "cell_type": "markdown",
   "metadata": {},
   "source": [
    "Ya vimos unos ejemplos utilizando alguna variable.  Una variable es una especie de \"nombre\" o \"etiqueta\" que le das a un valor.  Este valor puede ser fijo o puede ser calculado.  Y una variable puede ser utilizada para calcular el valor de una segunda variable."
   ]
  },
  {
   "cell_type": "code",
   "execution_count": 10,
   "metadata": {},
   "outputs": [
    {
     "name": "stdout",
     "output_type": "stream",
     "text": [
      "15\n",
      "1000000000000000\n",
      "Algo de texto\n"
     ]
    }
   ],
   "source": [
    "x = 5\n",
    "y = 10\n",
    "z = x + y\n",
    "z1 = y**z\n",
    "\n",
    "texto = 'Algo de texto'\n",
    "\n",
    "print(z)\n",
    "print(z1)\n",
    "print(texto)"
   ]
  },
  {
   "cell_type": "markdown",
   "metadata": {},
   "source": [
    "Recuerden que no pudes imprimir directamente texto y valores numéricos."
   ]
  },
  {
   "cell_type": "code",
   "execution_count": 11,
   "metadata": {},
   "outputs": [
    {
     "ename": "TypeError",
     "evalue": "can only concatenate str (not \"int\") to str",
     "output_type": "error",
     "traceback": [
      "\u001b[0;31m---------------------------------------------------------------------------\u001b[0m",
      "\u001b[0;31mTypeError\u001b[0m                                 Traceback (most recent call last)",
      "\u001b[0;32m<ipython-input-11-cd3af007a54d>\u001b[0m in \u001b[0;36m<module>\u001b[0;34m\u001b[0m\n\u001b[0;32m----> 1\u001b[0;31m \u001b[0mprint\u001b[0m\u001b[0;34m(\u001b[0m\u001b[0mtexto\u001b[0m \u001b[0;34m+\u001b[0m \u001b[0mx\u001b[0m\u001b[0;34m)\u001b[0m\u001b[0;34m\u001b[0m\u001b[0;34m\u001b[0m\u001b[0m\n\u001b[0m",
      "\u001b[0;31mTypeError\u001b[0m: can only concatenate str (not \"int\") to str"
     ]
    }
   ],
   "source": [
    "print(texto + x)"
   ]
  },
  {
   "cell_type": "markdown",
   "metadata": {},
   "source": [
    "  Si quieres revisar que tipo de varible está guardando, utiliza la función *__type( )__*"
   ]
  },
  {
   "cell_type": "code",
   "execution_count": 12,
   "metadata": {},
   "outputs": [
    {
     "data": {
      "text/plain": [
       "int"
      ]
     },
     "execution_count": 12,
     "metadata": {},
     "output_type": "execute_result"
    }
   ],
   "source": [
    "type(x)"
   ]
  },
  {
   "cell_type": "markdown",
   "metadata": {},
   "source": [
    "Tipos de variables más comunes:\n",
    "* _int_ :  Número entero\n",
    "* _float_ : Número con decimales\n",
    "* _str_ :  Texto\n",
    "* _bool_ :  Verdadero o falso"
   ]
  },
  {
   "cell_type": "markdown",
   "metadata": {},
   "source": [
    "Para esto es necesario cambiar de manera temporal el tipo de variable de *__int__* a *__string__* usando la función *__str( )__*"
   ]
  },
  {
   "cell_type": "code",
   "execution_count": 13,
   "metadata": {},
   "outputs": [
    {
     "name": "stdout",
     "output_type": "stream",
     "text": [
      "Algo de texto y números 5\n"
     ]
    }
   ],
   "source": [
    "print(texto + ' y números ' + str(x))"
   ]
  },
  {
   "cell_type": "markdown",
   "metadata": {},
   "source": [
    "También podemos igualar más de una variable a un valor:"
   ]
  },
  {
   "cell_type": "code",
   "execution_count": 14,
   "metadata": {},
   "outputs": [],
   "source": [
    "a = b = 1"
   ]
  },
  {
   "cell_type": "code",
   "execution_count": 15,
   "metadata": {},
   "outputs": [
    {
     "data": {
      "text/plain": [
       "2"
      ]
     },
     "execution_count": 15,
     "metadata": {},
     "output_type": "execute_result"
    }
   ],
   "source": [
    "a + b"
   ]
  },
  {
   "cell_type": "code",
   "execution_count": 16,
   "metadata": {},
   "outputs": [],
   "source": [
    "i = 8\n",
    "j = k = i"
   ]
  },
  {
   "cell_type": "code",
   "execution_count": 17,
   "metadata": {},
   "outputs": [
    {
     "data": {
      "text/plain": [
       "16"
      ]
     },
     "execution_count": 17,
     "metadata": {},
     "output_type": "execute_result"
    }
   ],
   "source": [
    "j + k"
   ]
  },
  {
   "cell_type": "markdown",
   "metadata": {},
   "source": [
    "## Función input( )"
   ]
  },
  {
   "cell_type": "markdown",
   "metadata": {},
   "source": [
    "La función _**input( )**_ sirve para preguntarle al usuario algún dato que ocupemos para realizar alguna operación.  Por lo regular a la función *__input( )__* se le asigna una variable para guardar y poder utilizar la información más adelante.<br><br>\n",
    "A continuación vamos a utilizar un simple input sin asginarle ninguna variable:"
   ]
  },
  {
   "cell_type": "code",
   "execution_count": 18,
   "metadata": {},
   "outputs": [
    {
     "name": "stdout",
     "output_type": "stream",
     "text": [
      "Cuál es código ISO del peso mexicano?: MXN\n"
     ]
    },
    {
     "data": {
      "text/plain": [
       "'MXN'"
      ]
     },
     "execution_count": 18,
     "metadata": {},
     "output_type": "execute_result"
    }
   ],
   "source": [
    "input('Cuál es código ISO del peso mexicano?: ')"
   ]
  },
  {
   "cell_type": "markdown",
   "metadata": {},
   "source": [
    "Fuera de eso no podemos hacer nada con la información obtenida, por eso al input se le asocia siempre con una variable."
   ]
  },
  {
   "cell_type": "code",
   "execution_count": 19,
   "metadata": {},
   "outputs": [
    {
     "name": "stdout",
     "output_type": "stream",
     "text": [
      "Cuál es código ISO del peso mexicano?: MXN\n"
     ]
    }
   ],
   "source": [
    "codigo_peso = input('Cuál es código ISO del peso mexicano?: ')"
   ]
  },
  {
   "cell_type": "code",
   "execution_count": 20,
   "metadata": {},
   "outputs": [
    {
     "name": "stdout",
     "output_type": "stream",
     "text": [
      "MXN\n"
     ]
    }
   ],
   "source": [
    "print(codigo_peso)"
   ]
  },
  {
   "cell_type": "markdown",
   "metadata": {},
   "source": [
    "Recuerda que Python toma como *__str__* (texto) todos los valores ingresados con un *__input__*."
   ]
  },
  {
   "cell_type": "code",
   "execution_count": 21,
   "metadata": {
    "scrolled": true
   },
   "outputs": [
    {
     "name": "stdout",
     "output_type": "stream",
     "text": [
      "Cuanto es 2 + 2?: 4\n"
     ]
    }
   ],
   "source": [
    "resultado = input('Cuanto es 2 + 2?: ')"
   ]
  },
  {
   "cell_type": "code",
   "execution_count": 22,
   "metadata": {},
   "outputs": [
    {
     "data": {
      "text/plain": [
       "'4'"
      ]
     },
     "execution_count": 22,
     "metadata": {},
     "output_type": "execute_result"
    }
   ],
   "source": [
    "resultado"
   ]
  },
  {
   "cell_type": "code",
   "execution_count": 23,
   "metadata": {},
   "outputs": [
    {
     "data": {
      "text/plain": [
       "str"
      ]
     },
     "execution_count": 23,
     "metadata": {},
     "output_type": "execute_result"
    }
   ],
   "source": [
    "type(resultado)"
   ]
  },
  {
   "cell_type": "code",
   "execution_count": 24,
   "metadata": {},
   "outputs": [
    {
     "data": {
      "text/plain": [
       "'444'"
      ]
     },
     "execution_count": 24,
     "metadata": {},
     "output_type": "execute_result"
    }
   ],
   "source": [
    "resultado * 3"
   ]
  },
  {
   "cell_type": "markdown",
   "metadata": {},
   "source": [
    "Es necesario transformar toda la función input a valor numérico.:"
   ]
  },
  {
   "cell_type": "code",
   "execution_count": 25,
   "metadata": {},
   "outputs": [
    {
     "name": "stdout",
     "output_type": "stream",
     "text": [
      "Cuanto es 2 + 2?: 4\n"
     ]
    }
   ],
   "source": [
    "resultado = int(input('Cuanto es 2 + 2?: '))"
   ]
  },
  {
   "cell_type": "code",
   "execution_count": 26,
   "metadata": {},
   "outputs": [
    {
     "data": {
      "text/plain": [
       "int"
      ]
     },
     "execution_count": 26,
     "metadata": {},
     "output_type": "execute_result"
    }
   ],
   "source": [
    "type(resultado)"
   ]
  },
  {
   "cell_type": "code",
   "execution_count": 27,
   "metadata": {},
   "outputs": [
    {
     "data": {
      "text/plain": [
       "12"
      ]
     },
     "execution_count": 27,
     "metadata": {},
     "output_type": "execute_result"
    }
   ],
   "source": [
    "resultado * 3"
   ]
  },
  {
   "cell_type": "markdown",
   "metadata": {},
   "source": [
    "## Nuestro primer programa"
   ]
  },
  {
   "cell_type": "markdown",
   "metadata": {},
   "source": [
    "La clase la terminamos escribiendo nuestro primer código.  El programa le pregunta al usuario:\n",
    "1. El monto a invertir\n",
    "1. La tasa de interés anual \n",
    "\n",
    "Después el programa que calcula el interés generado en un periodo y el saldo final y lo despliega al usuario"
   ]
  },
  {
   "cell_type": "code",
   "execution_count": 28,
   "metadata": {},
   "outputs": [
    {
     "name": "stdout",
     "output_type": "stream",
     "text": [
      "Monto a invertir: 1000\n",
      "Tasa simple anual (decimal): .1\n",
      "\n",
      "El interes generado en el periodo fue 100.0\n",
      "El saldo final del periodo es de 1100.0 pesos\n"
     ]
    }
   ],
   "source": [
    "inversion = float(input('Monto a invertir: '))\n",
    "tasa = float(input('Tasa simple anual (decimal): '))\n",
    "\n",
    "interes = inversion * tasa\n",
    "saldo_final = inversion + interes\n",
    "\n",
    "print('\\nEl interes generado en el periodo fue ' + str(interes))\n",
    "print('El saldo final del periodo es de ' + str(saldo_final) + ' pesos')"
   ]
  },
  {
   "cell_type": "markdown",
   "metadata": {},
   "source": [
    "1. Con la función *__input( )__* le preguntamos al usuario por el monto a invertir.  El tipo de variable sabemos que es texto y por eso lo transformamos a valor numérico con decimales usando la función *__float( )__* y guardamos el valor en la variable *__inversión__*.\n",
    "1. En la l2 es lo mismo que l1, solo que en esta ocasión preguntamos por la tasa de interés, la transormamos a valor numérico con decimales y lo guardamos en la variable *__tasa__*.\n",
    "1. _Vacía_\n",
    "1. Calculamos el interés simple generado en el periodo multiplicando las variables *__inversion__* y *__tasa__*.  El resultado lo guardamos en la variable *__interes__*\n",
    "1. El saldo final lo calculamos sumando la variable *__inversion__* y la variable *__interes__* y el resultado lo asignamos a la variable *__saldo_final__*.\n",
    "1. _Vacía_\n",
    "1. lkn"
   ]
  },
  {
   "cell_type": "markdown",
   "metadata": {},
   "source": [
    "## <font color='red'>Rétate a ti mismo!</font>"
   ]
  },
  {
   "cell_type": "markdown",
   "metadata": {},
   "source": [
    "Realiza los siguientes ejercicios en una libreta nueva.  Te sugiero que nombres el archivo con tu nombre y apellido seguido por \"R1\", por reto1.  En mi caso el nombre de la libreta sería _CarlosCrespoR1_ y lo entregues en teams en assigments.  <br><br>\n",
    "\n",
    "\n",
    "Con este documento tienes para aclarar cualquier duda.  Pero por si algún motivo necesiatas más ayuda, no dudes en mandarme un mensaje, de preferencia en el canal *__AlgoTrading__* para que todos puedan ver tu duda y la respuesta, quizá de esa manera le podamos resolver alguna duda a otra persona.<br><br>\n",
    "Si consultas con algún compañero tuyo, que sea para que entiendas los conceptos y no para hacerle un _copy/paste_ a su trabajo. Recuerda que este reto no se califica, *__PERO__* será de mucha importancia dominar los temas para tus proyectos en Python.<br><br>\n",
    "Por último, la única manera de aprender es haciendo las cosas y en este caso entre más rápido empieces, más tiempo tendrás para equivocarte, investigar, preguntar, aprender, avanzar y repetir!.  No dejes todo para el último!"
   ]
  },
  {
   "cell_type": "markdown",
   "metadata": {},
   "source": [
    "### 1er reto:  Mensaje personal"
   ]
  },
  {
   "cell_type": "markdown",
   "metadata": {},
   "source": [
    "* _Guarda el nombre de alguna persona en una variable y después utilizando la función print( ), imprímele un breve mensaje.  Incluye la variable en el print para que su nombre aparezca en el mensaje._"
   ]
  },
  {
   "cell_type": "markdown",
   "metadata": {},
   "source": [
    "### 2do reto:  Jugando con mayúsculas y minúsculas"
   ]
  },
  {
   "cell_type": "markdown",
   "metadata": {},
   "source": [
    "* _Guarda el nombre de alguna persona en una variable y después imprime el contenido de esa variable utilizando puras mayúsculas, en otra línea puras minúsculas y por último en una tercer línea con la primer letra de cada palabra en mayúscula._"
   ]
  },
  {
   "cell_type": "markdown",
   "metadata": {},
   "source": [
    "### 3er reto:  Tu frase favorita!"
   ]
  },
  {
   "cell_type": "markdown",
   "metadata": {},
   "source": [
    "* _Utilizando la función input( ), pregunta por una frase famosa y guarda la frase en la variable **frase**.  Enseguida pregunta por el autor de la frase y asgina el valor a la variable **personaje**.  Después crea una tercer variable que se llame **mensaje** y concatena las dos variables para formar un solo texto que incluya la frase y el autor.  Para finalizar, imprime la variable mensaje.  El resultado deberá de ser algo así:_\n",
    "\n",
    "> \"Una persona que nunca comete un error, nunca intenta cosas nuevas\" Albert Einstein"
   ]
  },
  {
   "cell_type": "markdown",
   "metadata": {},
   "source": [
    "### 4to reto:  El último y nos vamos!!!"
   ]
  },
  {
   "cell_type": "markdown",
   "metadata": {},
   "source": [
    "_Desarrolla un programa que calcule la utilidad/perdida por haber comprado y vendido una acción.  El programa le debe preguntar al usuario los siguientes dos datos:_\n",
    "1. _El precio de compra_\n",
    "1. _El precio de venta_\n",
    "\n",
    "_Después, calcula el retorno.  Si quieres realizar una operación para después el resultado dividirlo lo puedes hacer así:_\n",
    "$$(x-y)/z$$<br>\n",
    "_Despliega un mensaje explicándole al usuario cuanto fué su utilidad/perdida por la operación.  El mensaje debe de incluir valores de texto y numéricos_"
   ]
  },
  {
   "cell_type": "markdown",
   "metadata": {},
   "source": [
    "## <font color='red'>COMO ENTREGAR EL RETO</font>"
   ]
  },
  {
   "cell_type": "markdown",
   "metadata": {},
   "source": [
    "Imprime el reto utilizando las opciones \"FILE / PRINT\" de tu navegador y selecciona que imprima esta página como pdf o similar.  Nombra el archivo con la misma lógica explicada con anterioridad.  Entrega el archivo bajo el assigment \"Rétate a ti mismo en Python\"."
   ]
  }
 ],
 "metadata": {
  "kernelspec": {
   "display_name": "Python 3",
   "language": "python",
   "name": "python3"
  },
  "language_info": {
   "codemirror_mode": {
    "name": "ipython",
    "version": 3
   },
   "file_extension": ".py",
   "mimetype": "text/x-python",
   "name": "python",
   "nbconvert_exporter": "python",
   "pygments_lexer": "ipython3",
   "version": "3.7.4"
  }
 },
 "nbformat": 4,
 "nbformat_minor": 2
}
