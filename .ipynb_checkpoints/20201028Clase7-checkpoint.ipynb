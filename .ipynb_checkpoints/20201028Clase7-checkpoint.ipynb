{
 "cells": [
  {
   "cell_type": "markdown",
   "metadata": {},
   "source": [
    "# <font color='navygray'>MF013 Análisis de inversión:  Introducción a Algotrading</font>\n",
    "Por Carlos Crespo Elizondo, MSF<br>\n",
    "Clase del 28-10-20"
   ]
  },
  {
   "cell_type": "markdown",
   "metadata": {},
   "source": [
    "# <font color='navygray'>SOBRE LOS ARCHIVOS CSV</font>\n"
   ]
  },
  {
   "cell_type": "markdown",
   "metadata": {},
   "source": [
    "La mayoría de los datos que vamos a usar en la clase, los vamos a obtener en archivos CSV. Son archivos de texto simple, separados por coma.  CSV es la abreviación de \"Comma Separated Values\", o valores separados por coma.<br><br>\n",
    "En la mayoría de los archivos CSV, la primer fila representa los encabezados de las columnas.  Todas las filas posteriores, representan entradas de datos.  En algunos casos, las primeras filas representan espcificaciones del archivo en cuestión. "
   ]
  },
  {
   "cell_type": "markdown",
   "metadata": {},
   "source": [
    "# <font color='navygray'>Importar librerías</font>"
   ]
  },
  {
   "cell_type": "markdown",
   "metadata": {},
   "source": [
    "Estas son las librerías que utilizamos.  En la clase importé a mitad del camino la librería *__numpy__* para calcular el LN de los retornos.  Por cuestión de orden lo voy a poner al inicio!"
   ]
  },
  {
   "cell_type": "code",
   "execution_count": 1,
   "metadata": {},
   "outputs": [],
   "source": [
    "import pandas as pd\n",
    "import numpy as np"
   ]
  },
  {
   "cell_type": "markdown",
   "metadata": {},
   "source": [
    "## <font color='navygray'>1. Crear funciones</font>\n",
    "Las funciones es un bloque de código diseñado para hacer un trabajo específico.  Para realizar la tarea programada en la función, solo necesitamos _**llamar**_ a la función con su nombre.<br><br>\n",
    "Las funciones pueden:\n",
    "* Recibir valores\n",
    "* Tener valores predeterminados *por defalut* para el caso en que no se definan valores\n",
    "* NO RECIBIR VALORES!\n",
    "* Regresar un resultado\n",
    "* No regresar nada\n",
    "\n",
    "Vamos a hacer una función que su objetivo sea sumar dos valores que recibe al momento de ser llamada:"
   ]
  },
  {
   "cell_type": "code",
   "execution_count": 2,
   "metadata": {},
   "outputs": [],
   "source": [
    "def funcion_sumar(x, y):\n",
    "    suma = x + y\n",
    "    \n",
    "    return suma"
   ]
  },
  {
   "cell_type": "markdown",
   "metadata": {},
   "source": [
    "1. Definimos la función *__funcion_sumar__* y espera recibir dos valores que seran guardados en las variables \"*x*\" y \"*y*\"\n",
    "1. Realizamos la suma de \"*x*\" y \"*y*\" y el resultado lo guardamos en la variable __*suma*__\n",
    "1. \n",
    "1. Regresamos el valor de __*suma*__\n",
    "\n",
    "La siguiente celda la definí solamente para explicar a que sustituye la función anterior"
   ]
  },
  {
   "cell_type": "code",
   "execution_count": 3,
   "metadata": {},
   "outputs": [
    {
     "name": "stdout",
     "output_type": "stream",
     "text": [
      "50\n"
     ]
    }
   ],
   "source": [
    "a = 10\n",
    "b = 40\n",
    "suma = a + b\n",
    "print(suma)"
   ]
  },
  {
   "cell_type": "markdown",
   "metadata": {},
   "source": [
    "Vamos a llamar a nuestra función __*suma*__ para realizar la suma de 100 + 100:"
   ]
  },
  {
   "cell_type": "code",
   "execution_count": 4,
   "metadata": {
    "scrolled": true
   },
   "outputs": [
    {
     "data": {
      "text/plain": [
       "200"
      ]
     },
     "execution_count": 4,
     "metadata": {},
     "output_type": "execute_result"
    }
   ],
   "source": [
    "funcion_sumar(100,100)"
   ]
  },
  {
   "cell_type": "markdown",
   "metadata": {},
   "source": [
    "También podemos definir el valor de cada variable:"
   ]
  },
  {
   "cell_type": "code",
   "execution_count": 5,
   "metadata": {},
   "outputs": [
    {
     "data": {
      "text/plain": [
       "130"
      ]
     },
     "execution_count": 5,
     "metadata": {},
     "output_type": "execute_result"
    }
   ],
   "source": [
    "funcion_sumar(y = 50, x = 80)"
   ]
  },
  {
   "cell_type": "markdown",
   "metadata": {},
   "source": [
    "Las funciones pueden tener valores *por default*.  Si al momento de llamar a la función NO se especifican valores, entran en automático los valores *default*.  Si al llamar la función SI se especifican valores, los valores espcificados son los que se toman en cuenta.<br><br>\n",
    "REALIZAR FUNCION MULTIPLICAR, ASIGNAR VALORES POR DEFAULT, LA FUNCION DEBE DE ENTREGAR EL RESULTADO DE LA MULTIPLICACION:"
   ]
  },
  {
   "cell_type": "code",
   "execution_count": 6,
   "metadata": {},
   "outputs": [],
   "source": [
    "def funcion_multiplicar(x=10, y=8):\n",
    "    mult = x * y  \n",
    "    \n",
    "    return mult"
   ]
  },
  {
   "cell_type": "code",
   "execution_count": 7,
   "metadata": {},
   "outputs": [
    {
     "data": {
      "text/plain": [
       "8"
      ]
     },
     "execution_count": 7,
     "metadata": {},
     "output_type": "execute_result"
    }
   ],
   "source": [
    "funcion_multiplicar(2, 4)"
   ]
  },
  {
   "cell_type": "markdown",
   "metadata": {},
   "source": [
    "Por lo general el resultado regresado de una función se guarda en una variable:"
   ]
  },
  {
   "cell_type": "code",
   "execution_count": 11,
   "metadata": {},
   "outputs": [],
   "source": [
    "resultado = funcion_multiplicar(2, 4)"
   ]
  },
  {
   "cell_type": "code",
   "execution_count": 12,
   "metadata": {},
   "outputs": [
    {
     "name": "stdout",
     "output_type": "stream",
     "text": [
      "8\n",
      "32\n"
     ]
    }
   ],
   "source": [
    "print(resultado)\n",
    "print(resultado * 4)"
   ]
  },
  {
   "cell_type": "code",
   "execution_count": 8,
   "metadata": {},
   "outputs": [],
   "source": [
    "def funcion_multiplicar2(x=10, y=8):\n",
    "    mult = x * y  \n",
    "    print(mult)\n",
    "    return mult"
   ]
  },
  {
   "cell_type": "code",
   "execution_count": 9,
   "metadata": {},
   "outputs": [
    {
     "name": "stdout",
     "output_type": "stream",
     "text": [
      "80\n"
     ]
    }
   ],
   "source": [
    "x = funcion_multiplicar2()"
   ]
  },
  {
   "cell_type": "code",
   "execution_count": 10,
   "metadata": {},
   "outputs": [
    {
     "name": "stdout",
     "output_type": "stream",
     "text": [
      "80\n"
     ]
    }
   ],
   "source": [
    "print(x)"
   ]
  },
  {
   "cell_type": "markdown",
   "metadata": {},
   "source": [
    "\n",
    "## <font color='navygray'>2. Importar Precios WALMEX</font>\n",
    "Pasos:\n",
    "1. Importar datos de internet, guardarlos en un DataFrame de pandas y gurdarlo como \"__*df*__\"\n",
    "1. Formato del DataFrame:\n",
    "    * Index: Columna de fechas\n",
    "    * Fecha más antigua:  Index 0\n",
    "    * Fecha más reciente:  Index -1\n",
    "    * Nombre y órden de las columnas: \"Apertura\", \"Maximo\", \"Minimo\", \"Cierre\"$^+$\n",
    "1. Crear una columna del DataFrame con los Retornos logarítmicos de los precios de cierre diarios\n",
    "1. Realizar las siguientes gráficas:\n",
    "    * Precios de cierre\n",
    "    * Retornos diarios\n",
    "    * Histograma de los retornos\n",
    "1. Realizar una sola figura con las tres gráficas del punto anterior\n",
    "<br><br>\n",
    "\n",
    "__**NOTAS:__<br>\n",
    "$+$ No te recomiendo utilizar acentos al momento de definir el nombre de variables, columnas, df, etc."
   ]
  },
  {
   "cell_type": "markdown",
   "metadata": {},
   "source": [
    "### <font color='navygray'>2.1 Importar datos de internet</font>"
   ]
  },
  {
   "cell_type": "markdown",
   "metadata": {},
   "source": [
    "La información la vamos a obtener del link definido en 'url'"
   ]
  },
  {
   "cell_type": "code",
   "execution_count": 15,
   "metadata": {},
   "outputs": [],
   "source": [
    "url = 'http://bit.ly/oncedos-walmex'"
   ]
  },
  {
   "attachments": {},
   "cell_type": "markdown",
   "metadata": {},
   "source": [
    "Esta es la lista de las emisoras que tengo sus series de tiempo.  Lo unico que deben de hacer es susituir en el url anterior \"walmex\" por la empresa que quieran obtener sus datos\n",
    "<table>\n",
    "    <tr>\n",
    "      <th><center></center></th>\n",
    "      <th><center></center></th>\n",
    "      <th><center></center></th>\n",
    "      <th><center></center></th>\n",
    "  </tr>\n",
    "    \n",
    "  <tr>\n",
    "    <td style=\"text-align:center;\">ac</td>\n",
    "    <td style=\"text-align:center;\">alfaa</td>\n",
    "    <td style=\"text-align:center;\">alpeka</td>\n",
    "    <td style=\"text-align:center;\">alsea</td>\n",
    "  </tr>\n",
    "  \n",
    "  <tr>\n",
    "    <td style=\"text-align:center;\">amxl</td>\n",
    "    <td style=\"text-align:center;\">asurb</td>\n",
    "    <td style=\"text-align:center;\">bimboa</td>\n",
    "    <td style=\"text-align:center;\">bolsaa</td>\n",
    "  </tr>\n",
    "  \n",
    "  <tr>\n",
    "    <td style=\"text-align:center;\">cemexcpo</td>\n",
    "    <td style=\"text-align:center;\">elektra</td>\n",
    "    <td style=\"text-align:center;\">femsaubd</td>\n",
    "    <td style=\"text-align:center;\">gapb</td>\n",
    "  </tr>\n",
    "  \n",
    "  <tr>\n",
    "    <td style=\"text-align:center;\">gcarsoa1</td>\n",
    "    <td style=\"text-align:center;\">gcc</td>\n",
    "    <td style=\"text-align:center;\">gmexicob</td>\n",
    "    <td style=\"text-align:center;\">grumab</td>\n",
    "  </tr>\n",
    "  \n",
    "  <tr>\n",
    "    <td style=\"text-align:center;\">ienova</td>\n",
    "    <td style=\"text-align:center;\">kimbera</td>\n",
    "    <td style=\"text-align:center;\">kofubl</td>\n",
    "    <td style=\"text-align:center;\">labb</td>\n",
    "  </tr>\n",
    "  \n",
    "  <tr>\n",
    "    <td style=\"text-align:center;\">livepolc1</td>\n",
    "    <td style=\"text-align:center;\">megacpo</td>\n",
    "    <td style=\"text-align:center;\">omab</td>\n",
    "    <td style=\"text-align:center;\">orbia</td>\n",
    "  </tr>\n",
    "\n",
    "  <tr>\n",
    "    <td style=\"text-align:center;\">penoles</td>\n",
    "    <td style=\"text-align:center;\">pinfra</td>\n",
    "    <td style=\"text-align:center;\">tlevisacpo</td>\n",
    "    <td style=\"text-align:center;\">walmex</td>\n",
    "  </tr>\n",
    "\n",
    "  <tr>\n",
    "    <td style=\"text-align:center;\"></td>\n",
    "    <td style=\"text-align:center;\"></td>\n",
    "    <td style=\"text-align:center;\"></td>\n",
    "    <td style=\"text-align:center;\"></td>\n",
    "  </tr>\n",
    "\n",
    "  <tr>\n",
    "    <td style=\"text-align:center;\"></td>\n",
    "    <td style=\"text-align:center;\"></td>\n",
    "    <td style=\"text-align:center;\"></td>\n",
    "    <td style=\"text-align:center;\"></td>\n",
    "  </tr>\n",
    "\n",
    "</table>\n",
    "\n",
    "La función de pandas *__read_csv__*, lee archivos CSV y los guarda en un DataFrame.  La manera más sencilla para importar datos csv es simplemente definir el *file paht*.  En este caso es una dirección de internet, pero también puede ser un direcotorio en tu compu, etc."
   ]
  },
  {
   "cell_type": "code",
   "execution_count": 16,
   "metadata": {},
   "outputs": [],
   "source": [
    "df = pd.read_csv(url)"
   ]
  },
  {
   "cell_type": "markdown",
   "metadata": {},
   "source": [
    "Vamos a visualizar la información del DataFrame.  Para esto tenemos varias maneras de hacerlo:\n",
    "1. .head(...):  Nos entrega los primero 5 renglones del DataFrame, al menos que especifiquemos otro número\n",
    "1. .tail(...):  Nos entrega los últimos 5 renglones del DataFrame, al menos que especifiquemos otro número\n",
    "1. .info( ):  Nos da un resumen del tipo de datos en el DataFrmae"
   ]
  },
  {
   "cell_type": "code",
   "execution_count": 17,
   "metadata": {},
   "outputs": [
    {
     "data": {
      "text/html": [
       "<div>\n",
       "<style scoped>\n",
       "    .dataframe tbody tr th:only-of-type {\n",
       "        vertical-align: middle;\n",
       "    }\n",
       "\n",
       "    .dataframe tbody tr th {\n",
       "        vertical-align: top;\n",
       "    }\n",
       "\n",
       "    .dataframe thead th {\n",
       "        text-align: right;\n",
       "    }\n",
       "</style>\n",
       "<table border=\"1\" class=\"dataframe\">\n",
       "  <thead>\n",
       "    <tr style=\"text-align: right;\">\n",
       "      <th></th>\n",
       "      <th>Security</th>\n",
       "      <th>WALMEX* MF Equity</th>\n",
       "      <th>Unnamed: 2</th>\n",
       "      <th>Unnamed: 3</th>\n",
       "      <th>Unnamed: 4</th>\n",
       "      <th>Unnamed: 5</th>\n",
       "      <th>Unnamed: 6</th>\n",
       "      <th>Unnamed: 7</th>\n",
       "      <th>Unnamed: 8</th>\n",
       "      <th>Unnamed: 9</th>\n",
       "      <th>Unnamed: 10</th>\n",
       "      <th>Unnamed: 11</th>\n",
       "      <th>Unnamed: 12</th>\n",
       "    </tr>\n",
       "  </thead>\n",
       "  <tbody>\n",
       "    <tr>\n",
       "      <th>0</th>\n",
       "      <td>Start Date</td>\n",
       "      <td>31/12/2009 00:00</td>\n",
       "      <td>NaN</td>\n",
       "      <td>NaN</td>\n",
       "      <td>NaN</td>\n",
       "      <td>NaN</td>\n",
       "      <td>NaN</td>\n",
       "      <td>NaN</td>\n",
       "      <td>NaN</td>\n",
       "      <td>NaN</td>\n",
       "      <td>NaN</td>\n",
       "      <td>NaN</td>\n",
       "      <td>NaN</td>\n",
       "    </tr>\n",
       "    <tr>\n",
       "      <th>1</th>\n",
       "      <td>End Date</td>\n",
       "      <td>04/10/2019 00:00</td>\n",
       "      <td>NaN</td>\n",
       "      <td>NaN</td>\n",
       "      <td>NaN</td>\n",
       "      <td>NaN</td>\n",
       "      <td>NaN</td>\n",
       "      <td>NaN</td>\n",
       "      <td>NaN</td>\n",
       "      <td>NaN</td>\n",
       "      <td>NaN</td>\n",
       "      <td>NaN</td>\n",
       "      <td>NaN</td>\n",
       "    </tr>\n",
       "    <tr>\n",
       "      <th>2</th>\n",
       "      <td>Period</td>\n",
       "      <td>D</td>\n",
       "      <td>NaN</td>\n",
       "      <td>NaN</td>\n",
       "      <td>NaN</td>\n",
       "      <td>NaN</td>\n",
       "      <td>NaN</td>\n",
       "      <td>NaN</td>\n",
       "      <td>NaN</td>\n",
       "      <td>NaN</td>\n",
       "      <td>NaN</td>\n",
       "      <td>NaN</td>\n",
       "      <td>NaN</td>\n",
       "    </tr>\n",
       "    <tr>\n",
       "      <th>3</th>\n",
       "      <td>Currency</td>\n",
       "      <td>MXN</td>\n",
       "      <td>NaN</td>\n",
       "      <td>NaN</td>\n",
       "      <td>NaN</td>\n",
       "      <td>NaN</td>\n",
       "      <td>NaN</td>\n",
       "      <td>NaN</td>\n",
       "      <td>NaN</td>\n",
       "      <td>NaN</td>\n",
       "      <td>NaN</td>\n",
       "      <td>NaN</td>\n",
       "      <td>NaN</td>\n",
       "    </tr>\n",
       "    <tr>\n",
       "      <th>4</th>\n",
       "      <td>NaN</td>\n",
       "      <td>NaN</td>\n",
       "      <td>NaN</td>\n",
       "      <td>NaN</td>\n",
       "      <td>NaN</td>\n",
       "      <td>NaN</td>\n",
       "      <td>NaN</td>\n",
       "      <td>NaN</td>\n",
       "      <td>NaN</td>\n",
       "      <td>NaN</td>\n",
       "      <td>NaN</td>\n",
       "      <td>NaN</td>\n",
       "      <td>NaN</td>\n",
       "    </tr>\n",
       "  </tbody>\n",
       "</table>\n",
       "</div>"
      ],
      "text/plain": [
       "     Security  \\\n",
       "0  Start Date   \n",
       "1    End Date   \n",
       "2      Period   \n",
       "3    Currency   \n",
       "4         NaN   \n",
       "\n",
       "  WALMEX* MF Equity                                                Unnamed: 2  \\\n",
       "0                                   31/12/2009 00:00                      NaN   \n",
       "1                                   04/10/2019 00:00                      NaN   \n",
       "2                                                  D                      NaN   \n",
       "3                                                MXN                      NaN   \n",
       "4                                                NaN                      NaN   \n",
       "\n",
       "  Unnamed: 3 Unnamed: 4 Unnamed: 5 Unnamed: 6 Unnamed: 7 Unnamed: 8  \\\n",
       "0        NaN        NaN        NaN        NaN        NaN        NaN   \n",
       "1        NaN        NaN        NaN        NaN        NaN        NaN   \n",
       "2        NaN        NaN        NaN        NaN        NaN        NaN   \n",
       "3        NaN        NaN        NaN        NaN        NaN        NaN   \n",
       "4        NaN        NaN        NaN        NaN        NaN        NaN   \n",
       "\n",
       "  Unnamed: 9 Unnamed: 10 Unnamed: 11 Unnamed: 12  \n",
       "0        NaN         NaN         NaN         NaN  \n",
       "1        NaN         NaN         NaN         NaN  \n",
       "2        NaN         NaN         NaN         NaN  \n",
       "3        NaN         NaN         NaN         NaN  \n",
       "4        NaN         NaN         NaN         NaN  "
      ]
     },
     "execution_count": 17,
     "metadata": {},
     "output_type": "execute_result"
    }
   ],
   "source": [
    "df.head()"
   ]
  },
  {
   "cell_type": "markdown",
   "metadata": {},
   "source": [
    "Podemos observar los siguientes puntos del DF:\n",
    "1. Los titulos de las columnas NO SON los que queremos\n",
    "1. Las primeras 6 filas es basura"
   ]
  },
  {
   "cell_type": "code",
   "execution_count": 18,
   "metadata": {},
   "outputs": [
    {
     "data": {
      "text/html": [
       "<div>\n",
       "<style scoped>\n",
       "    .dataframe tbody tr th:only-of-type {\n",
       "        vertical-align: middle;\n",
       "    }\n",
       "\n",
       "    .dataframe tbody tr th {\n",
       "        vertical-align: top;\n",
       "    }\n",
       "\n",
       "    .dataframe thead th {\n",
       "        text-align: right;\n",
       "    }\n",
       "</style>\n",
       "<table border=\"1\" class=\"dataframe\">\n",
       "  <thead>\n",
       "    <tr style=\"text-align: right;\">\n",
       "      <th></th>\n",
       "      <th>Security</th>\n",
       "      <th>WALMEX* MF Equity</th>\n",
       "      <th>Unnamed: 2</th>\n",
       "      <th>Unnamed: 3</th>\n",
       "      <th>Unnamed: 4</th>\n",
       "      <th>Unnamed: 5</th>\n",
       "      <th>Unnamed: 6</th>\n",
       "      <th>Unnamed: 7</th>\n",
       "      <th>Unnamed: 8</th>\n",
       "      <th>Unnamed: 9</th>\n",
       "      <th>Unnamed: 10</th>\n",
       "      <th>Unnamed: 11</th>\n",
       "      <th>Unnamed: 12</th>\n",
       "    </tr>\n",
       "  </thead>\n",
       "  <tbody>\n",
       "    <tr>\n",
       "      <th>2451</th>\n",
       "      <td>15/01/2010</td>\n",
       "      <td>30.785</td>\n",
       "      <td>NaN</td>\n",
       "      <td>NaN</td>\n",
       "      <td>30.625</td>\n",
       "      <td>NaN</td>\n",
       "      <td>NaN</td>\n",
       "      <td>30.9</td>\n",
       "      <td>NaN</td>\n",
       "      <td>NaN</td>\n",
       "      <td>30.56</td>\n",
       "      <td>NaN</td>\n",
       "      <td>NaN</td>\n",
       "    </tr>\n",
       "    <tr>\n",
       "      <th>2452</th>\n",
       "      <td>14/01/2010</td>\n",
       "      <td>30.615</td>\n",
       "      <td>NaN</td>\n",
       "      <td>NaN</td>\n",
       "      <td>30.54</td>\n",
       "      <td>NaN</td>\n",
       "      <td>NaN</td>\n",
       "      <td>31.065</td>\n",
       "      <td>NaN</td>\n",
       "      <td>NaN</td>\n",
       "      <td>30.275</td>\n",
       "      <td>NaN</td>\n",
       "      <td>NaN</td>\n",
       "    </tr>\n",
       "    <tr>\n",
       "      <th>2453</th>\n",
       "      <td>13/01/2010</td>\n",
       "      <td>30.54</td>\n",
       "      <td>NaN</td>\n",
       "      <td>NaN</td>\n",
       "      <td>30.875</td>\n",
       "      <td>NaN</td>\n",
       "      <td>NaN</td>\n",
       "      <td>31.62</td>\n",
       "      <td>NaN</td>\n",
       "      <td>NaN</td>\n",
       "      <td>30.35</td>\n",
       "      <td>NaN</td>\n",
       "      <td>NaN</td>\n",
       "    </tr>\n",
       "    <tr>\n",
       "      <th>2454</th>\n",
       "      <td>12/01/2010</td>\n",
       "      <td>30.875</td>\n",
       "      <td>NaN</td>\n",
       "      <td>NaN</td>\n",
       "      <td>30.3</td>\n",
       "      <td>NaN</td>\n",
       "      <td>NaN</td>\n",
       "      <td>31.1</td>\n",
       "      <td>NaN</td>\n",
       "      <td>NaN</td>\n",
       "      <td>30.24</td>\n",
       "      <td>NaN</td>\n",
       "      <td>NaN</td>\n",
       "    </tr>\n",
       "    <tr>\n",
       "      <th>2455</th>\n",
       "      <td>11/01/2010</td>\n",
       "      <td>30.365</td>\n",
       "      <td>NaN</td>\n",
       "      <td>NaN</td>\n",
       "      <td>29.68</td>\n",
       "      <td>NaN</td>\n",
       "      <td>NaN</td>\n",
       "      <td>30.675</td>\n",
       "      <td>NaN</td>\n",
       "      <td>NaN</td>\n",
       "      <td>29.68</td>\n",
       "      <td>NaN</td>\n",
       "      <td>NaN</td>\n",
       "    </tr>\n",
       "    <tr>\n",
       "      <th>2456</th>\n",
       "      <td>08/01/2010</td>\n",
       "      <td>29.68</td>\n",
       "      <td>NaN</td>\n",
       "      <td>NaN</td>\n",
       "      <td>29.88</td>\n",
       "      <td>NaN</td>\n",
       "      <td>NaN</td>\n",
       "      <td>29.88</td>\n",
       "      <td>NaN</td>\n",
       "      <td>NaN</td>\n",
       "      <td>29.5</td>\n",
       "      <td>NaN</td>\n",
       "      <td>NaN</td>\n",
       "    </tr>\n",
       "    <tr>\n",
       "      <th>2457</th>\n",
       "      <td>07/01/2010</td>\n",
       "      <td>29.805</td>\n",
       "      <td>NaN</td>\n",
       "      <td>NaN</td>\n",
       "      <td>30.5</td>\n",
       "      <td>NaN</td>\n",
       "      <td>NaN</td>\n",
       "      <td>30.5</td>\n",
       "      <td>NaN</td>\n",
       "      <td>NaN</td>\n",
       "      <td>29.755</td>\n",
       "      <td>NaN</td>\n",
       "      <td>NaN</td>\n",
       "    </tr>\n",
       "    <tr>\n",
       "      <th>2458</th>\n",
       "      <td>06/01/2010</td>\n",
       "      <td>30.365</td>\n",
       "      <td>NaN</td>\n",
       "      <td>NaN</td>\n",
       "      <td>30.35</td>\n",
       "      <td>NaN</td>\n",
       "      <td>NaN</td>\n",
       "      <td>30.5</td>\n",
       "      <td>NaN</td>\n",
       "      <td>NaN</td>\n",
       "      <td>30.145</td>\n",
       "      <td>NaN</td>\n",
       "      <td>NaN</td>\n",
       "    </tr>\n",
       "    <tr>\n",
       "      <th>2459</th>\n",
       "      <td>05/01/2010</td>\n",
       "      <td>30.365</td>\n",
       "      <td>NaN</td>\n",
       "      <td>NaN</td>\n",
       "      <td>29.78</td>\n",
       "      <td>NaN</td>\n",
       "      <td>NaN</td>\n",
       "      <td>30.585</td>\n",
       "      <td>NaN</td>\n",
       "      <td>NaN</td>\n",
       "      <td>29.69</td>\n",
       "      <td>NaN</td>\n",
       "      <td>NaN</td>\n",
       "    </tr>\n",
       "    <tr>\n",
       "      <th>2460</th>\n",
       "      <td>04/01/2010</td>\n",
       "      <td>29.78</td>\n",
       "      <td>NaN</td>\n",
       "      <td>NaN</td>\n",
       "      <td>29.95</td>\n",
       "      <td>NaN</td>\n",
       "      <td>NaN</td>\n",
       "      <td>30.1</td>\n",
       "      <td>NaN</td>\n",
       "      <td>NaN</td>\n",
       "      <td>29.155</td>\n",
       "      <td>NaN</td>\n",
       "      <td>NaN</td>\n",
       "    </tr>\n",
       "  </tbody>\n",
       "</table>\n",
       "</div>"
      ],
      "text/plain": [
       "        Security  \\\n",
       "2451  15/01/2010   \n",
       "2452  14/01/2010   \n",
       "2453  13/01/2010   \n",
       "2454  12/01/2010   \n",
       "2455  11/01/2010   \n",
       "2456  08/01/2010   \n",
       "2457  07/01/2010   \n",
       "2458  06/01/2010   \n",
       "2459  05/01/2010   \n",
       "2460  04/01/2010   \n",
       "\n",
       "     WALMEX* MF Equity                                                 \\\n",
       "2451                                             30.785                 \n",
       "2452                                             30.615                 \n",
       "2453                                              30.54                 \n",
       "2454                                             30.875                 \n",
       "2455                                             30.365                 \n",
       "2456                                              29.68                 \n",
       "2457                                             29.805                 \n",
       "2458                                             30.365                 \n",
       "2459                                             30.365                 \n",
       "2460                                              29.78                 \n",
       "\n",
       "     Unnamed: 2 Unnamed: 3 Unnamed: 4 Unnamed: 5 Unnamed: 6 Unnamed: 7  \\\n",
       "2451        NaN        NaN     30.625        NaN        NaN       30.9   \n",
       "2452        NaN        NaN      30.54        NaN        NaN     31.065   \n",
       "2453        NaN        NaN     30.875        NaN        NaN      31.62   \n",
       "2454        NaN        NaN       30.3        NaN        NaN       31.1   \n",
       "2455        NaN        NaN      29.68        NaN        NaN     30.675   \n",
       "2456        NaN        NaN      29.88        NaN        NaN      29.88   \n",
       "2457        NaN        NaN       30.5        NaN        NaN       30.5   \n",
       "2458        NaN        NaN      30.35        NaN        NaN       30.5   \n",
       "2459        NaN        NaN      29.78        NaN        NaN     30.585   \n",
       "2460        NaN        NaN      29.95        NaN        NaN       30.1   \n",
       "\n",
       "     Unnamed: 8 Unnamed: 9 Unnamed: 10 Unnamed: 11 Unnamed: 12  \n",
       "2451        NaN        NaN       30.56         NaN         NaN  \n",
       "2452        NaN        NaN      30.275         NaN         NaN  \n",
       "2453        NaN        NaN       30.35         NaN         NaN  \n",
       "2454        NaN        NaN       30.24         NaN         NaN  \n",
       "2455        NaN        NaN       29.68         NaN         NaN  \n",
       "2456        NaN        NaN        29.5         NaN         NaN  \n",
       "2457        NaN        NaN      29.755         NaN         NaN  \n",
       "2458        NaN        NaN      30.145         NaN         NaN  \n",
       "2459        NaN        NaN       29.69         NaN         NaN  \n",
       "2460        NaN        NaN      29.155         NaN         NaN  "
      ]
     },
     "execution_count": 18,
     "metadata": {},
     "output_type": "execute_result"
    }
   ],
   "source": [
    "df.tail(10)"
   ]
  },
  {
   "cell_type": "markdown",
   "metadata": {},
   "source": [
    "Podemos observar los siguientes puntos del final del DF:\n",
    "1. Las fechas no están en el INDEX"
   ]
  },
  {
   "cell_type": "code",
   "execution_count": 19,
   "metadata": {},
   "outputs": [
    {
     "name": "stdout",
     "output_type": "stream",
     "text": [
      "<class 'pandas.core.frame.DataFrame'>\n",
      "RangeIndex: 2461 entries, 0 to 2460\n",
      "Data columns (total 13 columns):\n",
      " #   Column                                                            Non-Null Count  Dtype \n",
      "---  ------                                                            --------------  ----- \n",
      " 0   Security                                                          2460 non-null   object\n",
      " 1   WALMEX* MF Equity                                                 2460 non-null   object\n",
      " 2   Unnamed: 2                                                        700 non-null    object\n",
      " 3   Unnamed: 3                                                        700 non-null    object\n",
      " 4   Unnamed: 4                                                        2456 non-null   object\n",
      " 5   Unnamed: 5                                                        700 non-null    object\n",
      " 6   Unnamed: 6                                                        700 non-null    object\n",
      " 7   Unnamed: 7                                                        2456 non-null   object\n",
      " 8   Unnamed: 8                                                        700 non-null    object\n",
      " 9   Unnamed: 9                                                        700 non-null    object\n",
      " 10  Unnamed: 10                                                       2456 non-null   object\n",
      " 11  Unnamed: 11                                                       700 non-null    object\n",
      " 12  Unnamed: 12                                                       700 non-null    object\n",
      "dtypes: object(13)\n",
      "memory usage: 250.1+ KB\n"
     ]
    }
   ],
   "source": [
    "df.info()"
   ]
  },
  {
   "cell_type": "markdown",
   "metadata": {},
   "source": [
    "Podemos ver con .info que las columnas no tienen valores númericos sino OBJECT.  Esta importación no funcionó, ahora vamos a cargar los datos nuevamente pero saltando las primeras 6 filas con la opción *__skiprow__*:"
   ]
  },
  {
   "cell_type": "code",
   "execution_count": 20,
   "metadata": {},
   "outputs": [
    {
     "data": {
      "text/html": [
       "<div>\n",
       "<style scoped>\n",
       "    .dataframe tbody tr th:only-of-type {\n",
       "        vertical-align: middle;\n",
       "    }\n",
       "\n",
       "    .dataframe tbody tr th {\n",
       "        vertical-align: top;\n",
       "    }\n",
       "\n",
       "    .dataframe thead th {\n",
       "        text-align: right;\n",
       "    }\n",
       "</style>\n",
       "<table border=\"1\" class=\"dataframe\">\n",
       "  <thead>\n",
       "    <tr style=\"text-align: right;\">\n",
       "      <th></th>\n",
       "      <th>Date</th>\n",
       "      <th>PX_LAST</th>\n",
       "      <th>Change</th>\n",
       "      <th>% Change</th>\n",
       "      <th>PX_OPEN</th>\n",
       "      <th>Change.1</th>\n",
       "      <th>% Change.1</th>\n",
       "      <th>PX_HIGH</th>\n",
       "      <th>Change.2</th>\n",
       "      <th>% Change.2</th>\n",
       "      <th>PX_LOW</th>\n",
       "      <th>Change.3</th>\n",
       "      <th>% Change.3</th>\n",
       "    </tr>\n",
       "  </thead>\n",
       "  <tbody>\n",
       "    <tr>\n",
       "      <th>0</th>\n",
       "      <td>04/10/2019</td>\n",
       "      <td>58.92</td>\n",
       "      <td>0.73</td>\n",
       "      <td>1.254511</td>\n",
       "      <td>58.08</td>\n",
       "      <td>-0.11</td>\n",
       "      <td>-0.189036</td>\n",
       "      <td>59.05</td>\n",
       "      <td>0.86</td>\n",
       "      <td>1.477917</td>\n",
       "      <td>57.96</td>\n",
       "      <td>-0.23</td>\n",
       "      <td>-0.395257</td>\n",
       "    </tr>\n",
       "    <tr>\n",
       "      <th>1</th>\n",
       "      <td>03/10/2019</td>\n",
       "      <td>58.19</td>\n",
       "      <td>0.79</td>\n",
       "      <td>1.376307</td>\n",
       "      <td>57.40</td>\n",
       "      <td>0.00</td>\n",
       "      <td>0.000000</td>\n",
       "      <td>58.31</td>\n",
       "      <td>0.91</td>\n",
       "      <td>1.585366</td>\n",
       "      <td>57.11</td>\n",
       "      <td>-0.29</td>\n",
       "      <td>-0.505226</td>\n",
       "    </tr>\n",
       "    <tr>\n",
       "      <th>2</th>\n",
       "      <td>02/10/2019</td>\n",
       "      <td>57.40</td>\n",
       "      <td>-1.08</td>\n",
       "      <td>-1.846785</td>\n",
       "      <td>58.18</td>\n",
       "      <td>-0.30</td>\n",
       "      <td>-0.512996</td>\n",
       "      <td>58.19</td>\n",
       "      <td>-0.29</td>\n",
       "      <td>-0.495896</td>\n",
       "      <td>57.10</td>\n",
       "      <td>-1.38</td>\n",
       "      <td>-2.359781</td>\n",
       "    </tr>\n",
       "    <tr>\n",
       "      <th>3</th>\n",
       "      <td>01/10/2019</td>\n",
       "      <td>58.48</td>\n",
       "      <td>0.00</td>\n",
       "      <td>0.000000</td>\n",
       "      <td>58.49</td>\n",
       "      <td>0.01</td>\n",
       "      <td>0.017100</td>\n",
       "      <td>59.14</td>\n",
       "      <td>0.66</td>\n",
       "      <td>1.128591</td>\n",
       "      <td>58.25</td>\n",
       "      <td>-0.23</td>\n",
       "      <td>-0.393297</td>\n",
       "    </tr>\n",
       "    <tr>\n",
       "      <th>4</th>\n",
       "      <td>30/09/2019</td>\n",
       "      <td>58.48</td>\n",
       "      <td>0.13</td>\n",
       "      <td>0.222793</td>\n",
       "      <td>58.41</td>\n",
       "      <td>0.06</td>\n",
       "      <td>0.102828</td>\n",
       "      <td>58.99</td>\n",
       "      <td>0.64</td>\n",
       "      <td>1.096829</td>\n",
       "      <td>58.34</td>\n",
       "      <td>-0.01</td>\n",
       "      <td>-0.017138</td>\n",
       "    </tr>\n",
       "  </tbody>\n",
       "</table>\n",
       "</div>"
      ],
      "text/plain": [
       "         Date  PX_LAST  Change  % Change  PX_OPEN  Change.1  % Change.1  \\\n",
       "0  04/10/2019    58.92    0.73  1.254511    58.08     -0.11   -0.189036   \n",
       "1  03/10/2019    58.19    0.79  1.376307    57.40      0.00    0.000000   \n",
       "2  02/10/2019    57.40   -1.08 -1.846785    58.18     -0.30   -0.512996   \n",
       "3  01/10/2019    58.48    0.00  0.000000    58.49      0.01    0.017100   \n",
       "4  30/09/2019    58.48    0.13  0.222793    58.41      0.06    0.102828   \n",
       "\n",
       "   PX_HIGH  Change.2  % Change.2  PX_LOW  Change.3  % Change.3  \n",
       "0    59.05      0.86    1.477917   57.96     -0.23   -0.395257  \n",
       "1    58.31      0.91    1.585366   57.11     -0.29   -0.505226  \n",
       "2    58.19     -0.29   -0.495896   57.10     -1.38   -2.359781  \n",
       "3    59.14      0.66    1.128591   58.25     -0.23   -0.393297  \n",
       "4    58.99      0.64    1.096829   58.34     -0.01   -0.017138  "
      ]
     },
     "execution_count": 20,
     "metadata": {},
     "output_type": "execute_result"
    }
   ],
   "source": [
    "df = pd.read_csv(url, skiprows = 6)\n",
    "df.head()"
   ]
  },
  {
   "cell_type": "code",
   "execution_count": 21,
   "metadata": {},
   "outputs": [
    {
     "name": "stdout",
     "output_type": "stream",
     "text": [
      "<class 'pandas.core.frame.DataFrame'>\n",
      "RangeIndex: 2455 entries, 0 to 2454\n",
      "Data columns (total 13 columns):\n",
      " #   Column      Non-Null Count  Dtype  \n",
      "---  ------      --------------  -----  \n",
      " 0   Date        2455 non-null   object \n",
      " 1   PX_LAST     2455 non-null   float64\n",
      " 2   Change      699 non-null    float64\n",
      " 3   % Change    699 non-null    float64\n",
      " 4   PX_OPEN     2455 non-null   float64\n",
      " 5   Change.1    699 non-null    float64\n",
      " 6   % Change.1  699 non-null    float64\n",
      " 7   PX_HIGH     2455 non-null   float64\n",
      " 8   Change.2    699 non-null    float64\n",
      " 9   % Change.2  699 non-null    float64\n",
      " 10  PX_LOW      2455 non-null   float64\n",
      " 11  Change.3    699 non-null    float64\n",
      " 12  % Change.3  699 non-null    float64\n",
      "dtypes: float64(12), object(1)\n",
      "memory usage: 249.5+ KB\n"
     ]
    }
   ],
   "source": [
    "df.info()"
   ]
  },
  {
   "cell_type": "markdown",
   "metadata": {},
   "source": [
    "Al saltarnos las primeras 6 filas, logramos:\n",
    "1. Eliminar datos basura\n",
    "1. Tener el nombre correcto de las columnas\n",
    "1. Que los datos numéricos sean interpretados como tal\n",
    "\n",
    "Pero nos faltó poner las fechas en el INDEX.  Esto lo vamos a lograr especificando cual es la columna INDEX utilizando *__index_col__*:"
   ]
  },
  {
   "cell_type": "code",
   "execution_count": 22,
   "metadata": {},
   "outputs": [
    {
     "data": {
      "text/html": [
       "<div>\n",
       "<style scoped>\n",
       "    .dataframe tbody tr th:only-of-type {\n",
       "        vertical-align: middle;\n",
       "    }\n",
       "\n",
       "    .dataframe tbody tr th {\n",
       "        vertical-align: top;\n",
       "    }\n",
       "\n",
       "    .dataframe thead th {\n",
       "        text-align: right;\n",
       "    }\n",
       "</style>\n",
       "<table border=\"1\" class=\"dataframe\">\n",
       "  <thead>\n",
       "    <tr style=\"text-align: right;\">\n",
       "      <th></th>\n",
       "      <th>PX_LAST</th>\n",
       "      <th>Change</th>\n",
       "      <th>% Change</th>\n",
       "      <th>PX_OPEN</th>\n",
       "      <th>Change.1</th>\n",
       "      <th>% Change.1</th>\n",
       "      <th>PX_HIGH</th>\n",
       "      <th>Change.2</th>\n",
       "      <th>% Change.2</th>\n",
       "      <th>PX_LOW</th>\n",
       "      <th>Change.3</th>\n",
       "      <th>% Change.3</th>\n",
       "    </tr>\n",
       "    <tr>\n",
       "      <th>Date</th>\n",
       "      <th></th>\n",
       "      <th></th>\n",
       "      <th></th>\n",
       "      <th></th>\n",
       "      <th></th>\n",
       "      <th></th>\n",
       "      <th></th>\n",
       "      <th></th>\n",
       "      <th></th>\n",
       "      <th></th>\n",
       "      <th></th>\n",
       "      <th></th>\n",
       "    </tr>\n",
       "  </thead>\n",
       "  <tbody>\n",
       "    <tr>\n",
       "      <th>04/10/2019</th>\n",
       "      <td>58.92</td>\n",
       "      <td>0.73</td>\n",
       "      <td>1.254511</td>\n",
       "      <td>58.08</td>\n",
       "      <td>-0.11</td>\n",
       "      <td>-0.189036</td>\n",
       "      <td>59.05</td>\n",
       "      <td>0.86</td>\n",
       "      <td>1.477917</td>\n",
       "      <td>57.96</td>\n",
       "      <td>-0.23</td>\n",
       "      <td>-0.395257</td>\n",
       "    </tr>\n",
       "    <tr>\n",
       "      <th>03/10/2019</th>\n",
       "      <td>58.19</td>\n",
       "      <td>0.79</td>\n",
       "      <td>1.376307</td>\n",
       "      <td>57.40</td>\n",
       "      <td>0.00</td>\n",
       "      <td>0.000000</td>\n",
       "      <td>58.31</td>\n",
       "      <td>0.91</td>\n",
       "      <td>1.585366</td>\n",
       "      <td>57.11</td>\n",
       "      <td>-0.29</td>\n",
       "      <td>-0.505226</td>\n",
       "    </tr>\n",
       "    <tr>\n",
       "      <th>02/10/2019</th>\n",
       "      <td>57.40</td>\n",
       "      <td>-1.08</td>\n",
       "      <td>-1.846785</td>\n",
       "      <td>58.18</td>\n",
       "      <td>-0.30</td>\n",
       "      <td>-0.512996</td>\n",
       "      <td>58.19</td>\n",
       "      <td>-0.29</td>\n",
       "      <td>-0.495896</td>\n",
       "      <td>57.10</td>\n",
       "      <td>-1.38</td>\n",
       "      <td>-2.359781</td>\n",
       "    </tr>\n",
       "    <tr>\n",
       "      <th>01/10/2019</th>\n",
       "      <td>58.48</td>\n",
       "      <td>0.00</td>\n",
       "      <td>0.000000</td>\n",
       "      <td>58.49</td>\n",
       "      <td>0.01</td>\n",
       "      <td>0.017100</td>\n",
       "      <td>59.14</td>\n",
       "      <td>0.66</td>\n",
       "      <td>1.128591</td>\n",
       "      <td>58.25</td>\n",
       "      <td>-0.23</td>\n",
       "      <td>-0.393297</td>\n",
       "    </tr>\n",
       "    <tr>\n",
       "      <th>30/09/2019</th>\n",
       "      <td>58.48</td>\n",
       "      <td>0.13</td>\n",
       "      <td>0.222793</td>\n",
       "      <td>58.41</td>\n",
       "      <td>0.06</td>\n",
       "      <td>0.102828</td>\n",
       "      <td>58.99</td>\n",
       "      <td>0.64</td>\n",
       "      <td>1.096829</td>\n",
       "      <td>58.34</td>\n",
       "      <td>-0.01</td>\n",
       "      <td>-0.017138</td>\n",
       "    </tr>\n",
       "  </tbody>\n",
       "</table>\n",
       "</div>"
      ],
      "text/plain": [
       "            PX_LAST  Change  % Change  PX_OPEN  Change.1  % Change.1  PX_HIGH  \\\n",
       "Date                                                                            \n",
       "04/10/2019    58.92    0.73  1.254511    58.08     -0.11   -0.189036    59.05   \n",
       "03/10/2019    58.19    0.79  1.376307    57.40      0.00    0.000000    58.31   \n",
       "02/10/2019    57.40   -1.08 -1.846785    58.18     -0.30   -0.512996    58.19   \n",
       "01/10/2019    58.48    0.00  0.000000    58.49      0.01    0.017100    59.14   \n",
       "30/09/2019    58.48    0.13  0.222793    58.41      0.06    0.102828    58.99   \n",
       "\n",
       "            Change.2  % Change.2  PX_LOW  Change.3  % Change.3  \n",
       "Date                                                            \n",
       "04/10/2019      0.86    1.477917   57.96     -0.23   -0.395257  \n",
       "03/10/2019      0.91    1.585366   57.11     -0.29   -0.505226  \n",
       "02/10/2019     -0.29   -0.495896   57.10     -1.38   -2.359781  \n",
       "01/10/2019      0.66    1.128591   58.25     -0.23   -0.393297  \n",
       "30/09/2019      0.64    1.096829   58.34     -0.01   -0.017138  "
      ]
     },
     "execution_count": 22,
     "metadata": {},
     "output_type": "execute_result"
    }
   ],
   "source": [
    "df = pd.read_csv(url, skiprows = 6, index_col = 0)\n",
    "df.head()"
   ]
  },
  {
   "cell_type": "code",
   "execution_count": 23,
   "metadata": {},
   "outputs": [
    {
     "name": "stdout",
     "output_type": "stream",
     "text": [
      "<class 'pandas.core.frame.DataFrame'>\n",
      "Index: 2455 entries, 04/10/2019 to 04/01/2010\n",
      "Data columns (total 12 columns):\n",
      " #   Column      Non-Null Count  Dtype  \n",
      "---  ------      --------------  -----  \n",
      " 0   PX_LAST     2455 non-null   float64\n",
      " 1   Change      699 non-null    float64\n",
      " 2   % Change    699 non-null    float64\n",
      " 3   PX_OPEN     2455 non-null   float64\n",
      " 4   Change.1    699 non-null    float64\n",
      " 5   % Change.1  699 non-null    float64\n",
      " 6   PX_HIGH     2455 non-null   float64\n",
      " 7   Change.2    699 non-null    float64\n",
      " 8   % Change.2  699 non-null    float64\n",
      " 9   PX_LOW      2455 non-null   float64\n",
      " 10  Change.3    699 non-null    float64\n",
      " 11  % Change.3  699 non-null    float64\n",
      "dtypes: float64(12)\n",
      "memory usage: 249.3+ KB\n"
     ]
    }
   ],
   "source": [
    "df.info()"
   ]
  },
  {
   "cell_type": "markdown",
   "metadata": {},
   "source": [
    "Ahora sí, ya tenemos las fechas como INDEX!<br><br>\n",
    "En la clase me preguntaron como podiamos asegurarnos si las fechas se habían interpretado como fecha y les comenté que lo veríamos un poco más adelante, con el objetivo de toparnos con ese PROBLEMA.  Pero hay varias maneras de verificar si las fechas son interpretadas como fechas.  Aquí explico dos de ellas:\n",
    "1. En el resumen .info( ) el segundo renglón dice:  \"Index: 2455 entries, 04/10/2019 to 04/01/2010\" y en lugar de **Index** debería de decir **DatetimeIndex**\n",
    "1. Utilizando la función index como lo haré en la siguiente celda.  Observen que nos entrega una lista con todas las fechas y al final un resumen que incluye \"*__dtype__* y en este caso dice \"*object*\", por lo que podemos asegurarnos que **NO** está tomando el INDEX como fecha."
   ]
  },
  {
   "cell_type": "code",
   "execution_count": 24,
   "metadata": {},
   "outputs": [
    {
     "data": {
      "text/plain": [
       "Index(['04/10/2019', '03/10/2019', '02/10/2019', '01/10/2019', '30/09/2019',\n",
       "       '27/09/2019', '26/09/2019', '25/09/2019', '24/09/2019', '23/09/2019',\n",
       "       ...\n",
       "       '15/01/2010', '14/01/2010', '13/01/2010', '12/01/2010', '11/01/2010',\n",
       "       '08/01/2010', '07/01/2010', '06/01/2010', '05/01/2010', '04/01/2010'],\n",
       "      dtype='object', name='Date', length=2455)"
      ]
     },
     "execution_count": 24,
     "metadata": {},
     "output_type": "execute_result"
    }
   ],
   "source": [
    "df.index"
   ]
  },
  {
   "cell_type": "markdown",
   "metadata": {},
   "source": [
    "En la siguiente celda intentamos arreglar los datos de manera asendente utilizando la función *__sort_index__* y definiendo que queremos arreglar el INDEX (**_axis=0_**) y que el cambio sea permanente con *__inplace=True__*:"
   ]
  },
  {
   "cell_type": "code",
   "execution_count": 27,
   "metadata": {},
   "outputs": [],
   "source": [
    "df.sort_index(axis = 0, inplace = True)"
   ]
  },
  {
   "cell_type": "code",
   "execution_count": 28,
   "metadata": {
    "scrolled": true
   },
   "outputs": [
    {
     "data": {
      "text/html": [
       "<div>\n",
       "<style scoped>\n",
       "    .dataframe tbody tr th:only-of-type {\n",
       "        vertical-align: middle;\n",
       "    }\n",
       "\n",
       "    .dataframe tbody tr th {\n",
       "        vertical-align: top;\n",
       "    }\n",
       "\n",
       "    .dataframe thead th {\n",
       "        text-align: right;\n",
       "    }\n",
       "</style>\n",
       "<table border=\"1\" class=\"dataframe\">\n",
       "  <thead>\n",
       "    <tr style=\"text-align: right;\">\n",
       "      <th></th>\n",
       "      <th>PX_LAST</th>\n",
       "      <th>Change</th>\n",
       "      <th>% Change</th>\n",
       "      <th>PX_OPEN</th>\n",
       "      <th>Change.1</th>\n",
       "      <th>% Change.1</th>\n",
       "      <th>PX_HIGH</th>\n",
       "      <th>Change.2</th>\n",
       "      <th>% Change.2</th>\n",
       "      <th>PX_LOW</th>\n",
       "      <th>Change.3</th>\n",
       "      <th>% Change.3</th>\n",
       "    </tr>\n",
       "    <tr>\n",
       "      <th>Date</th>\n",
       "      <th></th>\n",
       "      <th></th>\n",
       "      <th></th>\n",
       "      <th></th>\n",
       "      <th></th>\n",
       "      <th></th>\n",
       "      <th></th>\n",
       "      <th></th>\n",
       "      <th></th>\n",
       "      <th></th>\n",
       "      <th></th>\n",
       "      <th></th>\n",
       "    </tr>\n",
       "  </thead>\n",
       "  <tbody>\n",
       "    <tr>\n",
       "      <th>01/02/2011</th>\n",
       "      <td>34.29</td>\n",
       "      <td>NaN</td>\n",
       "      <td>NaN</td>\n",
       "      <td>33.99</td>\n",
       "      <td>NaN</td>\n",
       "      <td>NaN</td>\n",
       "      <td>34.44</td>\n",
       "      <td>NaN</td>\n",
       "      <td>NaN</td>\n",
       "      <td>33.80</td>\n",
       "      <td>NaN</td>\n",
       "      <td>NaN</td>\n",
       "    </tr>\n",
       "    <tr>\n",
       "      <th>01/02/2012</th>\n",
       "      <td>40.24</td>\n",
       "      <td>NaN</td>\n",
       "      <td>NaN</td>\n",
       "      <td>40.40</td>\n",
       "      <td>NaN</td>\n",
       "      <td>NaN</td>\n",
       "      <td>41.00</td>\n",
       "      <td>NaN</td>\n",
       "      <td>NaN</td>\n",
       "      <td>40.01</td>\n",
       "      <td>NaN</td>\n",
       "      <td>NaN</td>\n",
       "    </tr>\n",
       "    <tr>\n",
       "      <th>01/02/2013</th>\n",
       "      <td>41.84</td>\n",
       "      <td>NaN</td>\n",
       "      <td>NaN</td>\n",
       "      <td>41.31</td>\n",
       "      <td>NaN</td>\n",
       "      <td>NaN</td>\n",
       "      <td>41.90</td>\n",
       "      <td>NaN</td>\n",
       "      <td>NaN</td>\n",
       "      <td>41.24</td>\n",
       "      <td>NaN</td>\n",
       "      <td>NaN</td>\n",
       "    </tr>\n",
       "    <tr>\n",
       "      <th>01/02/2017</th>\n",
       "      <td>37.36</td>\n",
       "      <td>0.46</td>\n",
       "      <td>1.246612</td>\n",
       "      <td>37.06</td>\n",
       "      <td>0.16</td>\n",
       "      <td>0.433604</td>\n",
       "      <td>37.52</td>\n",
       "      <td>0.62</td>\n",
       "      <td>1.680217</td>\n",
       "      <td>37.04</td>\n",
       "      <td>0.14</td>\n",
       "      <td>0.379404</td>\n",
       "    </tr>\n",
       "    <tr>\n",
       "      <th>01/02/2018</th>\n",
       "      <td>46.13</td>\n",
       "      <td>-0.51</td>\n",
       "      <td>-1.093482</td>\n",
       "      <td>46.63</td>\n",
       "      <td>-0.01</td>\n",
       "      <td>-0.021441</td>\n",
       "      <td>47.07</td>\n",
       "      <td>0.43</td>\n",
       "      <td>0.921955</td>\n",
       "      <td>45.34</td>\n",
       "      <td>-1.30</td>\n",
       "      <td>-2.787307</td>\n",
       "    </tr>\n",
       "  </tbody>\n",
       "</table>\n",
       "</div>"
      ],
      "text/plain": [
       "            PX_LAST  Change  % Change  PX_OPEN  Change.1  % Change.1  PX_HIGH  \\\n",
       "Date                                                                            \n",
       "01/02/2011    34.29     NaN       NaN    33.99       NaN         NaN    34.44   \n",
       "01/02/2012    40.24     NaN       NaN    40.40       NaN         NaN    41.00   \n",
       "01/02/2013    41.84     NaN       NaN    41.31       NaN         NaN    41.90   \n",
       "01/02/2017    37.36    0.46  1.246612    37.06      0.16    0.433604    37.52   \n",
       "01/02/2018    46.13   -0.51 -1.093482    46.63     -0.01   -0.021441    47.07   \n",
       "\n",
       "            Change.2  % Change.2  PX_LOW  Change.3  % Change.3  \n",
       "Date                                                            \n",
       "01/02/2011       NaN         NaN   33.80       NaN         NaN  \n",
       "01/02/2012       NaN         NaN   40.01       NaN         NaN  \n",
       "01/02/2013       NaN         NaN   41.24       NaN         NaN  \n",
       "01/02/2017      0.62    1.680217   37.04      0.14    0.379404  \n",
       "01/02/2018      0.43    0.921955   45.34     -1.30   -2.787307  "
      ]
     },
     "execution_count": 28,
     "metadata": {},
     "output_type": "execute_result"
    }
   ],
   "source": [
    "df.head()"
   ]
  },
  {
   "cell_type": "markdown",
   "metadata": {},
   "source": [
    "Como pudimos constatar, el sort está sobre el orden alfabético y no en el orden de las fechas.  Para solucionarlo agregamos las opciones *__parse_dates=True__* y *__dayfirst=True__*.  Este último es para indicarle a PANDAS que el primer set de datos los interprete como días y no como mes (dd/mm/aa en lugar de mm/dd/aa):"
   ]
  },
  {
   "cell_type": "code",
   "execution_count": 29,
   "metadata": {},
   "outputs": [
    {
     "data": {
      "text/html": [
       "<div>\n",
       "<style scoped>\n",
       "    .dataframe tbody tr th:only-of-type {\n",
       "        vertical-align: middle;\n",
       "    }\n",
       "\n",
       "    .dataframe tbody tr th {\n",
       "        vertical-align: top;\n",
       "    }\n",
       "\n",
       "    .dataframe thead th {\n",
       "        text-align: right;\n",
       "    }\n",
       "</style>\n",
       "<table border=\"1\" class=\"dataframe\">\n",
       "  <thead>\n",
       "    <tr style=\"text-align: right;\">\n",
       "      <th></th>\n",
       "      <th>PX_LAST</th>\n",
       "      <th>Change</th>\n",
       "      <th>% Change</th>\n",
       "      <th>PX_OPEN</th>\n",
       "      <th>Change.1</th>\n",
       "      <th>% Change.1</th>\n",
       "      <th>PX_HIGH</th>\n",
       "      <th>Change.2</th>\n",
       "      <th>% Change.2</th>\n",
       "      <th>PX_LOW</th>\n",
       "      <th>Change.3</th>\n",
       "      <th>% Change.3</th>\n",
       "    </tr>\n",
       "    <tr>\n",
       "      <th>Date</th>\n",
       "      <th></th>\n",
       "      <th></th>\n",
       "      <th></th>\n",
       "      <th></th>\n",
       "      <th></th>\n",
       "      <th></th>\n",
       "      <th></th>\n",
       "      <th></th>\n",
       "      <th></th>\n",
       "      <th></th>\n",
       "      <th></th>\n",
       "      <th></th>\n",
       "    </tr>\n",
       "  </thead>\n",
       "  <tbody>\n",
       "    <tr>\n",
       "      <th>2019-10-04</th>\n",
       "      <td>58.92</td>\n",
       "      <td>0.73</td>\n",
       "      <td>1.254511</td>\n",
       "      <td>58.08</td>\n",
       "      <td>-0.11</td>\n",
       "      <td>-0.189036</td>\n",
       "      <td>59.05</td>\n",
       "      <td>0.86</td>\n",
       "      <td>1.477917</td>\n",
       "      <td>57.96</td>\n",
       "      <td>-0.23</td>\n",
       "      <td>-0.395257</td>\n",
       "    </tr>\n",
       "    <tr>\n",
       "      <th>2019-10-03</th>\n",
       "      <td>58.19</td>\n",
       "      <td>0.79</td>\n",
       "      <td>1.376307</td>\n",
       "      <td>57.40</td>\n",
       "      <td>0.00</td>\n",
       "      <td>0.000000</td>\n",
       "      <td>58.31</td>\n",
       "      <td>0.91</td>\n",
       "      <td>1.585366</td>\n",
       "      <td>57.11</td>\n",
       "      <td>-0.29</td>\n",
       "      <td>-0.505226</td>\n",
       "    </tr>\n",
       "    <tr>\n",
       "      <th>2019-10-02</th>\n",
       "      <td>57.40</td>\n",
       "      <td>-1.08</td>\n",
       "      <td>-1.846785</td>\n",
       "      <td>58.18</td>\n",
       "      <td>-0.30</td>\n",
       "      <td>-0.512996</td>\n",
       "      <td>58.19</td>\n",
       "      <td>-0.29</td>\n",
       "      <td>-0.495896</td>\n",
       "      <td>57.10</td>\n",
       "      <td>-1.38</td>\n",
       "      <td>-2.359781</td>\n",
       "    </tr>\n",
       "    <tr>\n",
       "      <th>2019-10-01</th>\n",
       "      <td>58.48</td>\n",
       "      <td>0.00</td>\n",
       "      <td>0.000000</td>\n",
       "      <td>58.49</td>\n",
       "      <td>0.01</td>\n",
       "      <td>0.017100</td>\n",
       "      <td>59.14</td>\n",
       "      <td>0.66</td>\n",
       "      <td>1.128591</td>\n",
       "      <td>58.25</td>\n",
       "      <td>-0.23</td>\n",
       "      <td>-0.393297</td>\n",
       "    </tr>\n",
       "    <tr>\n",
       "      <th>2019-09-30</th>\n",
       "      <td>58.48</td>\n",
       "      <td>0.13</td>\n",
       "      <td>0.222793</td>\n",
       "      <td>58.41</td>\n",
       "      <td>0.06</td>\n",
       "      <td>0.102828</td>\n",
       "      <td>58.99</td>\n",
       "      <td>0.64</td>\n",
       "      <td>1.096829</td>\n",
       "      <td>58.34</td>\n",
       "      <td>-0.01</td>\n",
       "      <td>-0.017138</td>\n",
       "    </tr>\n",
       "  </tbody>\n",
       "</table>\n",
       "</div>"
      ],
      "text/plain": [
       "            PX_LAST  Change  % Change  PX_OPEN  Change.1  % Change.1  PX_HIGH  \\\n",
       "Date                                                                            \n",
       "2019-10-04    58.92    0.73  1.254511    58.08     -0.11   -0.189036    59.05   \n",
       "2019-10-03    58.19    0.79  1.376307    57.40      0.00    0.000000    58.31   \n",
       "2019-10-02    57.40   -1.08 -1.846785    58.18     -0.30   -0.512996    58.19   \n",
       "2019-10-01    58.48    0.00  0.000000    58.49      0.01    0.017100    59.14   \n",
       "2019-09-30    58.48    0.13  0.222793    58.41      0.06    0.102828    58.99   \n",
       "\n",
       "            Change.2  % Change.2  PX_LOW  Change.3  % Change.3  \n",
       "Date                                                            \n",
       "2019-10-04      0.86    1.477917   57.96     -0.23   -0.395257  \n",
       "2019-10-03      0.91    1.585366   57.11     -0.29   -0.505226  \n",
       "2019-10-02     -0.29   -0.495896   57.10     -1.38   -2.359781  \n",
       "2019-10-01      0.66    1.128591   58.25     -0.23   -0.393297  \n",
       "2019-09-30      0.64    1.096829   58.34     -0.01   -0.017138  "
      ]
     },
     "execution_count": 29,
     "metadata": {},
     "output_type": "execute_result"
    }
   ],
   "source": [
    "df = pd.read_csv(url, skiprows = 6, index_col = 0, parse_dates = True, dayfirst=True)\n",
    "df.head()"
   ]
  },
  {
   "cell_type": "code",
   "execution_count": 30,
   "metadata": {},
   "outputs": [
    {
     "name": "stdout",
     "output_type": "stream",
     "text": [
      "<class 'pandas.core.frame.DataFrame'>\n",
      "DatetimeIndex: 2455 entries, 2019-10-04 to 2010-01-04\n",
      "Data columns (total 12 columns):\n",
      " #   Column      Non-Null Count  Dtype  \n",
      "---  ------      --------------  -----  \n",
      " 0   PX_LAST     2455 non-null   float64\n",
      " 1   Change      699 non-null    float64\n",
      " 2   % Change    699 non-null    float64\n",
      " 3   PX_OPEN     2455 non-null   float64\n",
      " 4   Change.1    699 non-null    float64\n",
      " 5   % Change.1  699 non-null    float64\n",
      " 6   PX_HIGH     2455 non-null   float64\n",
      " 7   Change.2    699 non-null    float64\n",
      " 8   % Change.2  699 non-null    float64\n",
      " 9   PX_LOW      2455 non-null   float64\n",
      " 10  Change.3    699 non-null    float64\n",
      " 11  % Change.3  699 non-null    float64\n",
      "dtypes: float64(12)\n",
      "memory usage: 249.3 KB\n"
     ]
    }
   ],
   "source": [
    "df.info()"
   ]
  },
  {
   "cell_type": "code",
   "execution_count": 31,
   "metadata": {},
   "outputs": [],
   "source": [
    "df.sort_index(axis = 0, inplace = True)"
   ]
  },
  {
   "cell_type": "code",
   "execution_count": 32,
   "metadata": {},
   "outputs": [
    {
     "data": {
      "text/html": [
       "<div>\n",
       "<style scoped>\n",
       "    .dataframe tbody tr th:only-of-type {\n",
       "        vertical-align: middle;\n",
       "    }\n",
       "\n",
       "    .dataframe tbody tr th {\n",
       "        vertical-align: top;\n",
       "    }\n",
       "\n",
       "    .dataframe thead th {\n",
       "        text-align: right;\n",
       "    }\n",
       "</style>\n",
       "<table border=\"1\" class=\"dataframe\">\n",
       "  <thead>\n",
       "    <tr style=\"text-align: right;\">\n",
       "      <th></th>\n",
       "      <th>PX_LAST</th>\n",
       "      <th>Change</th>\n",
       "      <th>% Change</th>\n",
       "      <th>PX_OPEN</th>\n",
       "      <th>Change.1</th>\n",
       "      <th>% Change.1</th>\n",
       "      <th>PX_HIGH</th>\n",
       "      <th>Change.2</th>\n",
       "      <th>% Change.2</th>\n",
       "      <th>PX_LOW</th>\n",
       "      <th>Change.3</th>\n",
       "      <th>% Change.3</th>\n",
       "    </tr>\n",
       "    <tr>\n",
       "      <th>Date</th>\n",
       "      <th></th>\n",
       "      <th></th>\n",
       "      <th></th>\n",
       "      <th></th>\n",
       "      <th></th>\n",
       "      <th></th>\n",
       "      <th></th>\n",
       "      <th></th>\n",
       "      <th></th>\n",
       "      <th></th>\n",
       "      <th></th>\n",
       "      <th></th>\n",
       "    </tr>\n",
       "  </thead>\n",
       "  <tbody>\n",
       "    <tr>\n",
       "      <th>2019-09-30</th>\n",
       "      <td>58.48</td>\n",
       "      <td>0.13</td>\n",
       "      <td>0.222793</td>\n",
       "      <td>58.41</td>\n",
       "      <td>0.06</td>\n",
       "      <td>0.102828</td>\n",
       "      <td>58.99</td>\n",
       "      <td>0.64</td>\n",
       "      <td>1.096829</td>\n",
       "      <td>58.34</td>\n",
       "      <td>-0.01</td>\n",
       "      <td>-0.017138</td>\n",
       "    </tr>\n",
       "    <tr>\n",
       "      <th>2019-10-01</th>\n",
       "      <td>58.48</td>\n",
       "      <td>0.00</td>\n",
       "      <td>0.000000</td>\n",
       "      <td>58.49</td>\n",
       "      <td>0.01</td>\n",
       "      <td>0.017100</td>\n",
       "      <td>59.14</td>\n",
       "      <td>0.66</td>\n",
       "      <td>1.128591</td>\n",
       "      <td>58.25</td>\n",
       "      <td>-0.23</td>\n",
       "      <td>-0.393297</td>\n",
       "    </tr>\n",
       "    <tr>\n",
       "      <th>2019-10-02</th>\n",
       "      <td>57.40</td>\n",
       "      <td>-1.08</td>\n",
       "      <td>-1.846785</td>\n",
       "      <td>58.18</td>\n",
       "      <td>-0.30</td>\n",
       "      <td>-0.512996</td>\n",
       "      <td>58.19</td>\n",
       "      <td>-0.29</td>\n",
       "      <td>-0.495896</td>\n",
       "      <td>57.10</td>\n",
       "      <td>-1.38</td>\n",
       "      <td>-2.359781</td>\n",
       "    </tr>\n",
       "    <tr>\n",
       "      <th>2019-10-03</th>\n",
       "      <td>58.19</td>\n",
       "      <td>0.79</td>\n",
       "      <td>1.376307</td>\n",
       "      <td>57.40</td>\n",
       "      <td>0.00</td>\n",
       "      <td>0.000000</td>\n",
       "      <td>58.31</td>\n",
       "      <td>0.91</td>\n",
       "      <td>1.585366</td>\n",
       "      <td>57.11</td>\n",
       "      <td>-0.29</td>\n",
       "      <td>-0.505226</td>\n",
       "    </tr>\n",
       "    <tr>\n",
       "      <th>2019-10-04</th>\n",
       "      <td>58.92</td>\n",
       "      <td>0.73</td>\n",
       "      <td>1.254511</td>\n",
       "      <td>58.08</td>\n",
       "      <td>-0.11</td>\n",
       "      <td>-0.189036</td>\n",
       "      <td>59.05</td>\n",
       "      <td>0.86</td>\n",
       "      <td>1.477917</td>\n",
       "      <td>57.96</td>\n",
       "      <td>-0.23</td>\n",
       "      <td>-0.395257</td>\n",
       "    </tr>\n",
       "  </tbody>\n",
       "</table>\n",
       "</div>"
      ],
      "text/plain": [
       "            PX_LAST  Change  % Change  PX_OPEN  Change.1  % Change.1  PX_HIGH  \\\n",
       "Date                                                                            \n",
       "2019-09-30    58.48    0.13  0.222793    58.41      0.06    0.102828    58.99   \n",
       "2019-10-01    58.48    0.00  0.000000    58.49      0.01    0.017100    59.14   \n",
       "2019-10-02    57.40   -1.08 -1.846785    58.18     -0.30   -0.512996    58.19   \n",
       "2019-10-03    58.19    0.79  1.376307    57.40      0.00    0.000000    58.31   \n",
       "2019-10-04    58.92    0.73  1.254511    58.08     -0.11   -0.189036    59.05   \n",
       "\n",
       "            Change.2  % Change.2  PX_LOW  Change.3  % Change.3  \n",
       "Date                                                            \n",
       "2019-09-30      0.64    1.096829   58.34     -0.01   -0.017138  \n",
       "2019-10-01      0.66    1.128591   58.25     -0.23   -0.393297  \n",
       "2019-10-02     -0.29   -0.495896   57.10     -1.38   -2.359781  \n",
       "2019-10-03      0.91    1.585366   57.11     -0.29   -0.505226  \n",
       "2019-10-04      0.86    1.477917   57.96     -0.23   -0.395257  "
      ]
     },
     "execution_count": 32,
     "metadata": {},
     "output_type": "execute_result"
    }
   ],
   "source": [
    "df.tail()"
   ]
  },
  {
   "cell_type": "markdown",
   "metadata": {},
   "source": [
    "Listo, ahora sí ya importamos la información como la necesitamos:\n",
    "* Fechas en index e interpretadas como fechas\n",
    "* Datos numéricos interpretados como números\n",
    "* Las columnas con el titulo original en el lugar correcto\n",
    "* Si basura visible"
   ]
  },
  {
   "cell_type": "markdown",
   "metadata": {},
   "source": [
    "#### <font color='navygray'>2.1.1 Poner DataFrame con el formato O-H-L-C, pero en español!</font>"
   ]
  },
  {
   "cell_type": "markdown",
   "metadata": {},
   "source": [
    "Tenemos que hacer unos cambios finales al df:\n",
    "1. Borrar las columnas que no utilizaremos\n",
    "1. Renombrar las columnas a español\n",
    "1. Ordenar las columnas en el formato O-H-L-C"
   ]
  },
  {
   "cell_type": "markdown",
   "metadata": {},
   "source": [
    "#### Borrar columnas\n",
    "Para borrar las columnas aplicamos la función *__.drop__* a df.  Especificamos que columnas vamos a borrar y que el cambio será permanente.  Como estamos hablando de las columnas, debemos de especificar que el cambio se realiza en el index=1!"
   ]
  },
  {
   "cell_type": "code",
   "execution_count": 33,
   "metadata": {},
   "outputs": [
    {
     "data": {
      "text/html": [
       "<div>\n",
       "<style scoped>\n",
       "    .dataframe tbody tr th:only-of-type {\n",
       "        vertical-align: middle;\n",
       "    }\n",
       "\n",
       "    .dataframe tbody tr th {\n",
       "        vertical-align: top;\n",
       "    }\n",
       "\n",
       "    .dataframe thead th {\n",
       "        text-align: right;\n",
       "    }\n",
       "</style>\n",
       "<table border=\"1\" class=\"dataframe\">\n",
       "  <thead>\n",
       "    <tr style=\"text-align: right;\">\n",
       "      <th></th>\n",
       "      <th>PX_LAST</th>\n",
       "      <th>PX_OPEN</th>\n",
       "      <th>PX_HIGH</th>\n",
       "      <th>PX_LOW</th>\n",
       "    </tr>\n",
       "    <tr>\n",
       "      <th>Date</th>\n",
       "      <th></th>\n",
       "      <th></th>\n",
       "      <th></th>\n",
       "      <th></th>\n",
       "    </tr>\n",
       "  </thead>\n",
       "  <tbody>\n",
       "    <tr>\n",
       "      <th>2010-01-04</th>\n",
       "      <td>29.780</td>\n",
       "      <td>29.95</td>\n",
       "      <td>30.100</td>\n",
       "      <td>29.155</td>\n",
       "    </tr>\n",
       "    <tr>\n",
       "      <th>2010-01-05</th>\n",
       "      <td>30.365</td>\n",
       "      <td>29.78</td>\n",
       "      <td>30.585</td>\n",
       "      <td>29.690</td>\n",
       "    </tr>\n",
       "    <tr>\n",
       "      <th>2010-01-06</th>\n",
       "      <td>30.365</td>\n",
       "      <td>30.35</td>\n",
       "      <td>30.500</td>\n",
       "      <td>30.145</td>\n",
       "    </tr>\n",
       "    <tr>\n",
       "      <th>2010-01-07</th>\n",
       "      <td>29.805</td>\n",
       "      <td>30.50</td>\n",
       "      <td>30.500</td>\n",
       "      <td>29.755</td>\n",
       "    </tr>\n",
       "    <tr>\n",
       "      <th>2010-01-08</th>\n",
       "      <td>29.680</td>\n",
       "      <td>29.88</td>\n",
       "      <td>29.880</td>\n",
       "      <td>29.500</td>\n",
       "    </tr>\n",
       "  </tbody>\n",
       "</table>\n",
       "</div>"
      ],
      "text/plain": [
       "            PX_LAST  PX_OPEN  PX_HIGH  PX_LOW\n",
       "Date                                         \n",
       "2010-01-04   29.780    29.95   30.100  29.155\n",
       "2010-01-05   30.365    29.78   30.585  29.690\n",
       "2010-01-06   30.365    30.35   30.500  30.145\n",
       "2010-01-07   29.805    30.50   30.500  29.755\n",
       "2010-01-08   29.680    29.88   29.880  29.500"
      ]
     },
     "execution_count": 33,
     "metadata": {},
     "output_type": "execute_result"
    }
   ],
   "source": [
    "borrar = ['Change', '% Change', 'Change.1', '% Change.1', 'Change.2', '% Change.2','Change.3', '% Change.3']\n",
    "df.drop(borrar, axis = 1, inplace=True)\n",
    "df.head()"
   ]
  },
  {
   "cell_type": "markdown",
   "metadata": {},
   "source": [
    "#### Renombrar columnas\n",
    "Para renombrar las columnas aplicamos *__.rename__* al df.  Tenemos que especificar un diccionario donde la llave representa el nombre actual y el valor representa el nombre deseado de todas las columnas a cambiar.  Al igual que .drop, estos cambios se están llevando en index=1 y queremos que sean permanentes:"
   ]
  },
  {
   "cell_type": "code",
   "execution_count": 34,
   "metadata": {},
   "outputs": [],
   "source": [
    "df.rename({'PX_LAST':'Cierre', 'PX_OPEN':'Apertura', 'PX_HIGH':'Maximo', 'PX_LOW':'Minimo'}, axis=1, inplace=True)"
   ]
  },
  {
   "cell_type": "code",
   "execution_count": 35,
   "metadata": {
    "scrolled": true
   },
   "outputs": [
    {
     "data": {
      "text/html": [
       "<div>\n",
       "<style scoped>\n",
       "    .dataframe tbody tr th:only-of-type {\n",
       "        vertical-align: middle;\n",
       "    }\n",
       "\n",
       "    .dataframe tbody tr th {\n",
       "        vertical-align: top;\n",
       "    }\n",
       "\n",
       "    .dataframe thead th {\n",
       "        text-align: right;\n",
       "    }\n",
       "</style>\n",
       "<table border=\"1\" class=\"dataframe\">\n",
       "  <thead>\n",
       "    <tr style=\"text-align: right;\">\n",
       "      <th></th>\n",
       "      <th>Cierre</th>\n",
       "      <th>Apertura</th>\n",
       "      <th>Maximo</th>\n",
       "      <th>Minimo</th>\n",
       "    </tr>\n",
       "    <tr>\n",
       "      <th>Date</th>\n",
       "      <th></th>\n",
       "      <th></th>\n",
       "      <th></th>\n",
       "      <th></th>\n",
       "    </tr>\n",
       "  </thead>\n",
       "  <tbody>\n",
       "    <tr>\n",
       "      <th>2010-01-04</th>\n",
       "      <td>29.780</td>\n",
       "      <td>29.95</td>\n",
       "      <td>30.100</td>\n",
       "      <td>29.155</td>\n",
       "    </tr>\n",
       "    <tr>\n",
       "      <th>2010-01-05</th>\n",
       "      <td>30.365</td>\n",
       "      <td>29.78</td>\n",
       "      <td>30.585</td>\n",
       "      <td>29.690</td>\n",
       "    </tr>\n",
       "    <tr>\n",
       "      <th>2010-01-06</th>\n",
       "      <td>30.365</td>\n",
       "      <td>30.35</td>\n",
       "      <td>30.500</td>\n",
       "      <td>30.145</td>\n",
       "    </tr>\n",
       "    <tr>\n",
       "      <th>2010-01-07</th>\n",
       "      <td>29.805</td>\n",
       "      <td>30.50</td>\n",
       "      <td>30.500</td>\n",
       "      <td>29.755</td>\n",
       "    </tr>\n",
       "    <tr>\n",
       "      <th>2010-01-08</th>\n",
       "      <td>29.680</td>\n",
       "      <td>29.88</td>\n",
       "      <td>29.880</td>\n",
       "      <td>29.500</td>\n",
       "    </tr>\n",
       "  </tbody>\n",
       "</table>\n",
       "</div>"
      ],
      "text/plain": [
       "            Cierre  Apertura  Maximo  Minimo\n",
       "Date                                        \n",
       "2010-01-04  29.780     29.95  30.100  29.155\n",
       "2010-01-05  30.365     29.78  30.585  29.690\n",
       "2010-01-06  30.365     30.35  30.500  30.145\n",
       "2010-01-07  29.805     30.50  30.500  29.755\n",
       "2010-01-08  29.680     29.88  29.880  29.500"
      ]
     },
     "execution_count": 35,
     "metadata": {},
     "output_type": "execute_result"
    }
   ],
   "source": [
    "df.head()"
   ]
  },
  {
   "cell_type": "markdown",
   "metadata": {},
   "source": [
    "#### Reordenar columnas\n",
    "Para reordenar las columnas aplicamos *__.reindex__* al df.  Tenemos que especificar una lista con el orden deseado de las columnas.  Al diferencia de .drop, .reindex no tiene la opción inplace, por lo cual debemos de reasignar el resultado de nuevacuenta a la variable df"
   ]
  },
  {
   "cell_type": "code",
   "execution_count": 36,
   "metadata": {},
   "outputs": [],
   "source": [
    "orden_columnas = ['Apertura', 'Maximo', 'Minimo', 'Cierre']\n",
    "df = df.reindex(columns=orden_columnas)"
   ]
  },
  {
   "cell_type": "code",
   "execution_count": 37,
   "metadata": {
    "scrolled": true
   },
   "outputs": [
    {
     "data": {
      "text/html": [
       "<div>\n",
       "<style scoped>\n",
       "    .dataframe tbody tr th:only-of-type {\n",
       "        vertical-align: middle;\n",
       "    }\n",
       "\n",
       "    .dataframe tbody tr th {\n",
       "        vertical-align: top;\n",
       "    }\n",
       "\n",
       "    .dataframe thead th {\n",
       "        text-align: right;\n",
       "    }\n",
       "</style>\n",
       "<table border=\"1\" class=\"dataframe\">\n",
       "  <thead>\n",
       "    <tr style=\"text-align: right;\">\n",
       "      <th></th>\n",
       "      <th>Apertura</th>\n",
       "      <th>Maximo</th>\n",
       "      <th>Minimo</th>\n",
       "      <th>Cierre</th>\n",
       "    </tr>\n",
       "    <tr>\n",
       "      <th>Date</th>\n",
       "      <th></th>\n",
       "      <th></th>\n",
       "      <th></th>\n",
       "      <th></th>\n",
       "    </tr>\n",
       "  </thead>\n",
       "  <tbody>\n",
       "    <tr>\n",
       "      <th>2010-01-04</th>\n",
       "      <td>29.95</td>\n",
       "      <td>30.100</td>\n",
       "      <td>29.155</td>\n",
       "      <td>29.780</td>\n",
       "    </tr>\n",
       "    <tr>\n",
       "      <th>2010-01-05</th>\n",
       "      <td>29.78</td>\n",
       "      <td>30.585</td>\n",
       "      <td>29.690</td>\n",
       "      <td>30.365</td>\n",
       "    </tr>\n",
       "    <tr>\n",
       "      <th>2010-01-06</th>\n",
       "      <td>30.35</td>\n",
       "      <td>30.500</td>\n",
       "      <td>30.145</td>\n",
       "      <td>30.365</td>\n",
       "    </tr>\n",
       "    <tr>\n",
       "      <th>2010-01-07</th>\n",
       "      <td>30.50</td>\n",
       "      <td>30.500</td>\n",
       "      <td>29.755</td>\n",
       "      <td>29.805</td>\n",
       "    </tr>\n",
       "    <tr>\n",
       "      <th>2010-01-08</th>\n",
       "      <td>29.88</td>\n",
       "      <td>29.880</td>\n",
       "      <td>29.500</td>\n",
       "      <td>29.680</td>\n",
       "    </tr>\n",
       "  </tbody>\n",
       "</table>\n",
       "</div>"
      ],
      "text/plain": [
       "            Apertura  Maximo  Minimo  Cierre\n",
       "Date                                        \n",
       "2010-01-04     29.95  30.100  29.155  29.780\n",
       "2010-01-05     29.78  30.585  29.690  30.365\n",
       "2010-01-06     30.35  30.500  30.145  30.365\n",
       "2010-01-07     30.50  30.500  29.755  29.805\n",
       "2010-01-08     29.88  29.880  29.500  29.680"
      ]
     },
     "execution_count": 37,
     "metadata": {},
     "output_type": "execute_result"
    }
   ],
   "source": [
    "df.head()"
   ]
  },
  {
   "cell_type": "markdown",
   "metadata": {},
   "source": [
    "### Importar de cero\n",
    "Ya que conocemos el camino para formatear los archivos bajados de BLOOMBERG, vamos a volverlo a bajar reciclando el código que ya hicimos para comprobar que todo está OK. Antes de empezar borraremos df con la función *__del__*"
   ]
  },
  {
   "cell_type": "code",
   "execution_count": 38,
   "metadata": {},
   "outputs": [],
   "source": [
    "del df"
   ]
  },
  {
   "cell_type": "code",
   "execution_count": 39,
   "metadata": {},
   "outputs": [],
   "source": [
    "columnas_a_importar = ['Date', 'PX_OPEN', 'PX_HIGH', 'PX_LOW', 'PX_LAST']\n",
    "df = pd.read_csv(url, skiprows = 6, index_col = 0, parse_dates = True, dayfirst = True, \n",
    "                 usecols = columnas_a_importar)\n",
    "\n",
    "df.rename({'PX_LAST':'Cierre', 'PX_OPEN':'Apertura', 'PX_HIGH':'Maximo', 'PX_LOW':'Minimo'}, axis = 1,\n",
    "          inplace = True)\n",
    "\n",
    "orden_columnas = ['Apertura', 'Maximo', 'Minimo', 'Cierre']\n",
    "df = df.reindex(columns=orden_columnas)\n",
    "\n",
    "df.sort_index(inplace = True)"
   ]
  },
  {
   "cell_type": "markdown",
   "metadata": {},
   "source": [
    "<font color='red'>COMENTARIO:  En clase se me olvidó darle orden O-H-L-C en la celda anterior y nos dimos cuenta más adelante cuando estabamos haciendo la función importar bloomberg, por lo que agregué las filas 8 y 9 </font>"
   ]
  },
  {
   "cell_type": "code",
   "execution_count": 40,
   "metadata": {},
   "outputs": [
    {
     "data": {
      "text/html": [
       "<div>\n",
       "<style scoped>\n",
       "    .dataframe tbody tr th:only-of-type {\n",
       "        vertical-align: middle;\n",
       "    }\n",
       "\n",
       "    .dataframe tbody tr th {\n",
       "        vertical-align: top;\n",
       "    }\n",
       "\n",
       "    .dataframe thead th {\n",
       "        text-align: right;\n",
       "    }\n",
       "</style>\n",
       "<table border=\"1\" class=\"dataframe\">\n",
       "  <thead>\n",
       "    <tr style=\"text-align: right;\">\n",
       "      <th></th>\n",
       "      <th>Apertura</th>\n",
       "      <th>Maximo</th>\n",
       "      <th>Minimo</th>\n",
       "      <th>Cierre</th>\n",
       "    </tr>\n",
       "    <tr>\n",
       "      <th>Date</th>\n",
       "      <th></th>\n",
       "      <th></th>\n",
       "      <th></th>\n",
       "      <th></th>\n",
       "    </tr>\n",
       "  </thead>\n",
       "  <tbody>\n",
       "    <tr>\n",
       "      <th>2010-01-04</th>\n",
       "      <td>29.95</td>\n",
       "      <td>30.100</td>\n",
       "      <td>29.155</td>\n",
       "      <td>29.780</td>\n",
       "    </tr>\n",
       "    <tr>\n",
       "      <th>2010-01-05</th>\n",
       "      <td>29.78</td>\n",
       "      <td>30.585</td>\n",
       "      <td>29.690</td>\n",
       "      <td>30.365</td>\n",
       "    </tr>\n",
       "    <tr>\n",
       "      <th>2010-01-06</th>\n",
       "      <td>30.35</td>\n",
       "      <td>30.500</td>\n",
       "      <td>30.145</td>\n",
       "      <td>30.365</td>\n",
       "    </tr>\n",
       "    <tr>\n",
       "      <th>2010-01-07</th>\n",
       "      <td>30.50</td>\n",
       "      <td>30.500</td>\n",
       "      <td>29.755</td>\n",
       "      <td>29.805</td>\n",
       "    </tr>\n",
       "    <tr>\n",
       "      <th>2010-01-08</th>\n",
       "      <td>29.88</td>\n",
       "      <td>29.880</td>\n",
       "      <td>29.500</td>\n",
       "      <td>29.680</td>\n",
       "    </tr>\n",
       "  </tbody>\n",
       "</table>\n",
       "</div>"
      ],
      "text/plain": [
       "            Apertura  Maximo  Minimo  Cierre\n",
       "Date                                        \n",
       "2010-01-04     29.95  30.100  29.155  29.780\n",
       "2010-01-05     29.78  30.585  29.690  30.365\n",
       "2010-01-06     30.35  30.500  30.145  30.365\n",
       "2010-01-07     30.50  30.500  29.755  29.805\n",
       "2010-01-08     29.88  29.880  29.500  29.680"
      ]
     },
     "execution_count": 40,
     "metadata": {},
     "output_type": "execute_result"
    }
   ],
   "source": [
    "df.head()"
   ]
  },
  {
   "cell_type": "markdown",
   "metadata": {},
   "source": [
    "### <font color='red'>Función para importar datos archivos de Bloomberg</font>"
   ]
  },
  {
   "cell_type": "code",
   "execution_count": 41,
   "metadata": {},
   "outputs": [],
   "source": [
    "def importar_bloomberg(accion):\n",
    "    \n",
    "    url = f'http://bit.ly/oncedos-{accion}'\n",
    "    \n",
    "    columnas_a_importar = ['Date', 'PX_OPEN', 'PX_HIGH', 'PX_LOW', 'PX_LAST']\n",
    "    df = pd.read_csv(url, skiprows = 6, index_col = 0, parse_dates = True, dayfirst = True, \n",
    "                 usecols = columnas_a_importar)\n",
    "\n",
    "    df.rename({'PX_LAST':'Cierre', 'PX_OPEN':'Apertura', 'PX_HIGH':'Maximo', 'PX_LOW':'Minimo'}, axis = 1,\n",
    "          inplace = True)\n",
    "    \n",
    "    orden_columnas = ['Apertura', 'Maximo', 'Minimo', 'Cierre']\n",
    "    df = df.reindex(columns=orden_columnas)\n",
    "\n",
    "    df.sort_index(inplace = True)\n",
    "    \n",
    "    return df"
   ]
  },
  {
   "cell_type": "code",
   "execution_count": 42,
   "metadata": {},
   "outputs": [],
   "source": [
    "walmex = importar_bloomberg('walmex')"
   ]
  },
  {
   "cell_type": "code",
   "execution_count": 43,
   "metadata": {},
   "outputs": [
    {
     "data": {
      "text/html": [
       "<div>\n",
       "<style scoped>\n",
       "    .dataframe tbody tr th:only-of-type {\n",
       "        vertical-align: middle;\n",
       "    }\n",
       "\n",
       "    .dataframe tbody tr th {\n",
       "        vertical-align: top;\n",
       "    }\n",
       "\n",
       "    .dataframe thead th {\n",
       "        text-align: right;\n",
       "    }\n",
       "</style>\n",
       "<table border=\"1\" class=\"dataframe\">\n",
       "  <thead>\n",
       "    <tr style=\"text-align: right;\">\n",
       "      <th></th>\n",
       "      <th>Apertura</th>\n",
       "      <th>Maximo</th>\n",
       "      <th>Minimo</th>\n",
       "      <th>Cierre</th>\n",
       "    </tr>\n",
       "    <tr>\n",
       "      <th>Date</th>\n",
       "      <th></th>\n",
       "      <th></th>\n",
       "      <th></th>\n",
       "      <th></th>\n",
       "    </tr>\n",
       "  </thead>\n",
       "  <tbody>\n",
       "    <tr>\n",
       "      <th>2019-09-30</th>\n",
       "      <td>58.41</td>\n",
       "      <td>58.99</td>\n",
       "      <td>58.34</td>\n",
       "      <td>58.48</td>\n",
       "    </tr>\n",
       "    <tr>\n",
       "      <th>2019-10-01</th>\n",
       "      <td>58.49</td>\n",
       "      <td>59.14</td>\n",
       "      <td>58.25</td>\n",
       "      <td>58.48</td>\n",
       "    </tr>\n",
       "    <tr>\n",
       "      <th>2019-10-02</th>\n",
       "      <td>58.18</td>\n",
       "      <td>58.19</td>\n",
       "      <td>57.10</td>\n",
       "      <td>57.40</td>\n",
       "    </tr>\n",
       "    <tr>\n",
       "      <th>2019-10-03</th>\n",
       "      <td>57.40</td>\n",
       "      <td>58.31</td>\n",
       "      <td>57.11</td>\n",
       "      <td>58.19</td>\n",
       "    </tr>\n",
       "    <tr>\n",
       "      <th>2019-10-04</th>\n",
       "      <td>58.08</td>\n",
       "      <td>59.05</td>\n",
       "      <td>57.96</td>\n",
       "      <td>58.92</td>\n",
       "    </tr>\n",
       "  </tbody>\n",
       "</table>\n",
       "</div>"
      ],
      "text/plain": [
       "            Apertura  Maximo  Minimo  Cierre\n",
       "Date                                        \n",
       "2019-09-30     58.41   58.99   58.34   58.48\n",
       "2019-10-01     58.49   59.14   58.25   58.48\n",
       "2019-10-02     58.18   58.19   57.10   57.40\n",
       "2019-10-03     57.40   58.31   57.11   58.19\n",
       "2019-10-04     58.08   59.05   57.96   58.92"
      ]
     },
     "execution_count": 43,
     "metadata": {},
     "output_type": "execute_result"
    }
   ],
   "source": [
    "walmex.tail()"
   ]
  },
  {
   "cell_type": "markdown",
   "metadata": {},
   "source": [
    "### <font color='navygray'>2.2 Crear columna de retornos diarios</font>"
   ]
  },
  {
   "cell_type": "markdown",
   "metadata": {},
   "source": [
    "### <font color='navygray'>2.3 Calcular retornos diarios</font>\n",
    "\n",
    "Para calcular los retornos diarios, utilizaremos el retorno algorítmico en lugar del retorno aritmétrico....\n",
    "\n",
    "$$RetLogarítmico = ln(Precio_n) - ln(Precio_{n-1})$$<br>\n",
    "$$ =ln\\frac{Precio_n}{Precio_{n-1}}$$\n",
    "\n",
    "\n",
    "* **_log_**:  Es la función de  *__NumPy__*, para calcular el logarítmo natural.  La función del logarítmo base 10 es *__log10__*.\n",
    "* **_.shift(n)_**:  Es un método de *__pandas__*, que sirve para subir (bajar) n renglones (-n renglones)."
   ]
  },
  {
   "cell_type": "code",
   "execution_count": 45,
   "metadata": {},
   "outputs": [],
   "source": [
    "walmex['Ret'] = np.log(walmex['Cierre']/walmex['Cierre'].shift(1))"
   ]
  },
  {
   "cell_type": "code",
   "execution_count": 46,
   "metadata": {},
   "outputs": [
    {
     "data": {
      "text/html": [
       "<div>\n",
       "<style scoped>\n",
       "    .dataframe tbody tr th:only-of-type {\n",
       "        vertical-align: middle;\n",
       "    }\n",
       "\n",
       "    .dataframe tbody tr th {\n",
       "        vertical-align: top;\n",
       "    }\n",
       "\n",
       "    .dataframe thead th {\n",
       "        text-align: right;\n",
       "    }\n",
       "</style>\n",
       "<table border=\"1\" class=\"dataframe\">\n",
       "  <thead>\n",
       "    <tr style=\"text-align: right;\">\n",
       "      <th></th>\n",
       "      <th>Apertura</th>\n",
       "      <th>Maximo</th>\n",
       "      <th>Minimo</th>\n",
       "      <th>Cierre</th>\n",
       "      <th>Ret</th>\n",
       "    </tr>\n",
       "    <tr>\n",
       "      <th>Date</th>\n",
       "      <th></th>\n",
       "      <th></th>\n",
       "      <th></th>\n",
       "      <th></th>\n",
       "      <th></th>\n",
       "    </tr>\n",
       "  </thead>\n",
       "  <tbody>\n",
       "    <tr>\n",
       "      <th>2010-01-04</th>\n",
       "      <td>29.95</td>\n",
       "      <td>30.100</td>\n",
       "      <td>29.155</td>\n",
       "      <td>29.780</td>\n",
       "      <td>NaN</td>\n",
       "    </tr>\n",
       "    <tr>\n",
       "      <th>2010-01-05</th>\n",
       "      <td>29.78</td>\n",
       "      <td>30.585</td>\n",
       "      <td>29.690</td>\n",
       "      <td>30.365</td>\n",
       "      <td>0.019454</td>\n",
       "    </tr>\n",
       "    <tr>\n",
       "      <th>2010-01-06</th>\n",
       "      <td>30.35</td>\n",
       "      <td>30.500</td>\n",
       "      <td>30.145</td>\n",
       "      <td>30.365</td>\n",
       "      <td>0.000000</td>\n",
       "    </tr>\n",
       "    <tr>\n",
       "      <th>2010-01-07</th>\n",
       "      <td>30.50</td>\n",
       "      <td>30.500</td>\n",
       "      <td>29.755</td>\n",
       "      <td>29.805</td>\n",
       "      <td>-0.018614</td>\n",
       "    </tr>\n",
       "    <tr>\n",
       "      <th>2010-01-08</th>\n",
       "      <td>29.88</td>\n",
       "      <td>29.880</td>\n",
       "      <td>29.500</td>\n",
       "      <td>29.680</td>\n",
       "      <td>-0.004203</td>\n",
       "    </tr>\n",
       "  </tbody>\n",
       "</table>\n",
       "</div>"
      ],
      "text/plain": [
       "            Apertura  Maximo  Minimo  Cierre       Ret\n",
       "Date                                                  \n",
       "2010-01-04     29.95  30.100  29.155  29.780       NaN\n",
       "2010-01-05     29.78  30.585  29.690  30.365  0.019454\n",
       "2010-01-06     30.35  30.500  30.145  30.365  0.000000\n",
       "2010-01-07     30.50  30.500  29.755  29.805 -0.018614\n",
       "2010-01-08     29.88  29.880  29.500  29.680 -0.004203"
      ]
     },
     "execution_count": 46,
     "metadata": {},
     "output_type": "execute_result"
    }
   ],
   "source": [
    "walmex.head()"
   ]
  },
  {
   "cell_type": "code",
   "execution_count": 47,
   "metadata": {},
   "outputs": [],
   "source": [
    "walmex.dropna(inplace=True)"
   ]
  },
  {
   "cell_type": "code",
   "execution_count": 48,
   "metadata": {},
   "outputs": [
    {
     "data": {
      "text/html": [
       "<div>\n",
       "<style scoped>\n",
       "    .dataframe tbody tr th:only-of-type {\n",
       "        vertical-align: middle;\n",
       "    }\n",
       "\n",
       "    .dataframe tbody tr th {\n",
       "        vertical-align: top;\n",
       "    }\n",
       "\n",
       "    .dataframe thead th {\n",
       "        text-align: right;\n",
       "    }\n",
       "</style>\n",
       "<table border=\"1\" class=\"dataframe\">\n",
       "  <thead>\n",
       "    <tr style=\"text-align: right;\">\n",
       "      <th></th>\n",
       "      <th>Apertura</th>\n",
       "      <th>Maximo</th>\n",
       "      <th>Minimo</th>\n",
       "      <th>Cierre</th>\n",
       "      <th>Ret</th>\n",
       "    </tr>\n",
       "    <tr>\n",
       "      <th>Date</th>\n",
       "      <th></th>\n",
       "      <th></th>\n",
       "      <th></th>\n",
       "      <th></th>\n",
       "      <th></th>\n",
       "    </tr>\n",
       "  </thead>\n",
       "  <tbody>\n",
       "    <tr>\n",
       "      <th>2019-09-30</th>\n",
       "      <td>58.41</td>\n",
       "      <td>58.99</td>\n",
       "      <td>58.34</td>\n",
       "      <td>58.48</td>\n",
       "      <td>0.002225</td>\n",
       "    </tr>\n",
       "    <tr>\n",
       "      <th>2019-10-01</th>\n",
       "      <td>58.49</td>\n",
       "      <td>59.14</td>\n",
       "      <td>58.25</td>\n",
       "      <td>58.48</td>\n",
       "      <td>0.000000</td>\n",
       "    </tr>\n",
       "    <tr>\n",
       "      <th>2019-10-02</th>\n",
       "      <td>58.18</td>\n",
       "      <td>58.19</td>\n",
       "      <td>57.10</td>\n",
       "      <td>57.40</td>\n",
       "      <td>-0.018641</td>\n",
       "    </tr>\n",
       "    <tr>\n",
       "      <th>2019-10-03</th>\n",
       "      <td>57.40</td>\n",
       "      <td>58.31</td>\n",
       "      <td>57.11</td>\n",
       "      <td>58.19</td>\n",
       "      <td>0.013669</td>\n",
       "    </tr>\n",
       "    <tr>\n",
       "      <th>2019-10-04</th>\n",
       "      <td>58.08</td>\n",
       "      <td>59.05</td>\n",
       "      <td>57.96</td>\n",
       "      <td>58.92</td>\n",
       "      <td>0.012467</td>\n",
       "    </tr>\n",
       "  </tbody>\n",
       "</table>\n",
       "</div>"
      ],
      "text/plain": [
       "            Apertura  Maximo  Minimo  Cierre       Ret\n",
       "Date                                                  \n",
       "2019-09-30     58.41   58.99   58.34   58.48  0.002225\n",
       "2019-10-01     58.49   59.14   58.25   58.48  0.000000\n",
       "2019-10-02     58.18   58.19   57.10   57.40 -0.018641\n",
       "2019-10-03     57.40   58.31   57.11   58.19  0.013669\n",
       "2019-10-04     58.08   59.05   57.96   58.92  0.012467"
      ]
     },
     "execution_count": 48,
     "metadata": {},
     "output_type": "execute_result"
    }
   ],
   "source": [
    "walmex.tail()"
   ]
  },
  {
   "cell_type": "code",
   "execution_count": 49,
   "metadata": {},
   "outputs": [
    {
     "data": {
      "text/plain": [
       "0.9785090664875695"
      ]
     },
     "execution_count": 49,
     "metadata": {},
     "output_type": "execute_result"
    }
   ],
   "source": [
    "np.exp(walmex['Ret'].sum())-1"
   ]
  },
  {
   "cell_type": "code",
   "execution_count": 50,
   "metadata": {},
   "outputs": [
    {
     "data": {
      "text/plain": [
       "0.9403918985674298"
      ]
     },
     "execution_count": 50,
     "metadata": {},
     "output_type": "execute_result"
    }
   ],
   "source": [
    "walmex['Cierre'].iloc[-1]/walmex['Cierre'].iloc[0] - 1"
   ]
  },
  {
   "cell_type": "markdown",
   "metadata": {},
   "source": [
    "### <font color='navygray'>2.4 Graficar</font>"
   ]
  },
  {
   "cell_type": "markdown",
   "metadata": {},
   "source": [
    "#### <font color='navygray'>Precio de cierre</font>"
   ]
  },
  {
   "cell_type": "code",
   "execution_count": 53,
   "metadata": {},
   "outputs": [
    {
     "data": {
      "text/plain": [
       "<matplotlib.axes._subplots.AxesSubplot at 0x11d02cf50>"
      ]
     },
     "execution_count": 53,
     "metadata": {},
     "output_type": "execute_result"
    },
    {
     "data": {
      "image/png": "[encoded data removed]",
      "text/plain": [
       "<Figure size 864x576 with 1 Axes>"
      ]
     },
     "metadata": {
      "needs_background": "light"
     },
     "output_type": "display_data"
    }
   ],
   "source": [
    "walmex['Cierre'].plot(figsize=(12,8), title='Precios Cierre WALMEX')"
   ]
  },
  {
   "cell_type": "markdown",
   "metadata": {},
   "source": [
    "#### <font color='navygray'>Retornos</font>"
   ]
  },
  {
   "cell_type": "code",
   "execution_count": 56,
   "metadata": {},
   "outputs": [
    {
     "data": {
      "text/plain": [
       "<matplotlib.axes._subplots.AxesSubplot at 0x11abd3450>"
      ]
     },
     "execution_count": 56,
     "metadata": {},
     "output_type": "execute_result"
    },
    {
     "data": {
      "image/png": "[encoded data removed]",
      "text/plain": [
       "<Figure size 864x288 with 1 Axes>"
      ]
     },
     "metadata": {
      "needs_background": "light"
     },
     "output_type": "display_data"
    }
   ],
   "source": [
    "walmex['Ret'].plot(figsize=(12,4), title='Retornos diarios WALMEX')"
   ]
  },
  {
   "cell_type": "markdown",
   "metadata": {},
   "source": [
    "#### <font color='navygray'>Histograma</font>"
   ]
  },
  {
   "cell_type": "code",
   "execution_count": 52,
   "metadata": {},
   "outputs": [
    {
     "data": {
      "text/plain": [
       "<matplotlib.axes._subplots.AxesSubplot at 0x11cac4450>"
      ]
     },
     "execution_count": 52,
     "metadata": {},
     "output_type": "execute_result"
    },
    {
     "data": {
      "image/png": "[encoded data removed]",
      "text/plain": [
       "<Figure size 864x432 with 1 Axes>"
      ]
     },
     "metadata": {
      "needs_background": "light"
     },
     "output_type": "display_data"
    }
   ],
   "source": [
    "walmex['Ret'].hist(figsize=(12,6), bins = 18)"
   ]
  },
  {
   "cell_type": "code",
   "execution_count": 58,
   "metadata": {},
   "outputs": [
    {
     "data": {
      "text/plain": [
       "<matplotlib.axes._subplots.AxesSubplot at 0x11b524f90>"
      ]
     },
     "execution_count": 58,
     "metadata": {},
     "output_type": "execute_result"
    },
    {
     "data": {
      "image/png": "[encoded data removed]",
      "text/plain": [
       "<Figure size 864x432 with 1 Axes>"
      ]
     },
     "metadata": {
      "needs_background": "light"
     },
     "output_type": "display_data"
    }
   ],
   "source": [
    "walmex['Ret'].plot(kind='hist', figsize=(12,6), bins = 18, title='Histograma')"
   ]
  }
 ],
 "metadata": {
  "kernelspec": {
   "display_name": "Python 3",
   "language": "python",
   "name": "python3"
  },
  "language_info": {
   "codemirror_mode": {
    "name": "ipython",
    "version": 3
   },
   "file_extension": ".py",
   "mimetype": "text/x-python",
   "name": "python",
   "nbconvert_exporter": "python",
   "pygments_lexer": "ipython3",
   "version": "3.7.4"
  }
 },
 "nbformat": 4,
 "nbformat_minor": 2
}
